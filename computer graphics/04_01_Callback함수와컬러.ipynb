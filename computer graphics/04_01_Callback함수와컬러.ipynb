{
 "cells": [
  {
   "cell_type": "markdown",
   "id": "478da012",
   "metadata": {},
   "source": [
    "# Callback functions and Color Values\n",
    "---"
   ]
  },
  {
   "cell_type": "markdown",
   "id": "3f563864",
   "metadata": {},
   "source": [
    "## GLFW 설명\n",
    "\n",
    "윈도우 시스템과 GLFW\n",
    "\n",
    "대화형 프로그램의 특성\n",
    "\n",
    "Event Loop Model\n",
    "\n",
    "- 콜백함수 도입\n",
    "    - 이벤트 프로그램 입장에서는 어떤 상황에 어떤 함수를 부르는지 미리 알고 있으니까 처리가 간결하고 효과적으로 일어남\n",
    "    \n",
    "    \n",
    "GLFW features 기능들\n",
    "- 초기화\n",
    "- 윈도우 관리\n",
    "- 콜백 등록(callback registration)\n",
    "    - 다양한 callback 제공\n",
    "    - 마우스, 키보드, 스크린 등의 이벤트 처리 가능\n",
    "    \n",
    "> 함수에 대한 제대로 된 이해를 하려면 documentation을 꼭 읽어야 한다.\n",
    "\n",
    "```cpp\n",
    "int glfwinit(void); //return GLFW_TRUE or GLFW_FALSE\n",
    "\n",
    "void glfwTerminate(void); // destroy all remaining windows and resources\n",
    "\n",
    "GLFWwindow* glfwCreateWindow(int width, int height, const char* title,\n",
    "                        CLFWmonitor* monitor\n",
    "```\n",
    "\n",
    "\n",
    "2개의 좌표계\n",
    "1. 윈도우 시스템 좌표계\n",
    "    - 프레임버퍼/픽셀 = 2차원 배열\n",
    "    - 정수 좌표 사용\n",
    "    - upper-left corner에 원점\n",
    "2. 3D 그래픽스 좌표계\n",
    "    - 수학에서 사용하는 3차원 좌표계\n",
    "    - 실수 좌표 사용\n",
    "    - lower-left 또는 corner에 원점\n",
    "    - 2개 다 쓴다."
   ]
  },
  {
   "cell_type": "markdown",
   "id": "0b4abe40",
   "metadata": {},
   "source": [
    "## Refresh callback\n",
    "\n",
    "refreesh callback\n",
    "\n",
    "GLFW refresh callback registeration\n",
    "\n",
    "\n",
    "refresh.c\n",
    "\n",
    "OpenGL: delayed execution"
   ]
  },
  {
   "cell_type": "markdown",
   "id": "69307ec5",
   "metadata": {},
   "source": [
    "## Keyboard callback "
   ]
  },
  {
   "cell_type": "markdown",
   "id": "3ac5cd29",
   "metadata": {},
   "source": [
    "## A theoretical view to the color\n"
   ]
  },
  {
   "cell_type": "markdown",
   "id": "1a2282be",
   "metadata": {},
   "source": [
    "## 컬러 이미지 저장 방식 "
   ]
  },
  {
   "cell_type": "markdown",
   "id": "dc881c14",
   "metadata": {},
   "source": [
    "## RGBA 컬러 모델 \n"
   ]
  },
  {
   "cell_type": "markdown",
   "id": "f1724e7f",
   "metadata": {},
   "source": [
    "## 컬러 변경 프로그램 \n",
    "\n",
    "- 내부 변수: GLfloat clr[4] {R, G, B, A}; // 0.933F, ..."
   ]
  }
 ],
 "metadata": {
  "kernelspec": {
   "display_name": "Python 3 (ipykernel)",
   "language": "python",
   "name": "python3"
  },
  "language_info": {
   "codemirror_mode": {
    "name": "ipython",
    "version": 3
   },
   "file_extension": ".py",
   "mimetype": "text/x-python",
   "name": "python",
   "nbconvert_exporter": "python",
   "pygments_lexer": "ipython3",
   "version": "3.9.13"
  },
  "toc": {
   "base_numbering": 1,
   "nav_menu": {},
   "number_sections": true,
   "sideBar": true,
   "skip_h1_title": false,
   "title_cell": "Table of Contents",
   "title_sidebar": "Contents",
   "toc_cell": false,
   "toc_position": {
    "height": "calc(100% - 180px)",
    "left": "10px",
    "top": "150px",
    "width": "303.837px"
   },
   "toc_section_display": true,
   "toc_window_display": true
  }
 },
 "nbformat": 4,
 "nbformat_minor": 5
}
