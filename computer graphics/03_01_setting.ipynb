{
 "cells": [
  {
   "cell_type": "markdown",
   "id": "f096f2b4",
   "metadata": {},
   "source": [
    "# OenGL 라이브러리 설치\n",
    "---"
   ]
  },
  {
   "cell_type": "markdown",
   "id": "b76b43a3",
   "metadata": {},
   "source": [
    "## 1.  "
   ]
  },
  {
   "cell_type": "markdown",
   "id": "0399ecac",
   "metadata": {},
   "source": [
    "## OpenGL, GLFW 설치\n",
    "Installing OpenGL programming libraries\n",
    "\n",
    "1. 그래픽 카드 제조사 확인\n",
    "장치관리자 >> 디스플레이 어댑터 >> 제조사, 모델 >> NVIDIA GeForce RTX 3050Ti Laptop GPU\n",
    "\n",
    "2. 그래픽 카드 드라이버 업\n"
   ]
  }
 ],
 "metadata": {
  "kernelspec": {
   "display_name": "Python 3 (ipykernel)",
   "language": "python",
   "name": "python3"
  },
  "language_info": {
   "codemirror_mode": {
    "name": "ipython",
    "version": 3
   },
   "file_extension": ".py",
   "mimetype": "text/x-python",
   "name": "python",
   "nbconvert_exporter": "python",
   "pygments_lexer": "ipython3",
   "version": "3.9.13"
  }
 },
 "nbformat": 4,
 "nbformat_minor": 5
}
