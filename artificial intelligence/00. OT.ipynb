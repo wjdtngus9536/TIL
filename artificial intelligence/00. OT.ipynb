{
 "cells": [
  {
   "cell_type": "markdown",
   "id": "b09a0c1d",
   "metadata": {},
   "source": [
    "# 00. OT\n",
    "---"
   ]
  },
  {
   "cell_type": "markdown",
   "id": "8e8ab0bf",
   "metadata": {},
   "source": [
    "## 1. 강의 과목 소개\n",
    "\n",
    "- 강의 자료\n",
    "    - 교재 : 파이썬으로 만드는 인공지능, 오일석, 이진선, 한빛아카데미, 2021\n",
    "    - 슬라이드 : 한국어(대부분) + 영어(약간)\n",
    "    - 과제/시험 언어: 한국어\n",
    "    \n",
    "- 연락처\n",
    "    - 급하지 않은 경우 lms 메세지\n",
    "    - 급한 경우 e-mail : jongtaeklee@knu.ac.kr\n",
    "    - TA : 이상현, hyeon1263@naver.com\n",
    "    \n",
    "- 일정\n",
    "    - 중간고사 기간 4.17(월) ~ 21(금)\n",
    "    - 기말고사 기간 6.12(화), 보강일\n",
    "    - 과제 제출 6.19(월)\n",
    "    \n",
    "- 평가 방법\n",
    "    - 출석(26) - 10%\n",
    "    - 중간 - 30%\n",
    "    - 기말 - 30%\n",
    "    - 과제 - 30%\n",
    "    \n",
    "- Assignments\n",
    "    - chatGPT에 대한 고견, 쉽게 공부하면 쌓이는게 없다. 어렵게 공부하면 의욕이 사라진다.\n",
    "    - 자기 언어로 해석하려는 노력이 필요하다.\n",
    "    \n",
    "- 교재의 강의자료 링크가 있음\n",
    "- 저자 강의 동영상 링크 : bit.ly/2VJ1sgY\n",
    "\n",
    "- 6장까지 가볍게 공부해보기\n",
    "- "
   ]
  }
 ],
 "metadata": {
  "kernelspec": {
   "display_name": "Python 3 (ipykernel)",
   "language": "python",
   "name": "python3"
  },
  "language_info": {
   "codemirror_mode": {
    "name": "ipython",
    "version": 3
   },
   "file_extension": ".py",
   "mimetype": "text/x-python",
   "name": "python",
   "nbconvert_exporter": "python",
   "pygments_lexer": "ipython3",
   "version": "3.9.13"
  }
 },
 "nbformat": 4,
 "nbformat_minor": 5
}
