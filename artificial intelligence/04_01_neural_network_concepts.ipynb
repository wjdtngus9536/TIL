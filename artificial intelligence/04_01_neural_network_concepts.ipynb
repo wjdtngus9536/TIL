{
 "cells": [
  {
   "cell_type": "markdown",
   "id": "11453209",
   "metadata": {},
   "source": [
    "연산자 * : multiplication, asterisk  \n",
    "\n",
    "선형 조건 : \n",
    "- 가산성: f(x + y) = f(x) + f(y)\n",
    "- 동질성: f(ax) = af(x)\n",
    "\n",
    "\n",
    "이집트 전망, "
   ]
  },
  {
   "cell_type": "markdown",
   "id": "ff444062",
   "metadata": {},
   "source": [
    "## 인공 신경망 "
   ]
  },
  {
   "cell_type": "markdown",
   "id": "7ff28868",
   "metadata": {},
   "source": [
    "## 퍼셉트론"
   ]
  },
  {
   "cell_type": "markdown",
   "id": "ba968fc3",
   "metadata": {},
   "source": [
    "## 행렬 표기\n"
   ]
  },
  {
   "cell_type": "markdown",
   "id": "3b1e6479",
   "metadata": {},
   "source": [
    "## 사람의 학습과 신경망의 학습\n",
    "\n",
    "퍼셉트론의 학습\n",
    "- 데이터와 함께 데이터를 인식하는 퍼셉트론(가중치)이 주어짐, 즉 데이터로 학습을 마친 퍼셉트론이 주어짐\n",
    "- 실제 상황에서는 데이터만 주어지므로, 학습 알고리즘으로 가중치(w0,w1, ... , wd)를 알아내야 함\n",
    "- OR 데이터의 경우 2차원 특징 벡터이고 샘플이 4개 뿐이라 연필을 가지고 쉽게 가중치를 알아낼 수 있음\n",
    "- sklearn의 필기 숫자 데이터는 `64차원 특징 벡터`이고, `1,798개 샘플`을 가지므로 학습 알고리즘 없이 불가능\n",
    "\n"
   ]
  },
  {
   "cell_type": "code",
   "execution_count": null,
   "id": "a79d2523",
   "metadata": {},
   "outputs": [],
   "source": []
  }
 ],
 "metadata": {
  "kernelspec": {
   "display_name": "Python 3 (ipykernel)",
   "language": "python",
   "name": "python3"
  },
  "language_info": {
   "codemirror_mode": {
    "name": "ipython",
    "version": 3
   },
   "file_extension": ".py",
   "mimetype": "text/x-python",
   "name": "python",
   "nbconvert_exporter": "python",
   "pygments_lexer": "ipython3",
   "version": "3.9.13"
  },
  "toc": {
   "base_numbering": 1,
   "nav_menu": {},
   "number_sections": true,
   "sideBar": true,
   "skip_h1_title": false,
   "title_cell": "Table of Contents",
   "title_sidebar": "Contents",
   "toc_cell": false,
   "toc_position": {},
   "toc_section_display": true,
   "toc_window_display": false
  }
 },
 "nbformat": 4,
 "nbformat_minor": 5
}
