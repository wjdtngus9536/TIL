{
 "cells": [
  {
   "cell_type": "markdown",
   "id": "31838809",
   "metadata": {},
   "source": [
    "# Git & GitHub\n",
    "---"
   ]
  },
  {
   "cell_type": "markdown",
   "id": "894d890a",
   "metadata": {},
   "source": [
    "## Git/GitHub 1일차\n",
    "---\n",
    "\n",
    "git은 분산 버전 관리시스템\n",
    "\n",
    "git init  \n",
    "git add 파일명  \n",
    "git commit -m '커밋메세지'  \n",
    "> commit message 작성 표준이 있는지 조사해보기\n",
    "\n",
    "git log  \n",
    "git status  "
   ]
  },
  {
   "cell_type": "markdown",
   "id": "6ff9f985",
   "metadata": {},
   "source": [
    "### Git status\n",
    "#### 1. a.txt 파일을 만든 직후  \n",
    "```bash\n",
    "$ git status\n",
    "On branch master\n",
    "\n",
    "No commits yet\n",
    "\n",
    "# 트래킹이 되고 있지 않은 파일들 (Working directory에 있는 파일)\n",
    "Untracked files:\n",
    "  (use \"git add <file>...\" to include in what will be committed)\n",
    "        1.txt\n",
    "\n",
    "# 현재 커밋할 것은 없다.(Staging area에 아무것도 없다.), 그러나 트래킹 되지 않은 파일이 존재한다(Track하려면 git add를 사용해라)\n",
    "nothing added to commit but untracked files present (use \"git add\" to track)\n",
    "```"
   ]
  },
  {
   "cell_type": "markdown",
   "id": "b8788634",
   "metadata": {},
   "source": [
    "#### 2. b.txt 파일을 만들고 git add b.txt한 이후 \n",
    "```bash\n",
    "$ git status\n",
    "On branch master\n",
    "# commit될 변경사항들\n",
    "Changes to be committed:\n",
    "  (use \"git restore --staged <file>...\" to unstage)\n",
    "        new file:   b.txt\n",
    "\n",
    "Untracked files:\n",
    "  (use \"git add <file>...\" to include in what will be committed)\n",
    "        a.txt\n",
    "        git.txt\n",
    "```"
   ]
  },
  {
   "cell_type": "markdown",
   "id": "5b217c5c",
   "metadata": {},
   "source": [
    "#### 3. git add . 한 이후 commit까지\n",
    "```bash\n",
    "$ git status\n",
    "On branch master\n",
    "nothing to commit, working tree clean\n",
    "```"
   ]
  },
  {
   "cell_type": "markdown",
   "id": "9aea44a3",
   "metadata": {},
   "source": [
    "### Git 실습\n",
    "\n",
    "0. 사전설정 (PC 최초 한번)\n",
    "> GitHub ID & Email과 동일하게 작성해야지만 연동이 되는가? 아닌것 같은데?\n",
    "```bash\n",
    "$ git config --global user.name 'GitHub ID'\n",
    "$ git config --global user.email 'GitGub Email'\n",
    "```\n",
    "\n",
    "\n",
    "1.  바탕화면에 TIL 폴더 생성\n",
    " - TIL 폴더를 열어서 마크다운 정리 파일을 옮긴다.\n",
    " - VS Code를 연다.\n",
    " - New terminal 열기 -  Ctrl + Shift + backtick   \n",
    "\n",
    " \n",
    "2. TIL 폴더에 git repository를 만들어준다.\n",
    " - (master)가 된 모습을 확인한다.\n",
    " \n",
    " \n",
    "3. 커밋을 만든다.\n",
    " - git status\n",
    " - git add [버전으로 모을 파일들 추가]\n",
    " - git commit -m '마크다운 정리'\n",
    " - git log 까지\n",
    " "
   ]
  },
  {
   "cell_type": "markdown",
   "id": "99a3f11d",
   "metadata": {},
   "source": [
    "### 두 종류의 어려움에 대하여\n",
    "\n",
    "1. 환경이 익숙하지 않아 어려움\n",
    " - 해결법 : 반복 숙달\n",
    " \n",
    " \n",
    " 2. 개념이 익숙하지 않아 어려움 \n",
    "  - 해결법 : 스스로 개념을 정의\n",
    "  \n",
    "  \n",
    "### 주의사항\n",
    "\n",
    "1. (master) 있는 곳에서 git init을 하지 않는다.\n",
    "\n",
    "2. git 명령어를 입력할 때는 항상 디렉토리를 잘 확인하자\n",
    "\n",
    "3. 명령어의 결과 영어를 잘 읽자\n",
    "\n",
    "> (master)가 가리키는 것은 무엇인가?"
   ]
  },
  {
   "cell_type": "markdown",
   "id": "eea11fbc",
   "metadata": {},
   "source": [
    "## Git/GithHub 2일차\n",
    "---"
   ]
  },
  {
   "cell_type": "code",
   "execution_count": null,
   "id": "bf13866d",
   "metadata": {},
   "outputs": [],
   "source": []
  }
 ],
 "metadata": {
  "kernelspec": {
   "display_name": "Python 3 (ipykernel)",
   "language": "python",
   "name": "python3"
  },
  "language_info": {
   "codemirror_mode": {
    "name": "ipython",
    "version": 3
   },
   "file_extension": ".py",
   "mimetype": "text/x-python",
   "name": "python",
   "nbconvert_exporter": "python",
   "pygments_lexer": "ipython3",
   "version": "3.9.13"
  }
 },
 "nbformat": 4,
 "nbformat_minor": 5
}
