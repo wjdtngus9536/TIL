{
 "cells": [
  {
   "cell_type": "markdown",
   "id": "a5b27c2f",
   "metadata": {},
   "source": [
    "# 2.10 리스트와 반복문을 사용하여 계산하기\n",
    "---\n"
   ]
  },
  {
   "cell_type": "code",
   "execution_count": 1,
   "id": "525a06cb",
   "metadata": {},
   "outputs": [
    {
     "name": "stdout",
     "output_type": "stream",
     "text": [
      "86.5\n"
     ]
    }
   ],
   "source": [
    "import numpy\n",
    "\n",
    "a = [90, 85, 95, 80, 90, 100, 85, 75, 85, 80]\n",
    "print(numpy.mean(a))"
   ]
  },
  {
   "cell_type": "markdown",
   "id": "dc460439",
   "metadata": {},
   "source": [
    "## 1. enumerate(열거하다, 낱낱이 세다) 함수\n",
    "반복문에서 append 메서드를 쓰면 계산 속도가 저하된다. 이때는 미리 저장 공간을 만들어 놓고 해당 위치에 계산 결과를 갱신해야 한다.\n",
    "> enumerate 명령은 **리스트의 원소를 반복하면서 동시에 인덱스 값도 생성**한다.\n",
    "\n"
   ]
  },
  {
   "cell_type": "code",
   "execution_count": 23,
   "id": "4b12719a",
   "metadata": {},
   "outputs": [
    {
     "data": {
      "text/plain": [
       "[(0, 90),\n",
       " (1, 85),\n",
       " (2, 95),\n",
       " (3, 80),\n",
       " (4, 90),\n",
       " (5, 100),\n",
       " (6, 85),\n",
       " (7, 75),\n",
       " (8, 85),\n",
       " (9, 80)]"
      ]
     },
     "execution_count": 23,
     "metadata": {},
     "output_type": "execute_result"
    }
   ],
   "source": [
    "list(enumerate(a))"
   ]
  },
  {
   "cell_type": "code",
   "execution_count": 6,
   "id": "145b2673",
   "metadata": {},
   "outputs": [
    {
     "name": "stdout",
     "output_type": "stream",
     "text": [
      "[(0, 0), (1, 1), (2, 2), (3, 3), (4, 4), (5, 5), (6, 6), (7, 7), (8, 8), (9, 9)]\n"
     ]
    }
   ],
   "source": [
    "print(list(enumerate(range(10))))"
   ]
  },
  {
   "cell_type": "code",
   "execution_count": 6,
   "id": "4c8f9d17",
   "metadata": {},
   "outputs": [
    {
     "name": "stdout",
     "output_type": "stream",
     "text": [
      "[185, 175, 185, 170, 185, 200, 175, 155, 180, 170]\n"
     ]
    }
   ],
   "source": [
    "# 반복문에서 append 메서드를 쓰면 계산 속도가 저하된다. \n",
    "# 이때는 미리 저장 공간을 만들어 놓고 해당 위치에 계산 결과를 갱신해야 한다.\n",
    "\n",
    "s = [0, 0, 0, 0, 0, 0, 0, 0, 0, 0]\n",
    "a1 = [90, 85, 95, 80, 90, 100, 85, 75, 85, 80]\n",
    "a2 = [95, 90, 90, 90, 95, 100, 90, 80, 95, 90]\n",
    "for i, (a1i, a2i) in enumerate(zip(a1, a2)):\n",
    "    s[i] = a1i + a2i\n",
    "    \n",
    "print(s)"
   ]
  },
  {
   "cell_type": "code",
   "execution_count": 8,
   "id": "ef699745",
   "metadata": {},
   "outputs": [
    {
     "name": "stdout",
     "output_type": "stream",
     "text": [
      "52.7\n"
     ]
    }
   ],
   "source": [
    "X = [[85,  90,  20,  50,  60,  25,  30,  75,  40,  55],\n",
    "     [70, 100,  70,  70,  55,  75,  55,  60,  40,  45],\n",
    "     [25,  65,  15,  25,  20,   5,  60,  70,  35,  10],\n",
    "     [80,  45,  80,  40,  75,  35,  80,  55,  70,  90],\n",
    "     [35,  50,  75,  25,  35,  70,  65,  50,  70,  10]]\n",
    "\n",
    "print(numpy.mean(X))"
   ]
  },
  {
   "cell_type": "code",
   "execution_count": 4,
   "id": "c41df6ce",
   "metadata": {},
   "outputs": [
    {
     "name": "stdout",
     "output_type": "stream",
     "text": [
      "[0, 0, 0, 0, 0]\n"
     ]
    }
   ],
   "source": [
    "s = [0]\n",
    "s *= 5 # 리스트에 사칙연산을 하면 리스트의 길이가 바뀜. numpy.ndarray는 벡터화 연산이 가능\n",
    "print(s)"
   ]
  },
  {
   "cell_type": "code",
   "execution_count": 15,
   "id": "ad99dd0d",
   "metadata": {},
   "outputs": [
    {
     "name": "stdout",
     "output_type": "stream",
     "text": [
      "3.4\n"
     ]
    }
   ],
   "source": [
    "# 연습 문제 2.10.1\n",
    "\n",
    "s = 0\n",
    "X = [4, 3, 2, 3, 4]\n",
    "W = [3, 3, 1, 2, 2]\n",
    "\n",
    "for i, (x, w) in enumerate(zip(X, W)):\n",
    "    s = s + x * w\n",
    "\n",
    "print('{:.2}'.format(s / sum(W)))"
   ]
  },
  {
   "cell_type": "markdown",
   "id": "c811dbc9",
   "metadata": {},
   "source": [
    "## 2. Zip 함수\n",
    ">zip 함수는 두 개의 리스트를 합쳐서 각 리스트 원소의 쌍을 원소로 가지는 하나의 리스트를 만든다.  \n",
    "파이썬 3에서는 명시적으로 list 명령을 사용해야 리스트가 된다."
   ]
  },
  {
   "cell_type": "code",
   "execution_count": 8,
   "id": "08ee7199",
   "metadata": {},
   "outputs": [
    {
     "data": {
      "text/plain": [
       "[(90, 95),\n",
       " (85, 90),\n",
       " (95, 90),\n",
       " (80, 90),\n",
       " (90, 95),\n",
       " (100, 100),\n",
       " (85, 90),\n",
       " (75, 80),\n",
       " (85, 95),\n",
       " (80, 90)]"
      ]
     },
     "execution_count": 8,
     "metadata": {},
     "output_type": "execute_result"
    }
   ],
   "source": [
    "list(zip(a1, a2))"
   ]
  },
  {
   "cell_type": "code",
   "execution_count": 16,
   "id": "ec0e0dd8",
   "metadata": {},
   "outputs": [
    {
     "name": "stdout",
     "output_type": "stream",
     "text": [
      "[(90, 95), (85, 90), (95, 90), (80, 90), (90, 95), (100, 100), (85, 90), (75, 80), (85, 95), (80, 90)]\n"
     ]
    }
   ],
   "source": [
    "a12 = list(zip(a1, a2))\n",
    "print(a12)"
   ]
  },
  {
   "cell_type": "code",
   "execution_count": 17,
   "id": "e1ed4c46",
   "metadata": {},
   "outputs": [
    {
     "name": "stdout",
     "output_type": "stream",
     "text": [
      "[185, 175, 185, 170, 185, 200, 175, 155, 180, 170]\n"
     ]
    }
   ],
   "source": [
    "# 모든 학생의 두 과목 성적의 합\n",
    "\n",
    "s = list()\n",
    "for i, j in zip(a1, a2):\n",
    "    s.append(i + j)\n",
    "    \n",
    "print(s)"
   ]
  },
  {
   "cell_type": "markdown",
   "id": "01bc7ffe",
   "metadata": {},
   "source": [
    "- zip 함수를 사용할 때 리스트의 리스트 인수를 하나만 넣고 인수의 앞에 * 기호를 붙이면 리스트 쌍을 바꾼다."
   ]
  },
  {
   "cell_type": "code",
   "execution_count": 21,
   "id": "5f686eb8",
   "metadata": {},
   "outputs": [
    {
     "name": "stdout",
     "output_type": "stream",
     "text": [
      "<zip object at 0x0000013CF030F480>\n",
      "[(90, 85, 95, 80, 90, 100, 85, 75, 85, 80), (95, 90, 90, 90, 95, 100, 90, 80, 95, 90)]\n",
      "\n",
      "[(90, 95), (85, 90), (95, 90), (80, 90), (90, 95), (100, 100), (85, 90), (75, 80), (85, 95), (80, 90)]\n"
     ]
    }
   ],
   "source": [
    "print(zip(*a12))\n",
    "\n",
    "a21 = list(zip(*a12))\n",
    "print(a21)\n",
    "print()\n",
    "print(list(zip(*a21)))"
   ]
  },
  {
   "cell_type": "code",
   "execution_count": 24,
   "id": "c6d2a4db",
   "metadata": {},
   "outputs": [
    {
     "name": "stdout",
     "output_type": "stream",
     "text": [
      "1 A a\n",
      "2 B b\n",
      "3 C c\n",
      "4 D d\n",
      "5 E e\n"
     ]
    }
   ],
   "source": [
    "# zip(iterable object1, iter_obj2, iter_obj3)\n",
    "\n",
    "for number, upper, lower in zip(\"12345\", \"ABCDE\", \"abcde\"):\n",
    "    print(number, upper, lower)"
   ]
  },
  {
   "cell_type": "code",
   "execution_count": 10,
   "id": "5cbd7035",
   "metadata": {},
   "outputs": [
    {
     "name": "stdout",
     "output_type": "stream",
     "text": [
      "('길동', '철수', '영수', '방자')\n",
      "('길동', '철수', '영수', '방자')\n"
     ]
    }
   ],
   "source": [
    "# 연습 문제 2.10.3\n",
    "# 복수 할당과 zip 명령을 사용하여 이 변수에서 학생 이름만 있는 변수를 만들어라.\n",
    "x = [\n",
    "  [\"길동\", 90],\n",
    "  [\"철수\", 80],\n",
    "  [\"영수\", 70],\n",
    "  [\"방자\", 60],\n",
    "]\n",
    "\n",
    "# 복수할당으로 *2차원 리스트*를 1차원 리스트들로 분해\n",
    "x1, x2, x3, x4 = x\n",
    "\n",
    "# zip 명령어를 사용하여 각 리스트를 병렬(튜플)로 출력한 리스트 생성\n",
    "x14 = list(zip(x1, x2, x3, x4))\n",
    "print(x14[0])\n",
    "\n",
    "# 복수 할당으로 각 튜플을 할당(학생 이름만 있는 변수 생성)\n",
    "names, scores = x14\n",
    "\n",
    "print(names)"
   ]
  },
  {
   "cell_type": "code",
   "execution_count": null,
   "id": "ba709fd0",
   "metadata": {},
   "outputs": [],
   "source": []
  }
 ],
 "metadata": {
  "kernelspec": {
   "display_name": "Python 3 (ipykernel)",
   "language": "python",
   "name": "python3"
  },
  "language_info": {
   "codemirror_mode": {
    "name": "ipython",
    "version": 3
   },
   "file_extension": ".py",
   "mimetype": "text/x-python",
   "name": "python",
   "nbconvert_exporter": "python",
   "pygments_lexer": "ipython3",
   "version": "3.9.13"
  }
 },
 "nbformat": 4,
 "nbformat_minor": 5
}
