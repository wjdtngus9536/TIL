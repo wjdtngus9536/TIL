{
 "cells": [
  {
   "cell_type": "markdown",
   "id": "f2d6e814",
   "metadata": {},
   "source": [
    "# 2.3 파이썬으로 글자를 출력하기\n",
    "---"
   ]
  },
  {
   "cell_type": "code",
   "execution_count": 2,
   "id": "9ac609e3",
   "metadata": {},
   "outputs": [
    {
     "name": "stdout",
     "output_type": "stream",
     "text": [
      "내 이름은 홍길동입니다.\n",
      "**********\n"
     ]
    }
   ],
   "source": [
    "# 문자열 연산\n",
    "print(\"내 이름은 \" + \"홍길동\" + \"입니다.\")\n",
    "print(\"*\" * 10)"
   ]
  },
  {
   "cell_type": "code",
   "execution_count": 3,
   "id": "c6452884",
   "metadata": {},
   "outputs": [
    {
     "name": "stdout",
     "output_type": "stream",
     "text": [
      "10번 출력합니다.\n",
      "**********\n"
     ]
    }
   ],
   "source": [
    "# 숫자 > 문자열\n",
    "n = 10\n",
    "print(str(n)+\"번 출력합니다.\")\n",
    "print('*' * n)"
   ]
  },
  {
   "cell_type": "code",
   "execution_count": 4,
   "id": "69c5d918",
   "metadata": {},
   "outputs": [
    {
     "name": "stdout",
     "output_type": "stream",
     "text": [
      "한 줄 쓰고 이어서 쓴다,\n"
     ]
    }
   ],
   "source": [
    "# 줄을 바꾸지 않고 이어서 출력하기\n",
    "print(\"한 줄 쓰고 \", end='')\n",
    "print(\"이어서 쓴다,\")"
   ]
  },
  {
   "cell_type": "code",
   "execution_count": 5,
   "id": "82068224",
   "metadata": {},
   "outputs": [
    {
     "name": "stdout",
     "output_type": "stream",
     "text": [
      "내 이름은 홍길동입니다.\n"
     ]
    }
   ],
   "source": [
    "# 문자열 값을 가지는 변수\n",
    "# 변수에는 숫자뿐만 아니라 문자열도 넣을 수 있다.\n",
    "name = \"홍길동\"\n",
    "print(\"내 이름은 \" + name + \"입니다.\")"
   ]
  },
  {
   "cell_type": "code",
   "execution_count": 6,
   "id": "4e38a9fb",
   "metadata": {},
   "outputs": [
    {
     "name": "stdout",
     "output_type": "stream",
     "text": [
      "둘리가 \"호이!\"하고 말했어요.\n",
      "둘리가 '이제 어디로 가지?'하고 생각했어요.\n"
     ]
    }
   ],
   "source": [
    "# 따옴표를 출력하기\n",
    "print('둘리가 \"호이!\"하고 말했어요.')\n",
    "print(\"둘리가 '이제 어디로 가지?'하고 생각했어요.\")"
   ]
  },
  {
   "cell_type": "code",
   "execution_count": 7,
   "id": "5a9b2852",
   "metadata": {},
   "outputs": [
    {
     "name": "stdout",
     "output_type": "stream",
     "text": [
      "\n",
      "파이썬(영어: Python)은 1991년 프로그래머인 \n",
      "귀도 반 로섬(Guido van Rossum)이 발표한 고급 프로그래밍 언어로,\n",
      "플랫폼 독립적이며 인터프리터식, 객체지향적, 동적 타이핑(dynamically typed) \n",
      "대화형 언어이다. 파이썬이라는 이름은 귀도가 좋아하는 코미디 〈Monty Python's Flying \n",
      "Circus〉에서 따온 것이다.\n"
     ]
    }
   ],
   "source": [
    "# 여러 줄의 문자열 출력하기\n",
    "multi_line_string = \"\"\"\n",
    "파이썬(영어: Python)은 1991년 프로그래머인 \n",
    "귀도 반 로섬(Guido van Rossum)이 발표한 고급 프로그래밍 언어로,\n",
    "플랫폼 독립적이며 인터프리터식, 객체지향적, 동적 타이핑(dynamically typed) \n",
    "대화형 언어이다. 파이썬이라는 이름은 귀도가 좋아하는 코미디 〈Monty Python's Flying \n",
    "Circus〉에서 따온 것이다.\"\"\"\n",
    "\n",
    "print(multi_line_string)"
   ]
  },
  {
   "cell_type": "code",
   "execution_count": 4,
   "id": "2b2993ef",
   "metadata": {},
   "outputs": [
    {
     "name": "stdout",
     "output_type": "stream",
     "text": [
      "\n",
      "Beautiful is better than ugly.\n",
      "Explicit is better than implicit.\n",
      "Simple is better than complex.\n",
      "Complex is better than complicated.\n",
      "Flat is better than nested.\n",
      "Sparse is better than dense.\n",
      "@@@@@@\n",
      "@    @\n",
      "@    @\n",
      "@    @\n",
      "@@@@@@\n"
     ]
    }
   ],
   "source": [
    "# 연습문제 2.3.1\n",
    "\n",
    "# 1)\n",
    "a = \"\"\"\n",
    "Beautiful is better than ugly.\n",
    "Explicit is better than implicit.\n",
    "Simple is better than complex.\n",
    "Complex is better than complicated.\n",
    "Flat is better than nested.\n",
    "Sparse is better than dense.\"\"\"\n",
    "print(a)\n",
    "\n",
    "\n",
    "# 2) 문자열 변수 하나, 정수형 변수 하나 그리고 문자열의 덧셈과 곱셈 연산을 사용하여 다음 문자열을 출력한다.\n",
    "s = \"    \"\n",
    "n = 6\n",
    "print('@' * n)\n",
    "print('@' + s + '@')\n",
    "print('@' + s + '@')\n",
    "print('@' + s + '@')\n",
    "print('@' * n)"
   ]
  },
  {
   "cell_type": "code",
   "execution_count": 6,
   "id": "01155bff",
   "metadata": {},
   "outputs": [
    {
     "data": {
      "text/plain": [
       "'2023-02-22'"
      ]
     },
     "execution_count": 6,
     "metadata": {},
     "output_type": "execute_result"
    }
   ],
   "source": [
    "# 문자열 치환\n",
    "# 문자열에서 특정 문자를 다른 문자로 바꾸려면 replace 메서드를 사용한다.\n",
    "\"2023.02.22\".replace(\".\",\"-\")"
   ]
  }
 ],
 "metadata": {
  "kernelspec": {
   "display_name": "Python 3 (ipykernel)",
   "language": "python",
   "name": "python3"
  },
  "language_info": {
   "codemirror_mode": {
    "name": "ipython",
    "version": 3
   },
   "file_extension": ".py",
   "mimetype": "text/x-python",
   "name": "python",
   "nbconvert_exporter": "python",
   "pygments_lexer": "ipython3",
   "version": "3.9.13"
  }
 },
 "nbformat": 4,
 "nbformat_minor": 5
}
