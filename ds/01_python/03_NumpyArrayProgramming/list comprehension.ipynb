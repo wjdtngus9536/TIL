{
 "cells": [
  {
   "cell_type": "markdown",
   "id": "9975d316",
   "metadata": {},
   "source": [
    "## [Python의 꽃] 리스트 컴프리헨션(List Comprehension)\n",
    "---"
   ]
  },
  {
   "cell_type": "markdown",
   "id": "0ed3e222",
   "metadata": {},
   "source": [
    "## 1. 리스트 컴프리헨션(List Comprension)이란?\n",
    "> 리스트 컴프리헨션은 직관적으로 리스트를 생성하는 방법\n",
    "\n",
    "**리스트 컴프리헨션을 사용하는 큰 이유는 직관적이고, 여러줄 쓸걸 한줄에 만들어 주기 때문입니다. 심지어 속도도 더 빠릅니다.**"
   ]
  },
  {
   "cell_type": "markdown",
   "id": "e34dabf3",
   "metadata": {},
   "source": [
    "## 2. 기초 사용법 "
   ]
  },
  {
   "cell_type": "code",
   "execution_count": 1,
   "id": "6f4ef1d5",
   "metadata": {},
   "outputs": [
    {
     "data": {
      "text/plain": [
       "[0, 1, 2, 3, 4]"
      ]
     },
     "execution_count": 1,
     "metadata": {},
     "output_type": "execute_result"
    }
   ],
   "source": [
    "# 0 ~ 4 리스트 생성\n",
    "li = [i for i in range(5)]\n",
    "li"
   ]
  },
  {
   "cell_type": "code",
   "execution_count": 3,
   "id": "52647a19",
   "metadata": {},
   "outputs": [
    {
     "data": {
      "text/plain": [
       "[0, 1, 2, 3, 4, 5]"
      ]
     },
     "execution_count": 3,
     "metadata": {},
     "output_type": "execute_result"
    }
   ],
   "source": [
    "li = list(range(6))\n",
    "li\n",
    "# 이 방법이 더 효율적인 것 같습니다. \n",
    "# 하지만, 리스트 컴프리헨션을 사용하는 이유는 \n",
    "# 대괄호 내에서 수식이나 함수 적용뿐만 아니라, \n",
    "# if - else문으로 조건을 자유롭게 줄 수 있다는 점입니다."
   ]
  },
  {
   "cell_type": "markdown",
   "id": "560fdac7",
   "metadata": {},
   "source": [
    "## 3. 응용\n",
    "\n",
    "### 1) 수식 적용"
   ]
  },
  {
   "cell_type": "code",
   "execution_count": 5,
   "id": "8e60c116",
   "metadata": {},
   "outputs": [
    {
     "data": {
      "text/plain": [
       "[0, 10, 20, 30, 40]"
      ]
     },
     "execution_count": 5,
     "metadata": {},
     "output_type": "execute_result"
    }
   ],
   "source": [
    "# 10의 배수 리스트 생성\n",
    "li = [i * 10 for i in range(5)]\n",
    "li"
   ]
  },
  {
   "cell_type": "markdown",
   "id": "64a799c8",
   "metadata": {},
   "source": [
    "### 2) 함수 적용 "
   ]
  },
  {
   "cell_type": "code",
   "execution_count": 6,
   "id": "670cdf8f",
   "metadata": {},
   "outputs": [
    {
     "data": {
      "text/plain": [
       "['0ab', '1ab', '2ab', '3ab', '4ab']"
      ]
     },
     "execution_count": 6,
     "metadata": {},
     "output_type": "execute_result"
    }
   ],
   "source": [
    "# 문자열로 바꿔 'ab'를 추가하여 반환한 리스트 생성\n",
    "def f(x):\n",
    "    x = str(x) + 'ab'\n",
    "    return x\n",
    "\n",
    "li = [f(i) for i in range(5)]\n",
    "li"
   ]
  },
  {
   "cell_type": "markdown",
   "id": "463d8c67",
   "metadata": {},
   "source": [
    "### 3) 조건문 사용\n",
    "> list 컴프리헨션을 쓰다 보면 이 조건문을 쓰는 게 매우 편리"
   ]
  },
  {
   "cell_type": "code",
   "execution_count": 7,
   "id": "94c75e60",
   "metadata": {},
   "outputs": [
    {
     "data": {
      "text/plain": [
       "[0, 2, 4]"
      ]
     },
     "execution_count": 7,
     "metadata": {},
     "output_type": "execute_result"
    }
   ],
   "source": [
    "# 1.1) 오른쪽에 if문 사용\n",
    "li = [i for i in range(5) if i % 2 == 0]\n",
    "li"
   ]
  },
  {
   "cell_type": "code",
   "execution_count": 9,
   "id": "35db02d9",
   "metadata": {},
   "outputs": [
    {
     "data": {
      "text/plain": [
       "[0, 4]"
      ]
     },
     "execution_count": 9,
     "metadata": {},
     "output_type": "execute_result"
    }
   ],
   "source": [
    "# 1.2) if문 여러 개 사용하여 AND 조건 설정\n",
    "li = [i for i in range(5) if i % 2 == 0 if i % 4 == 0]\n",
    "li"
   ]
  },
  {
   "cell_type": "code",
   "execution_count": 11,
   "id": "a6c21666",
   "metadata": {},
   "outputs": [
    {
     "data": {
      "text/plain": [
       "[0, 'odd-1', 2, 'odd-3', 4, 'odd-3', 6, 'odd-3', 8, 'odd-3']"
      ]
     },
     "execution_count": 11,
     "metadata": {},
     "output_type": "execute_result"
    }
   ],
   "source": [
    "# 2.1) 왼쪽에 if문 사용(왼쪽에 if문을 사용할 때는 반드시 else와 함께 사용)\n",
    "\n",
    "li = [i if i % 2 == 0 else 'odd-1' if i == 1 else 'odd-3' for i in range(10)]\n",
    "li"
   ]
  },
  {
   "cell_type": "markdown",
   "id": "e9636284",
   "metadata": {},
   "source": [
    "#### ※ 왼쪽에 if else 문 여러 개 사용\n",
    "\n",
    "elif와 같은 효과를 주게 됨\n",
    "\n",
    "```python\n",
    "    if i % 2 == 0:\n",
    "        li.append(i)\n",
    "    else:\n",
    "        if i == 1:\n",
    "            li.append('odd-1')\n",
    "        else:\n",
    "            li.append('odd-3')          \n",
    "```"
   ]
  },
  {
   "cell_type": "markdown",
   "id": "35479499",
   "metadata": {},
   "source": [
    "### 4. for문 2개 사용"
   ]
  },
  {
   "cell_type": "code",
   "execution_count": 18,
   "id": "5c9945f3",
   "metadata": {},
   "outputs": [
    {
     "data": {
      "text/plain": [
       "[[0, 0], [0, 1], [0, 2], [1, 0], [1, 1], [1, 2]]"
      ]
     },
     "execution_count": 18,
     "metadata": {},
     "output_type": "execute_result"
    }
   ],
   "source": [
    "li = [[i, j] for i in range(2) for j in range(3)]\n",
    "li"
   ]
  },
  {
   "cell_type": "code",
   "execution_count": 19,
   "id": "d56f006e",
   "metadata": {},
   "outputs": [
    {
     "data": {
      "text/plain": [
       "{0, 1, 2, 3, 4}"
      ]
     },
     "execution_count": 19,
     "metadata": {},
     "output_type": "execute_result"
    }
   ],
   "source": [
    "# 집함 컴프리헨션(Set comprehension)\n",
    "\n",
    "se = {i for i in range(5)}\n",
    "se"
   ]
  },
  {
   "cell_type": "code",
   "execution_count": 20,
   "id": "3f430865",
   "metadata": {},
   "outputs": [
    {
     "data": {
      "text/plain": [
       "{0: 0, 1: 1, 2: 2, 3: 3, 4: 4}"
      ]
     },
     "execution_count": 20,
     "metadata": {},
     "output_type": "execute_result"
    }
   ],
   "source": [
    "# 딕셔너리 컴프리헨션(Dictionary comprehension)\n",
    "\n",
    "dict = {i:i for i in range(5)}\n",
    "dict"
   ]
  },
  {
   "cell_type": "code",
   "execution_count": null,
   "id": "632a2b16",
   "metadata": {},
   "outputs": [],
   "source": []
  }
 ],
 "metadata": {
  "kernelspec": {
   "display_name": "Python 3 (ipykernel)",
   "language": "python",
   "name": "python3"
  },
  "language_info": {
   "codemirror_mode": {
    "name": "ipython",
    "version": 3
   },
   "file_extension": ".py",
   "mimetype": "text/x-python",
   "name": "python",
   "nbconvert_exporter": "python",
   "pygments_lexer": "ipython3",
   "version": "3.9.13"
  }
 },
 "nbformat": 4,
 "nbformat_minor": 5
}
