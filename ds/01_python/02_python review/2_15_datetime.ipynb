{
 "cells": [
  {
   "cell_type": "code",
   "execution_count": 2,
   "id": "e9e7a65a",
   "metadata": {},
   "outputs": [],
   "source": [
    "import datetime as dt"
   ]
  },
  {
   "cell_type": "markdown",
   "id": "eaef7e93",
   "metadata": {},
   "source": [
    "## datetime 클래스\n",
    "패키지 이름과 클래스 이름이 같음\n",
    "다른 클래스와 달리 클래스 이름이 대문자로 시작하지 않음\n",
    "객체를 생성하지 않고도 바로 클래스에서 사용할 수 있는 클래스 메서드 제공 now()등"
   ]
  },
  {
   "cell_type": "code",
   "execution_count": 3,
   "id": "c363aa29",
   "metadata": {},
   "outputs": [
    {
     "data": {
      "text/plain": [
       "datetime.datetime(2023, 6, 29, 16, 23, 53, 761810)"
      ]
     },
     "execution_count": 3,
     "metadata": {},
     "output_type": "execute_result"
    }
   ],
   "source": [
    "x = dt.datetime.now()\n",
    "x"
   ]
  },
  {
   "cell_type": "code",
   "execution_count": 4,
   "id": "0f240c6f",
   "metadata": {},
   "outputs": [
    {
     "data": {
      "text/plain": [
       "2023"
      ]
     },
     "execution_count": 4,
     "metadata": {},
     "output_type": "execute_result"
    }
   ],
   "source": [
    "x.year"
   ]
  },
  {
   "cell_type": "code",
   "execution_count": 5,
   "id": "ef1c5f91",
   "metadata": {},
   "outputs": [
    {
     "data": {
      "text/plain": [
       "6"
      ]
     },
     "execution_count": 5,
     "metadata": {},
     "output_type": "execute_result"
    }
   ],
   "source": [
    "x.month"
   ]
  },
  {
   "cell_type": "code",
   "execution_count": 13,
   "id": "a7e96bce",
   "metadata": {},
   "outputs": [
    {
     "data": {
      "text/plain": [
       "'Thursday 29. June 2023'"
      ]
     },
     "execution_count": 13,
     "metadata": {},
     "output_type": "execute_result"
    }
   ],
   "source": [
    "# strftime\n",
    "\n",
    "x.strftime('%A %d. %B %Y')"
   ]
  },
  {
   "cell_type": "code",
   "execution_count": 14,
   "id": "7fabbc5b",
   "metadata": {},
   "outputs": [
    {
     "name": "stdout",
     "output_type": "stream",
     "text": [
      "16시 23분 53초\n"
     ]
    }
   ],
   "source": [
    "print(x.strftime('%H시 %M분 %S초'))"
   ]
  },
  {
   "cell_type": "code",
   "execution_count": null,
   "id": "a9ba1954",
   "metadata": {},
   "outputs": [],
   "source": []
  },
  {
   "cell_type": "markdown",
   "id": "199e9ce1",
   "metadata": {},
   "source": [
    "### strftime()\n",
    "\n",
    "`%Y` : 앞의 빈자리를 0으로 채우는 4자리 연도 숫자\n",
    "\n",
    "`%m` : 앞의 빈자리를 0으로 채우는 2자리 월 숫자\n",
    "`%d` : 앞의 빈자리를 0으로 채우는 2자리 일 숫자\n",
    "\n",
    "`%H %M %S` : 앞의 빈자리를 0으로 채우는 24시간 형싯 2자리 시간 숫자, 2자리 분 숫자, 2자리 초 숫자\n",
    "\n",
    "`%A` : 영어로 된 요일 문자열\n",
    "`%B` : 영어로 된 월 문자열\n"
   ]
  },
  {
   "cell_type": "code",
   "execution_count": null,
   "id": "9211cf37",
   "metadata": {},
   "outputs": [],
   "source": [
    "# practice 2.15.1\n",
    "'yyyy년 mm월 dd일 x요일'"
   ]
  }
 ],
 "metadata": {
  "kernelspec": {
   "display_name": "Python 3 (ipykernel)",
   "language": "python",
   "name": "python3"
  },
  "language_info": {
   "codemirror_mode": {
    "name": "ipython",
    "version": 3
   },
   "file_extension": ".py",
   "mimetype": "text/x-python",
   "name": "python",
   "nbconvert_exporter": "python",
   "pygments_lexer": "ipython3",
   "version": "3.9.0"
  },
  "toc": {
   "base_numbering": 1,
   "nav_menu": {},
   "number_sections": true,
   "sideBar": true,
   "skip_h1_title": false,
   "title_cell": "Table of Contents",
   "title_sidebar": "Contents",
   "toc_cell": false,
   "toc_position": {},
   "toc_section_display": true,
   "toc_window_display": false
  }
 },
 "nbformat": 4,
 "nbformat_minor": 5
}
