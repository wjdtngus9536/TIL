{
 "cells": [
  {
   "cell_type": "markdown",
   "id": "e1381d61",
   "metadata": {},
   "source": [
    "# Application Layer\n",
    "---\n",
    "\n",
    "overview\n",
    "- 네트워크 응용프로그램들의 원칙\n",
    "- Web and HTTP\n",
    "- E-mail, SMTP, IMAP\n",
    "- The Domain Name System DNS\n",
    "- P2P 응용 프로그램들\n",
    "- video streaming and content distribution networks\n",
    "- socket programming with UDP and TCP"
   ]
  },
  {
   "cell_type": "markdown",
   "id": "99d05b7e",
   "metadata": {},
   "source": [
    "## video streaming and content distribution networks\n",
    "\n",
    "video streaming and CDNs: contest\n",
    "`solution: distrubuted, application-level infrastructure`\n",
    "\n",
    "Multimedia: video\n",
    "\n",
    "Streming stored video\n",
    "\n",
    "Streaming stored video: challenges\n",
    "\n",
    "Streaming stored video: payout buffering\n",
    "\n",
    "### DASH\n",
    "\n",
    "Streaming multimedia : DASH\n",
    "- DASH(Dynamic Adaptive Streaming over HTTP)\n",
    "\n",
    "### CDNs\n",
    "\n",
    "- challenge : 어떻게 콘텐츠(수백만개의 비디오)를 10만 명의 simultaneous users에게\n",
    "\n",
    "- CDN : CDN nodes에서 콘텐츠 복사본을 저장\n",
    "\n"
   ]
  },
  {
   "attachments": {},
   "cell_type": "markdown",
   "id": "7e8a3840",
   "metadata": {},
   "source": [
    "## socket programming with UDP and TCP\n",
    "\n",
    "### 소켓 프로그래밍\n",
    "socket programming\n",
    "goal : 소켓을 사용해서 통신하는 어블리케이션들의 client와 server를 어떻게 만드는지 배우기\n",
    "\n",
    "2가지 통신 서비스를 위한 두 가지 소켓 타입\n",
    "- UDP : unreliable datagram \n",
    "- TCP : reliable, byte stream-oriented\n",
    "\n",
    "> Transport 계층의 목적 : 인터넷에서 제공하는 네트워크 서비스를 응용이 요구하는 서비스로 변환\n",
    "\n"
   ]
  },
  {
   "cell_type": "markdown",
   "id": "7f9b3be6",
   "metadata": {},
   "source": []
  }
 ],
 "metadata": {
  "kernelspec": {
   "display_name": "Python 3 (ipykernel)",
   "language": "python",
   "name": "python3"
  },
  "language_info": {
   "codemirror_mode": {
    "name": "ipython",
    "version": 3
   },
   "file_extension": ".py",
   "mimetype": "text/x-python",
   "name": "python",
   "nbconvert_exporter": "python",
   "pygments_lexer": "ipython3",
   "version": "3.9.16"
  },
  "toc": {
   "base_numbering": 1,
   "nav_menu": {},
   "number_sections": true,
   "sideBar": true,
   "skip_h1_title": false,
   "title_cell": "Table of Contents",
   "title_sidebar": "Contents",
   "toc_cell": false,
   "toc_position": {},
   "toc_section_display": true,
   "toc_window_display": false
  }
 },
 "nbformat": 4,
 "nbformat_minor": 5
}
