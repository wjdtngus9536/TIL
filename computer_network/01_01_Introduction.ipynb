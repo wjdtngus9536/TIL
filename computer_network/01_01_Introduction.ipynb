{
 "cells": [
  {
   "cell_type": "markdown",
   "id": "0218540b",
   "metadata": {},
   "source": [
    "# Introduction\n",
    "---\n",
    "\n",
    "챕터 목표:\n",
    "- 큰 그림을 잡고, 용어를 익힌다.\n",
    "- 접근 방식, 인터넷을 예시로 사용\n",
    "\n",
    "개요/로드맵:\n",
    "- 인터넷이란?\n",
    "- 프로토콜이란?\n",
    "- 네트워크 Edge : 호스트들, 네트워크 접근, 물리적 매체\n",
    "- 네트워크 Core : 패킷/서킷 스위칭, 인터넷 구조\n",
    "- 성능 : loss, delay, throughput\n",
    "- 보안\n",
    "- 프로토콜 계층, 서비스 모델들\n",
    "- 역사"
   ]
  },
  {
   "cell_type": "markdown",
   "id": "eb52f087",
   "metadata": {},
   "source": [
    "## What is the Internet?\n",
    "\n",
    "### The Internet : 요점 정리\n",
    "\n",
    "호스트들(hosts) = end systems\n",
    "    - 네트워크 앱들은 인터넷의 edge에서 돌아간다.\n",
    "\n",
    "패킷 스위치(Packet switches) : \n",
    "- 패킷을 보내는 것 (Chunks of data)\n",
    "> 청크는 PNG, IFF, MP3 및 AVI와 같은 많은 멀티미디어 파일 형식에서 사용되는 정보 조각입니다. 각 청크에는 일부 매개변수를 나타내는 헤더가 포함되어 있습니다. 헤더 다음은 데이터를 포함하는 가변 영역이며 헤더의 매개변수에서 프로그램에 의해 디코딩됩니다.\n",
    "\n",
    "통신 링크들(Communication links) : \n",
    "- Fiber(광섬유), Copper(구리선), 라디오, 위성\n",
    "- transmission rate = bandwidth(대역폭)\n",
    "> 대역폭은 특정한 기능을 수행할 수 있는 주파수의 범위로, 헤르츠 단위로 측정된다. 문맥에 따라 통과대역 대역폭로 부를 수 있다.\n",
    "\n",
    "네트워크(Networks) : \n",
    "- 장치들의 콜렉션, 라우터들,\n",
    "- 링크들은 조직에 의해 관리된다.\n",
    "\n",
    "인터넷 : \n",
    "- 네트워크들의 네트워크\n",
    "\n",
    "프로토콜(protocols)은 어디에나 있음\n",
    "- 메세지 송수진 조작\n",
    "- e.g., HTTP(web), streaming video, Skype, TCP, IP, WiFi, 4G, Ethernet\n",
    "\n",
    "인터넷 표준들 :\n",
    "- RFC : Request for Comments\n",
    "- IETF : Internet Engineering Task Force\n",
    "\n",
    "\n",
    "### The Internet : 서비스 측면\n",
    "\n",
    "1. application에 서비스를 제공하는 기반 시설(Infrastructure) :\n",
    "    - 웹, 스트리밍 비디오, 멀티미디어 원격회의, 이메일, 게임, 전자상거래, 소셜미디어, ...\n",
    "\n",
    "2. 분산된 어플리케이션들에게 프로그래밍 인터페이스를 제공 :\n",
    "    - Hooks : 인터넷 통신 서비스를 사용과 앱들의 연결을 위한 송수신을 허용\n",
    "        > hooking : 운영 체제나 응용 소프트웨어 등의 각종 컴퓨터 프로그램에서 소프트웨어 구성 요소 간에 발생하는 함수 호출, 메시지,    이벤트 등을 중간에서 바꾸거나 가로채는 명령, 방법, 기술이나 행위\n",
    "        \n",
    "        \n",
    "\n",
    "\n"
   ]
  },
  {
   "cell_type": "markdown",
   "id": "8d8a0bfd",
   "metadata": {},
   "source": [
    "## What is a Protocol?\n",
    "\n",
    "Human protocols : 몇 시야? 질문 있어  \n",
    "네트워크 프로토콜 : 인터넷에서 이뤄지는 모든 통신 행위는 프로토콜들에 의해 통치된다.\n",
    "- Protocols은 포맷, 네트워크 구성요소들 간의 메세지 송수신의 순서, 메세지 전송에 대한 `actions token`, receipt을 정의한다.\n",
    "- e.g., TCP connetction request >> TCP connection response >> GET(domain address) >> file"
   ]
  },
  {
   "cell_type": "markdown",
   "id": "dd547844",
   "metadata": {},
   "source": [
    "## Network edge\n",
    "hosts, access network, physical media\n",
    "\n",
    "### A c\n",
    "\n",
    "1. Network edge : \n",
    "    - hosts : 클라이언트들과 서버들\n",
    "    - 서버는 보통 데이터센터들에 있음\n",
    "    \n",
    "2. Access networks, physical media:\n",
    "    - wired, wirless communication links\n",
    "    \n",
    "3. Network core:\n",
    "    - 상호 연결된 라우터들\n",
    "    - 네트워크들(Internet Service Provider, e.g., 통신 3사)의 네트워크\n",
    "    \n"
   ]
  }
 ],
 "metadata": {
  "kernelspec": {
   "display_name": "Python 3 (ipykernel)",
   "language": "python",
   "name": "python3"
  },
  "language_info": {
   "codemirror_mode": {
    "name": "ipython",
    "version": 3
   },
   "file_extension": ".py",
   "mimetype": "text/x-python",
   "name": "python",
   "nbconvert_exporter": "python",
   "pygments_lexer": "ipython3",
   "version": "3.9.13"
  },
  "toc": {
   "base_numbering": 1,
   "nav_menu": {},
   "number_sections": true,
   "sideBar": true,
   "skip_h1_title": false,
   "title_cell": "Table of Contents",
   "title_sidebar": "Contents",
   "toc_cell": false,
   "toc_position": {
    "height": "calc(100% - 180px)",
    "left": "10px",
    "top": "150px",
    "width": "303.837px"
   },
   "toc_section_display": true,
   "toc_window_display": true
  }
 },
 "nbformat": 4,
 "nbformat_minor": 5
}
