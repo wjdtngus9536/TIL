{
 "cells": [
  {
   "cell_type": "markdown",
   "id": "719236d7",
   "metadata": {},
   "source": [
    "# Chapter 4 Network Layer: Data Plane\n",
    "---\n",
    "Network layer의 goal: 목적지에 도달하기 위해 상호 연결된 여러 네트워크를 통해 데이터 패킷을 라우팅(길 찾아가기, 어떤 경로로 가느냐)하고 전달하는 수단을 제공하는 것  \n",
    "데이터 전송을 위한 가장 효율적이고 신뢰할 수 있는 경로를 설정하고,  \n",
    "네트워크 정체를 관리하고,  \n",
    "해당 네트워크에서 사용되는 특정 데이터 링크 기술에 관계없이 서로 다른 네트워크에서 데이터 패킷을 안정적이고 시기 적절하게 전달하도록 보장합니다.  \n",
    "네트워크 계층은 또한 IP(인터넷 프로토콜) 주소와 같은 논리적 주소 지정을 제공하여 네트워크에서 장치를 고유하게 식별하고 서로 통신할 수 있도록 합니다.  \n",
    "요약하면 네트워크 계층의 주요 목적은 라우팅, 주소 지정 및 데이터 전송을 관리하여 서로 다른 네트워크에 있는 장치 간의 종단 간 통신을 가능하게 하는 것입니다.\n",
    "\n",
    "- Understand principles behind network layer services, focusing on data plane:\n",
    "    - network layer service models\n",
    "    - forwarding versus routing\n",
    "    - how a router works\n",
    "    - addressing\n",
    "    - generalized forwarding\n",
    "    - Internet architecture\n",
    "    \n",
    "- instantiation, implementation in the Internet\n",
    "    - IP protocol\n",
    "    - NAT, middleboxes\n",
    "    \n"
   ]
  },
  {
   "cell_type": "markdown",
   "id": "1ed83c2c",
   "metadata": {},
   "source": [
    "##  Network Layer : overview\n",
    "\n"
   ]
  },
  {
   "cell_type": "markdown",
   "id": "5b4240ec",
   "metadata": {},
   "source": [
    "## What's inside a router\n",
    "- input ports, switching, output ports\n",
    "- buffer management, scheduling\n",
    "\n",
    "4/11(화) ~ p.15\n",
    "\n",
    "라우터 구조 개요\n",
    "high-level view of generic router architecture\n",
    "\n",
    "Longest prefix matching\n",
    "우선순위가 높다\n",
    "\n",
    "\n",
    "데이터를 보내는 양에 따라 다 다르다. (p.37)"
   ]
  },
  {
   "cell_type": "markdown",
   "id": "f4ac1819",
   "metadata": {},
   "source": [
    "## IP : the internet protocol\n",
    "\n",
    "Network Layer : Internet\n",
    "host, router network layer functions:\n",
    "\n",
    "events : 전달을 못하겠다.\n",
    "\n",
    "> 라우터는 중간중간에서 checksome 계산을 새로해서 넣어야 한다. True >> why ? TTL이 바뀐다. header의 정보가 바뀌었으니 checksome을 다시 계산해야 하는 것이 맞다.\n",
    "\n",
    "\n",
    "> 라우터 : 서로 다른 네트워크 연결 (destination IP address)\n",
    "연결 후, A 네트워크와 B 네트워크는 다를 수 있다.(무선 - 유선), 종류가 다른 네트워크 연결 가능\n",
    "\n",
    "MTU MTU\n",
    "\n",
    "자르는 액션(fragmentation), 보내는 애만 가능한데 = version4는 중간에 잘라 준다?\n",
    "못자른다고 알려주는 건 version6\n",
    "\n",
    "\n",
    "> - R - R - - - R(destination)\n",
    " 나눠서 보냄, 조립을 해야 할까? False 박스를 나눠서 보냈는데 중간에서 조립하면 또 나눠야 하는데 나눌 이유가 없다. Destination에서 조립한다."
   ]
  }
 ],
 "metadata": {
  "kernelspec": {
   "display_name": "Python 3 (ipykernel)",
   "language": "python",
   "name": "python3"
  },
  "language_info": {
   "codemirror_mode": {
    "name": "ipython",
    "version": 3
   },
   "file_extension": ".py",
   "mimetype": "text/x-python",
   "name": "python",
   "nbconvert_exporter": "python",
   "pygments_lexer": "ipython3",
   "version": "3.9.16"
  },
  "toc": {
   "base_numbering": 1,
   "nav_menu": {},
   "number_sections": true,
   "sideBar": true,
   "skip_h1_title": false,
   "title_cell": "Table of Contents",
   "title_sidebar": "Contents",
   "toc_cell": false,
   "toc_position": {},
   "toc_section_display": true,
   "toc_window_display": false
  }
 },
 "nbformat": 4,
 "nbformat_minor": 5
}
