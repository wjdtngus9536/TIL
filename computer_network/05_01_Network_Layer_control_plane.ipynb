{
 "cells": [
  {
   "cell_type": "markdown",
   "id": "84fe778a",
   "metadata": {},
   "source": [
    "# NL:control plane \n",
    "---"
   ]
  },
  {
   "cell_type": "markdown",
   "id": "3335bca4",
   "metadata": {},
   "source": [
    "## routing protocols\n",
    "\n",
    "link state : 고정된 링크에 해당하는 것을 계속 전체에 뿌려주는 것\n",
    "다른 애들의 링크 정보를 수집해서 전체적인 Global view를 보는 것\n",
    "\n",
    "distance vector : 내 옆에 있는 애의 라우팅 테이블을 봐서 업데이트 하고\n",
    "이웃 노드에게도 업데이트 해주는 방식\n",
    "\n",
    "벨만 포드(Bellman-Ford equation) : dynamic programming에 많이 사용\n",
    "이웃 라우터에서 라우팅 테이블을 알려 주는데 서울 가는 방법이 여러 개\n",
    "작은 것을 선택하는 법\n",
    "Dx(y) = minv{Cx,v + Dv(y)}\n",
    "Cx,v = direct cost of link from x to v\n",
    "v's estimated least-cost-path cost to y"
   ]
  },
  {
   "attachments": {},
   "cell_type": "markdown",
   "id": "f433f148",
   "metadata": {},
   "source": [
    "## OSPF : insta-ISP routing\n",
    "\n",
    "ISP의 내부에서 사용하는 routing protocols\n",
    "\n",
    "ISP 내부의 게이트웨이 라는 게 밖에 있는 라우터에 전달\n",
    "게이트웨이들 끼리 연결을 가진다.(inter-ISP routing)"
   ]
  },
  {
   "cell_type": "markdown",
   "id": "7411f040",
   "metadata": {},
   "source": [
    "## BGP : routing among ISPs\n",
    "border gateway protocol : the **de facto** inter-domain routing protocol\n",
    "subnet이 나머지 인터넷에게 존재와 갈 수 있는 목적지들을 광고"
   ]
  },
  {
   "cell_type": "markdown",
   "id": "d472258c",
   "metadata": {},
   "source": [
    "## SDN control plane\n",
    "\n",
    "source routing : routing table에 의존하지 않고 어디로 가야할지 알려주고 출발\n",
    "segment routing(특정 도메인에서) SDN(software defined networking)에서 이것을 컨트롤, generalize forwarding 장비"
   ]
  }
 ],
 "metadata": {
  "kernelspec": {
   "display_name": "Python 3 (ipykernel)",
   "language": "python",
   "name": "python3"
  },
  "language_info": {
   "codemirror_mode": {
    "name": "ipython",
    "version": 3
   },
   "file_extension": ".py",
   "mimetype": "text/x-python",
   "name": "python",
   "nbconvert_exporter": "python",
   "pygments_lexer": "ipython3",
   "version": "3.9.16"
  },
  "toc": {
   "base_numbering": 1,
   "nav_menu": {},
   "number_sections": true,
   "sideBar": true,
   "skip_h1_title": false,
   "title_cell": "Table of Contents",
   "title_sidebar": "Contents",
   "toc_cell": false,
   "toc_position": {},
   "toc_section_display": true,
   "toc_window_display": false
  }
 },
 "nbformat": 4,
 "nbformat_minor": 5
}
