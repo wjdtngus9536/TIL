{
 "cells": [
  {
   "cell_type": "markdown",
   "id": "e0493534",
   "metadata": {},
   "source": [
    "# Transport Layer\n",
    "---\n",
    "\n",
    "overview  \n",
    "학습 목표:\n",
    "- TL services 뒤의 principles 이해\n",
    "    - multiplexing, demultiplexing\n",
    "    - reliable 데이터 전송\n",
    "    - 흐름 제어\n",
    "    - 혼잡 제어\n",
    "- 인터넷 TL 프로토콜 학습\n",
    "    - UDP : connectionless transport\n",
    "    - TCP : connection-oriented reliable transport\n",
    "    - TCP congestion control\n",
    "\n",
    "<br>\n",
    "\n",
    "Transport layer : 로드맵\n",
    "- TL 서비스들\n",
    "- 멀티플렉싱 & 디멀티플렉싱\n",
    "- 비연결 전송 UDP\n",
    "- principles of congestion control(혼잡 제어 원칙)"
   ]
  },
  {
   "cell_type": "markdown",
   "id": "9aeb48aa",
   "metadata": {},
   "source": [
    "## Transport services and protocols\n",
    "\n",
    "- provide `logical communication`"
   ]
  },
  {
   "cell_type": "markdown",
   "id": "6848c869",
   "metadata": {},
   "source": [
    "## Multiplexing and Demultiplexing \n",
    "\n"
   ]
  }
 ],
 "metadata": {
  "kernelspec": {
   "display_name": "Python 3 (ipykernel)",
   "language": "python",
   "name": "python3"
  },
  "language_info": {
   "codemirror_mode": {
    "name": "ipython",
    "version": 3
   },
   "file_extension": ".py",
   "mimetype": "text/x-python",
   "name": "python",
   "nbconvert_exporter": "python",
   "pygments_lexer": "ipython3",
   "version": "3.9.13"
  },
  "toc": {
   "base_numbering": 1,
   "nav_menu": {},
   "number_sections": true,
   "sideBar": true,
   "skip_h1_title": false,
   "title_cell": "Table of Contents",
   "title_sidebar": "Contents",
   "toc_cell": false,
   "toc_position": {},
   "toc_section_display": true,
   "toc_window_display": false
  }
 },
 "nbformat": 4,
 "nbformat_minor": 5
}
