{
 "cells": [
  {
   "cell_type": "markdown",
   "id": "e0493534",
   "metadata": {},
   "source": [
    "# Transport Layer\n",
    "---\n",
    "\n",
    "overview  \n",
    "학습 목표:\n",
    "- Transport Layer services 뒤의 principles 이해\n",
    "    - multiplexing, demultiplexing\n",
    "    - reliable 데이터 전송\n",
    "    - 흐름 제어\n",
    "    - 혼잡 제어\n",
    "- 인터넷 TL 프로토콜 학습\n",
    "    - UDP : connectionless transport\n",
    "    - TCP : connection-oriented reliable transport\n",
    "    - TCP congestion control\n",
    "\n",
    "<br>\n",
    "\n",
    "Transport layer : 로드맵\n",
    "- TL 서비스들\n",
    "- 멀티플렉싱 & 디멀티플렉싱\n",
    "- 비연결 전송 UDP\n",
    "- principles of congestion control(혼잡 제어 원칙)"
   ]
  },
  {
   "cell_type": "markdown",
   "id": "9aeb48aa",
   "metadata": {},
   "source": [
    "## Transport services and protocols\n",
    "\n",
    "- provide `logical communication`"
   ]
  },
  {
   "cell_type": "markdown",
   "id": "6848c869",
   "metadata": {},
   "source": [
    "## Multiplexing and Demultiplexing \n",
    "\n"
   ]
  },
  {
   "cell_type": "markdown",
   "id": "6530c4ad",
   "metadata": {},
   "source": [
    "## Connectionless tranport: UDP\n",
    "connectionless packet delivery network\n",
    "e.g., packet switching network\n",
    "\n"
   ]
  },
  {
   "cell_type": "markdown",
   "id": "e5860db1",
   "metadata": {},
   "source": [
    "## Principles of reliable data transfer\n",
    "\n"
   ]
  },
  {
   "cell_type": "markdown",
   "id": "5d8cf12e",
   "metadata": {},
   "source": [
    "## Connection-oriented transport: TCP\n",
    "- segment structure\n",
    "- relieable data transfer\n",
    "- flow control\n",
    "- connection management\n",
    "\n",
    "개요\n",
    "- 점대점\n",
    "- reliable, in-order byte stream:\n",
    "    - no \"message boundaries\"\n",
    "- full duplex data:\n",
    "    - bi-directional data flow in same connection\n",
    "    - MSS: maximum segment size\n",
    "    \n",
    "- cumulative ACKs\n",
    "- pipelining::\n",
    "    - TCP congestion and flow control set window size\n",
    "- connection-oriented:\n",
    "    - handshaking (exchange of control messages) initializes sender, receiver state before data exchange\n",
    "    \n",
    "- flow controlled:\n",
    "    - sender will not overwhelm receiver\n",
    "    \n",
    "    "
   ]
  },
  {
   "cell_type": "markdown",
   "id": "9a426a96",
   "metadata": {},
   "source": [
    "## Principles of congestion control "
   ]
  },
  {
   "cell_type": "markdown",
   "id": "55930c97",
   "metadata": {},
   "source": [
    "## TCP congestion control \n",
    "\n",
    "### Delay-based TCP congestion control\n",
    "송수신자의 파이프를 유지\n",
    "\n",
    "\n",
    "### Explicit congestion notification (ECN)\n",
    "TCP deployments often implement network-assisted congestion control:\n",
    "\n",
    "\n",
    "### TCP fairness\n",
    "Fairness goal : if K TCP sessions share same bottleneck link of `bandwidth R`, each should have average rate of R/K\n",
    "\n",
    "### Q : is TCP fair?\n",
    "e.g., 두 competing TCP sessions:\n",
    "equal bandwidth share 라인"
   ]
  },
  {
   "cell_type": "markdown",
   "id": "4c018814",
   "metadata": {},
   "source": [
    "## Evolution of transport-layer functionality\n",
    "\n"
   ]
  }
 ],
 "metadata": {
  "kernelspec": {
   "display_name": "Python 3 (ipykernel)",
   "language": "python",
   "name": "python3"
  },
  "language_info": {
   "codemirror_mode": {
    "name": "ipython",
    "version": 3
   },
   "file_extension": ".py",
   "mimetype": "text/x-python",
   "name": "python",
   "nbconvert_exporter": "python",
   "pygments_lexer": "ipython3",
   "version": "3.9.16"
  },
  "toc": {
   "base_numbering": 1,
   "nav_menu": {},
   "number_sections": true,
   "sideBar": true,
   "skip_h1_title": false,
   "title_cell": "Table of Contents",
   "title_sidebar": "Contents",
   "toc_cell": false,
   "toc_position": {
    "height": "calc(100% - 180px)",
    "left": "10px",
    "top": "150px",
    "width": "170.486px"
   },
   "toc_section_display": true,
   "toc_window_display": false
  }
 },
 "nbformat": 4,
 "nbformat_minor": 5
}
