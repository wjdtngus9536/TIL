{
 "cells": [
  {
   "cell_type": "markdown",
   "id": "1c41eed8",
   "metadata": {},
   "source": [
    "# 01_Introduction\n",
    "---\n",
    "\n",
    "## 1.4 Why JS\n",
    "프론트엔드로 쓸 수 있는 유일한 언어, 웹을 지배하는 언어  \n",
    "자바 스크립트는 파이썬처럼 설치할 필요가 없다.  \n",
    "왜냐하면 자 바스크립트는 모든 브라우저에 내장되어 있다. html, css, javascript  \n",
    "대체불가 => 자바 스크립트만 배우면 된다\n",
    "\n",
    "- 자바스크립트로 할 수 있는 것\n",
    "    1. Electron을 사용하면 html, css, js만으로 pc 프로그램을 만들 수 있음\n",
    "    2. 각종 3D 웹사이트 제작 \n",
    "    3. ML5.js를 사용하면 머신러닝 모델을 생성하는 웹사이트를 구축해서 그 모델을 훈련시킬 수도 있다.  \n",
    "    \n",
    "## 1.6 Online IDE\n",
    "여기서 컨테이너 만들어서 웹으로 코딩 할 수 있음 [replit](https://replit.com/)\n"
   ]
  }
 ],
 "metadata": {
  "kernelspec": {
   "display_name": "Python 3 (ipykernel)",
   "language": "python",
   "name": "python3"
  },
  "language_info": {
   "codemirror_mode": {
    "name": "ipython",
    "version": 3
   },
   "file_extension": ".py",
   "mimetype": "text/x-python",
   "name": "python",
   "nbconvert_exporter": "python",
   "pygments_lexer": "ipython3",
   "version": "3.9.13"
  }
 },
 "nbformat": 4,
 "nbformat_minor": 5
}
