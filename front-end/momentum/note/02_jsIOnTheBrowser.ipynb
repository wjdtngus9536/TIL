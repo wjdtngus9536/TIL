{
 "cells": [
  {
   "cell_type": "markdown",
   "id": "d280c3c2",
   "metadata": {},
   "source": [
    "# 03_JAVASCRIPT ON THE BROWSER\n",
    "---\n",
    "키보드 입력, 마우스 클릭 등의 event를 listen(감지)하는 방법"
   ]
  },
  {
   "cell_type": "markdown",
   "id": "03aec425",
   "metadata": {},
   "source": [
    "## 00. The document object\n",
    "JavaScript가 브라우저를 어떻게 움직이는지, html은 glue 같은 것  \n",
    "js를 사용하는 이유는, html과 상호작용하기 위해 >> html의 element들을 js를 통해 변경하고 읽을 수 있다.\n",
    "\n",
    "가장 중요한 브라우저의 핵심 object : `document`\n",
    "- 브라우저에 이미 존재하는 object\n",
    "- 접근할 수 있는 html을 가리키는 객체\n",
    "\n",
    "```js\n",
    "console.dir(document); 은 요소를 JSON과 같은 트리 구조로 출력\n",
    "document.title // 내가 html title 태그에 입력한 문자열\n",
    "```\n",
    "\n",
    "html의 element를 변경할 수도 있다.\n",
    "```js\n",
    "document.title = \"new title\" // js에 의해 변경됨, 새로고침 하면 다시 원래 제목으로 돌아올 것\n",
    "```\n",
    "\n",
    "js를 통해 html에 항목들을 추가할 수도 있다."
   ]
  },
  {
   "cell_type": "markdown",
   "id": "649de37d",
   "metadata": {},
   "source": [
    "## 01. HTML in Javascript\n",
    "document 객체와, element를 가져오는 수 많은 함수들을 이용해 js로 정보를 가져오자  \n",
    "`document.getElementById(\"title\")`를 통해 element를 return받을 수 있다.\n",
    "\n",
    "```js\n",
    "const title = document.getElementById(\"title\");\n",
    "\n",
    "title.innerText = \"Got you!\";\n",
    "\n",
    "console.log(title.id); // title\n",
    "console.log(title.className); // hello\n",
    "```"
   ]
  },
  {
   "cell_type": "markdown",
   "id": "9d31e444",
   "metadata": {},
   "source": [
    "## 02. Searching For Elements\n"
   ]
  }
 ],
 "metadata": {
  "kernelspec": {
   "display_name": "Python 3 (ipykernel)",
   "language": "python",
   "name": "python3"
  },
  "language_info": {
   "codemirror_mode": {
    "name": "ipython",
    "version": 3
   },
   "file_extension": ".py",
   "mimetype": "text/x-python",
   "name": "python",
   "nbconvert_exporter": "python",
   "pygments_lexer": "ipython3",
   "version": "3.9.13"
  }
 },
 "nbformat": 4,
 "nbformat_minor": 5
}
