{
 "cells": [
  {
   "cell_type": "markdown",
   "id": "4e2bf314",
   "metadata": {},
   "source": [
    "# 02_Welcome to javascript\n",
    "___"
   ]
  },
  {
   "cell_type": "markdown",
   "id": "bc4d14a3",
   "metadata": {},
   "source": [
    "## ※ vscode  단축키\n",
    "\n",
    "> 같은 단어 선택 & 동시 수정 : ctrl + shit + L  \n",
    " 같은 단어 하나씩 추가 선택 : ctrl + D  \n",
    " 코드 자동 정렬(Code Formatting, Prettier) : Shit + Alt + F\n",
    "\n",
    "## 0. 어떻게 html과 JS를 연결시킬 수 있는지 이해하게 될 것\n",
    "\n",
    "브라우저는 css, js파일을 열기에 부적합 \n",
    "\n",
    "html파일이 css와 js파일을 브라우저에서 불러오는 것(2가지 엔진이 돌아가고 있다(css, js))\n",
    "\n",
    "1. 브라우저가 html을 실행해서 link 태그를 보고 style이 적용되어야 한다는 걸 알고 css를 실행  \n",
    "2. 브라우저가 script 태그를 보고 실행되어야 하는 파일이 있는 것을 알고 javascript가 실행하는 것\n",
    "\n",
    "```javascript\n",
    "alert(\"Hi\")\n",
    "```"
   ]
  },
  {
   "cell_type": "markdown",
   "id": "029f0cdd",
   "metadata": {},
   "source": [
    "## 1. 기본 자료형\n",
    "\n",
    "1. integer\n",
    "2. float\n",
    "3. string  \n",
    "js는 숫자가 뭔지 알지만 문자는 별도로 정의해야 함\n",
    "```js\n",
    "\"hello\" + 'my name is nico'\n",
    "```"
   ]
  },
  {
   "cell_type": "markdown",
   "id": "f8ae5be7",
   "metadata": {},
   "source": [
    "##  2. Variables\n",
    "\n",
    "값을 저장하거나 유지하는 역할\n",
    "\n",
    "만드는 법 <const 키워드> <변수명>;\n",
    "```js\n",
    "const a = 5;\n",
    "```\n",
    "\n",
    "변수명 작성 convention\n",
    "- javascript : camelCase\n",
    "- python : sname_case"
   ]
  },
  {
   "cell_type": "markdown",
   "id": "7942ec7a",
   "metadata": {},
   "source": [
    "## 3. let 키워드로 변수 생성\n",
    "\n",
    "const는 constatn(상수)라는 의미고, 값이 바뀔 수 없음\n",
    "\n",
    "값을 정의한 이후에 변수가 기리키는 값이 바뀔 것 같은 경우에는\n",
    "let으로 변수를 선언해준다.\n",
    "\n",
    "프로그래머의 의도가 담긴다.\n",
    "\n",
    "기본적으로는 const를 사용하고 필요할 때 let을 사용한다.\n",
    "\n",
    "Q : let대신 var은 왜 쓰면 안될까? \n",
    "A : 그 이유는 바로 Hosting(호이스팅) 때문입니다.\n",
    "\n",
    "#### Hoisting(호이스팅)?\n",
    "`var` 키워드를 사용하여 변수 선언 시, 해당 변수의 선언부를 스코프 최상단으로 올려버리는 것을 말합니다.  \n",
    "JavaScript의 변수 생성과 초기화의 작업이 분리되어 진행되기 때문에 이런 현상이 발생한다.\n",
    "\n",
    "var는 우리가 기존 C나 Java의 Block-scoped가 아니라 Function-scoped입니다. 따라서, 코드 전체의 최상단이 아닌 함수 내부의 최상단으로 이동합니다. 아래 예시를 봅시다.\n",
    "\n",
    "> Function-scoped는 중괄호로 구분된 영역의 범위를 갖는 것이 아니라, 함수 내부의 영역을 범위로 갖는 것을 의미합니다.  \n",
    "\n",
    "```js\n",
    "var a = 123;\n",
    "function func() {\n",
    "  // undefined 호이스팅 떄문에 a를 참조할 Reference는 있으니 Reference Error는 나지 않고, 대신 undefined라는 값이 출력됩니다.\n",
    "  // 참고로 undefined는 JavaScript의 Primitive Value로 어떠한 값도 할당되지 않아 자료형이 정해지지 않은 상태를 의미합니다.\n",
    "  console.log(a); \n",
    "  var a = 456;\n",
    "  console.log(a); // 456\n",
    "}\n",
    "func();\n",
    "```\n",
    "\n",
    "#### var의 문제점\n",
    "1. 변수의 중복 선언이 가능하다. >> 이처럼 이미 선언했던 변수명을 모르고 또 사용할 경우, 기존에 있던 변수는 전혀 다른 값을 가지게 됩니다. 그 경우, 그 변수를 사용하는 다양한 로직들에 치명적인 문제가 생깁니다.  \n",
    "2. for문에서의 반복 변수(iteration variable) 문제점 >> var는 Function-scoped이기 때문에 for문에서 for문의 순회를 위해 i라는 변수를 var로 선언한 경우, 이 변수는 for문이 종료되어도 접근이 가능하게 됨.\n",
    "3. 전역변수 남발\n",
    "\n"
   ]
  },
  {
   "cell_type": "markdown",
   "id": "4457d871",
   "metadata": {},
   "source": [
    "## 4. Booleans data type\n",
    "\n",
    "1. null : 변수에 아무것도 없음(절대 자연적으로 발생하지 않는다.) \n",
    "변수 안에 어떤 것이 없다는 것을 확실히 하기 위해 사용한다.\n",
    "```js\n",
    "console.log(typeof null); // object\n",
    "```\n",
    "null은 **객체**이고 `참조 자료형`이다.\n",
    "- 변수에 null을 할당하는 것은 변수가 이전에 참조하던 값을 더 이상 참조하지 않겠다는 의미이다.\n",
    "- 이는 이전에 할당되어 있던 값에 대한 참조를 명시적으로 제거하는 것을 의미하며, 자바스크립트 엔진은 누구도 참조하지 않은 메모리 공간에 대해 *가비지 콜렉션(사용하지 않는 메모리 자동 정리)*을 수행할 것이다.\n",
    "\n",
    "<br>\n",
    "\n",
    "2. undefined : 변수는 메모리상에 존재하나 값이 주어지지 않은, 값이 할당(초기화)되지 않은 상태\n",
    "- `원시 자료형` undefined로 분류된다.\n",
    "```js\n",
    "var a;\n",
    "console.log(a); // undefined\n",
    "console.log(typeof a); // undefined\n",
    "```\n",
    "- 자바스크립트 엔진이 변수를 초기화라는 데 사용하는 undefined를 **개발자가 의도적으로 변수에 할당한다면 undefined의 본래의 취지와 어긋나고 또한 혼란을 야기하므로 권장하지 않는다.**\n",
    "- 그렇다면 변수에 값이 없다는 것을 명시하고 싶을 때는 어떻게하면 좋을까? 바로 undefined를 할당하는 것이 아니라 **null을 할당**한다."
   ]
  },
  {
   "cell_type": "markdown",
   "id": "ede5da45",
   "metadata": {},
   "source": [
    "## 5. Arrays\n",
    "데이터를 어떻게하면 최적의 방법으로 저장할 수 있을까\n",
    "데이터 타입들을 그룹으로 묶기 위한 더 좋은 방법\n",
    "목적 : 하나의 변수 안에 데이터의 list를 가지는 것\n",
    "\n",
    "```js\n",
    "const toBuy = ['potato', 'tomato'];\n",
    "toBuy.push('kimbab');\n",
    "```\n"
   ]
  },
  {
   "cell_type": "markdown",
   "id": "3e4542fc",
   "metadata": {},
   "source": [
    "## 6. Objects\n",
    "python의 dict 자료형과 정의 방법이 유사  \n",
    "객체의 속성을 업데이트 할 수도 있음  \n",
    "Q. 클래스처럼 재호출은 불가능한거겠지?\n",
    "\n",
    "- 선언 & 호출\n",
    "```js\n",
    "// create\n",
    "const player = {\n",
    "  name: 'nico',\n",
    "  points : 10,\n",
    "  fat: true,\n",
    "  handsome : true\n",
    "};\n",
    "// read\n",
    "console.log(player.name);\n",
    "console.log(player['name']);\n",
    "// update\n",
    "player.lastName = 'potato';\n",
    "\n",
    "```\n",
    "\n",
    "const는 수정할 수 없는데 왜 object는 수정이 가능한가? >> object 안의 무언가를 수정하는 것이기 때문에\n",
    "\n"
   ]
  },
  {
   "cell_type": "markdown",
   "id": "4bb61ec6",
   "metadata": {},
   "source": [
    "## 7. Function part 1.\n",
    "- 선언\n",
    "```js\n",
    "function sayHello(nameOfPerson){\n",
    "  console.log('hello');\n",
    "}\n",
    "```\n",
    "- argument 전달\n",
    "sayHello('nico');"
   ]
  },
  {
   "cell_type": "markdown",
   "id": "3bd195a1",
   "metadata": {},
   "source": [
    "## 8. Function part 2.\n",
    "데이터를 받는 법\n",
    "```js\n",
    "function sayHello(nameOfPerson, age){\n",
    "  console.log('hello my name is ' + nameOfPerson + \"and I'm \" + age);\n",
    "}\n",
    "\n",
    "sayHello(\"soohyun\", 25);\n",
    "sayHello(\"hanawo\", 26);\n",
    "sayHello(\"nico\", 10);\n",
    "```\n",
    "\n",
    "\n",
    "객체 안에서 함수 정의\n",
    "```js\n",
    "const player = {\n",
    "  name: 'nico',\n",
    "  sayHello: function(otherPersonsName){\n",
    "    console.log('hello ' + otherPersonsName + ' nice to meet you!');\n",
    "    // console.log(self.name); 왜 자기 참초는 안될까?\n",
    "  },\n",
    "};\n",
    "\n",
    "player.sayHello('nico');\n",
    "player.sayHello('hanawo');\n",
    "```"
   ]
  },
  {
   "cell_type": "markdown",
   "id": "654d2fec",
   "metadata": {},
   "source": [
    "## 9. Recap 1 \n",
    "\n",
    "배열은 수정과 추가, 삭제가 가능하다.\n",
    "```js\n",
    "a = [1, 2, 3];\n",
    "console.log(a);\n",
    "a[0] = 0;\n",
    "a.push(4);\n",
    "a.push(-1)\n",
    "a.pop()\n",
    "console.log(a);\n",
    "```\n",
    "> (3) [1, 2, 3]  \n",
    "  (4) [0, 2, 3, 4]"
   ]
  },
  {
   "cell_type": "markdown",
   "id": "8c264465",
   "metadata": {},
   "source": [
    "## 10. Recap 2\n",
    "Object 선언 방법\n",
    "```js\n",
    "const player = {\n",
    "    name: 'Nico',\n",
    "    age: 90,\n",
    "};\n",
    "// console.log()로 사용하는걸 보면 console도 Object였음을 알 수 있다.\n",
    "```\n",
    "\n",
    "선언된 Object안에 속성을 추가하는 것도 가능하다.\n",
    "```js\n",
    "player.sexy = 'soon';\n",
    "```"
   ]
  },
  {
   "cell_type": "markdown",
   "id": "7aeaab32",
   "metadata": {},
   "source": [
    "## 11. Returns\n",
    "```javascript\n",
    "const age = 25;\n",
    "function calculateKrAge(ageOfForeigner) {\n",
    "  return ageOfForeigner + 2;\n",
    "}\n",
    "const krAge = calculateKrAge(age);\n",
    "console.log(krAge);\n",
    "```"
   ]
  },
  {
   "cell_type": "markdown",
   "id": "ad8d298d",
   "metadata": {},
   "source": [
    "## 12. Recap\n",
    "왜 return을 해야하는가\n",
    "값을 남겨서 실제 페이지에 사용하려고"
   ]
  },
  {
   "cell_type": "markdown",
   "id": "54306b63",
   "metadata": {},
   "source": [
    "## 13. Conditionals\n",
    "```js\n",
    "const age = prompt('how old are you?'); \n",
    "// javascript를 정지시키고 있음\n",
    "// prompt를 더 이상 사용하지 않는 이유\n",
    "// message ui가 안예쁘고, css도 적용하지 못함, 어떤 브라우저는 이런 팝업을 제한하기도 하고 오래된 방법\n",
    "```\n",
    "\n",
    "값의 type을 보려면 typeof라는 키워드를 써야한다.\n",
    "```js\n",
    "console.log(typeof age);\n",
    "```\n",
    "\n",
    "한 문자열을 숫자로 변환하려면(자료형 변환)\n",
    "```js\n",
    "parseInt(\"15\");\n",
    "// 숫자가 아닌 문자열을 입력하면 NaN 반환\n",
    "```"
   ]
  },
  {
   "cell_type": "markdown",
   "id": "17aa2171",
   "metadata": {},
   "source": [
    "## 14. Conditional part 2.\n",
    "NaN인지를 판별하는 방법을 배워볼 것\n",
    "`isNaN(number)` : boolean 반환, NaN이 number로 전달되면 true return \n",
    "\n",
    "```js\n",
    "const age = parseInt(prompt('how old are you?')); \n",
    "\n",
    "if(isNaN(age)){ // condition은 boolean으로 판단돼야함\n",
    "  console.log(\"plese write a number\");\n",
    "} else {\n",
    "  console.log('thank you for writing your age');\n",
    "}\n",
    "```"
   ]
  },
  {
   "cell_type": "markdown",
   "id": "5e15b1cd",
   "metadata": {},
   "source": [
    "## 15. Conditionals part 3.\n",
    "else if도 사용해보자\n",
    "```js\n",
    "const age = parseInt(prompt('how old are you?'));\n",
    "\n",
    "if (isNaN(age)) { // condition은 boolean으로 판단돼야함\n",
    "  console.log(\"plese write a number\");\n",
    "}\n",
    "else if (age < 18) {\n",
    "  console.log('you are too young.')\n",
    "}\n",
    "else if (age >= 18 && age <= 50) { // &&의 역할, 둘 다 true여야 한다. 논리연산자\n",
    "  console.log('you can drink')\n",
    "}\n",
    "else {\n",
    "  console.log(\"you should exercise\");\n",
    "}\n",
    "```"
   ]
  },
  {
   "cell_type": "markdown",
   "id": "0b8eec1f",
   "metadata": {},
   "source": [
    "## 16. Recap \n",
    "두 가지 연산자를 더 배울 것 `===, !==`\n",
    "```js\n",
    "if (age === 100) {\n",
    "    console.log('wow you are wise');\n",
    "}\n",
    "else if (age !== 100) {\n",
    "    console.log('not a hundred');\n",
    "}\n",
    "else {\n",
    "    console.log('it is else');\n",
    "}\n",
    "```"
   ]
  }
 ],
 "metadata": {
  "kernelspec": {
   "display_name": "Python 3 (ipykernel)",
   "language": "python",
   "name": "python3"
  },
  "language_info": {
   "codemirror_mode": {
    "name": "ipython",
    "version": 3
   },
   "file_extension": ".py",
   "mimetype": "text/x-python",
   "name": "python",
   "nbconvert_exporter": "python",
   "pygments_lexer": "ipython3",
   "version": "3.9.13"
  }
 },
 "nbformat": 4,
 "nbformat_minor": 5
}
