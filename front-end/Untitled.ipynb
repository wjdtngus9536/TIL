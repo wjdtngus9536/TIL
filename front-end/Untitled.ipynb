{
 "cells": [
  {
   "cell_type": "markdown",
   "id": "1c41eed8",
   "metadata": {},
   "source": [
    "# Java Script\n",
    "---\n",
    "\n",
    "## 1. Introduction\n",
    "---\n",
    "\n",
    "### 1.1 Why JS\n",
    "프론트엔드로 쓸 수 있는 유일한 언어, 웹을 지배하는 언어\n",
    "자바 스크립트는 파이썬처럼 설치할 필요가 없다.\n",
    "왜냐하면 자 바스크립트는 모든 브라우저에 내장되어 있다. html, css, javascript\n",
    "대체불가 => 자바 스크립트만 배우면 된다\n",
    "\n",
    "- 자바스크립트로 할 수 있는 것\n",
    "    - Electron을 사용하면 html, css, js만으로 pc 프로그램을 만들 수 있음\n",
    "    - 각종 3D 웹사이트 제작 \n",
    "\n",
    "### 2.2 Online IDE\n",
    "\n",
    "\n"
   ]
  },
  {
   "cell_type": "code",
   "execution_count": null,
   "id": "5ea080c8",
   "metadata": {},
   "outputs": [],
   "source": []
  }
 ],
 "metadata": {
  "kernelspec": {
   "display_name": "Python 3 (ipykernel)",
   "language": "python",
   "name": "python3"
  },
  "language_info": {
   "codemirror_mode": {
    "name": "ipython",
    "version": 3
   },
   "file_extension": ".py",
   "mimetype": "text/x-python",
   "name": "python",
   "nbconvert_exporter": "python",
   "pygments_lexer": "ipython3",
   "version": "3.9.13"
  }
 },
 "nbformat": 4,
 "nbformat_minor": 5
}
