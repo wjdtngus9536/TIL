{
 "cells": [
  {
   "cell_type": "markdown",
   "id": "627e46b6",
   "metadata": {},
   "source": [
    "# 2. 6 파이썬 함수\n",
    "---\n",
    "\n",
    "파이썬에는 `def` 키워드와 `return` 키워드를 사용하여 다음과 같이 함수를 만들 수 있다. "
   ]
  },
  {
   "cell_type": "code",
   "execution_count": 1,
   "id": "a4e157a5",
   "metadata": {},
   "outputs": [
    {
     "name": "stdout",
     "output_type": "stream",
     "text": [
      "4\n"
     ]
    }
   ],
   "source": [
    "def twotimes(x):\n",
    "    y = 2 * x\n",
    "    return y\n",
    "\n",
    "print(twotimes(2))"
   ]
  },
  {
   "cell_type": "code",
   "execution_count": 12,
   "id": "f2adb6b5",
   "metadata": {},
   "outputs": [
    {
     "name": "stdout",
     "output_type": "stream",
     "text": [
      "윤년\n"
     ]
    }
   ],
   "source": [
    "# 연습 문제 2.6.1\n",
    "'''\n",
    "2) 윤년을 나타나는 수가 입력되면 윤년이라는 문자열을, 그렇지 않은 수가 입력되면 평년이라는 문자열을 반환하는 함수를 만든다.\n",
    "'''\n",
    "# ※주의! \n",
    "# & 연산자가 비교 연산자보다 연산자 우선순위가 높기 때문에 \n",
    "# 0 & year은 False, y % 400도 Flase기 때문에 2024년이 평년이라는 출력이 나옴.\n",
    "# and 연산자는 비교 연산자보다 우선순위가 낮아서 문제가 되지 않음.\n",
    "def cal_Leaf_year(y):\n",
    "    if (y % 4 == 0 and y % 100 != 0) or y % 400 == 0: \n",
    "        return '윤년'\n",
    "    else:\n",
    "        return '평년'\n",
    "    \n",
    "print(cal_Leaf_year(2024))"
   ]
  },
  {
   "cell_type": "code",
   "execution_count": 15,
   "id": "1ad82f2f",
   "metadata": {},
   "outputs": [
    {
     "name": "stdout",
     "output_type": "stream",
     "text": [
      "28\n"
     ]
    }
   ],
   "source": [
    "# 연습 문제 2.6.2\n",
    "'''\n",
    "평년일 때 \n",
    "1, 3, 5, 7, 8, 10, 12 월은 31일, \n",
    "4, 6, 9, 11월은 30일, \n",
    "2월은 28일이다. \n",
    "월을 나타내는 숫자를 입력하면 그 달의 날짜 수를 반환하는 함수 days1 를 만든다. \n",
    "\n",
    "사용 예는 다음과 같다.\n",
    ">>> days1(11) # 11월의 날짜 수\n",
    "30\n",
    "'''\n",
    "\n",
    "def days1(m):\n",
    "    if m in [1,3,5,7,8,10,12]:\n",
    "        return 31\n",
    "    elif m in [4, 6, 9, 11]:\n",
    "        return 30\n",
    "    else:\n",
    "        return 28\n",
    "    \n",
    "print(days1(2))"
   ]
  },
  {
   "cell_type": "markdown",
   "id": "1676eedf",
   "metadata": {},
   "source": [
    "## 입력이 여러 개인 함수"
   ]
  },
  {
   "cell_type": "code",
   "execution_count": 22,
   "id": "802f1fa8",
   "metadata": {},
   "outputs": [
    {
     "name": "stdout",
     "output_type": "stream",
     "text": [
      "28\n"
     ]
    }
   ],
   "source": [
    "# 연습 문제 2.6.3\n",
    "'''\n",
    "연도를 나타내는 숫자와 월을 나타내는 숫자를 입력하면 그 달의 날짜 수를 반환하는 함수 days2 를 만든다.\n",
    "\n",
    "사용 예는 다음과 같다.\n",
    ">>> days2(2015, 1)\n",
    "31\n",
    "'''\n",
    "\n",
    "def days2(y, m):\n",
    "    if m in [1, 3, 5, 7, 8, 10, 12]:\n",
    "        return 31\n",
    "    elif m in [4, 6, 9, 11]:\n",
    "        return 30\n",
    "    elif (y % 4 == 0 and y % 100 != 0) or y % 400 == 0:\n",
    "        if m == 2:\n",
    "            return 29\n",
    "        else:\n",
    "            return 28\n",
    "    # boundary상 적을 필요 없긴한데.. 적는게 좋나?\n",
    "    else:\n",
    "        return 28\n",
    "            \n",
    "print(days2(2200, 2))\n"
   ]
  },
  {
   "cell_type": "code",
   "execution_count": null,
   "id": "524b35e3",
   "metadata": {},
   "outputs": [],
   "source": []
  },
  {
   "cell_type": "markdown",
   "id": "fe02b83a",
   "metadata": {},
   "source": [
    "## 람다 함수(익명함수, 함수의 이름을 지정하지 않음)\n",
    "함수에 이름을 주지 않거나 코드를 짧게 줄여쓰는 방법으로 람다(lambda)함수라는 것이 있다.\n",
    "\n",
    "> 람다 함수는 함수 자체를 다른 함수의 인수로 넣을 때, 함수의 출력값을 함수로 받을 때 유용하게 사용된다.  \n",
    "※ 코드의 간결함과 메모리 절약에도 유용   \n",
    "def키워드를 통해서 함수를 생성하는 방법은 리터럴 표기법에 따른 함수 생성 방법.  \n",
    "함수 또한 클래스를 통해 생성된 객체 인스턴스.\n",
    "\n",
    "\n",
    "- 함수에 이름이 없고, 저장된 변수가 없기 때문에 다시 사용할 수는 없음.\n",
    "- 람다함수도 객체이기 때문에 정의와 동시에 변수에 담을 수는 있음."
   ]
  },
  {
   "cell_type": "code",
   "execution_count": 42,
   "id": "62af52d4",
   "metadata": {},
   "outputs": [
    {
     "data": {
      "text/plain": [
       "['cat', 'dog', 'tiger', 'snake']"
      ]
     },
     "execution_count": 42,
     "metadata": {},
     "output_type": "execute_result"
    }
   ],
   "source": [
    "# e.g) 한번만 사용하는 함수의 경우 사용하면 좋다.\n",
    "\n",
    "target = ['cat', 'tiger', 'dog', 'snake']\n",
    "sorted(target, key = lambda x : len(x.strip())) # 알파벳 순서가 아니라, 앞뒤 불필요한 공백을 제외한 문자의 길이로 정렬"
   ]
  },
  {
   "cell_type": "code",
   "execution_count": 24,
   "id": "b638c62a",
   "metadata": {},
   "outputs": [
    {
     "data": {
      "text/plain": [
       "4"
      ]
     },
     "execution_count": 24,
     "metadata": {},
     "output_type": "execute_result"
    }
   ],
   "source": [
    "# e.g\n",
    "'''\n",
    "def f(x):\n",
    "    return 2 * x\n",
    "'''\n",
    "# 람다(lambda) 함수로 정의하면\n",
    "\n",
    "f = lambda x : 2 * x\n",
    "f(2)"
   ]
  },
  {
   "cell_type": "code",
   "execution_count": 39,
   "id": "5f4f062a",
   "metadata": {},
   "outputs": [
    {
     "name": "stdout",
     "output_type": "stream",
     "text": [
      "100\n"
     ]
    }
   ],
   "source": [
    "def func_final(x, y, func):\n",
    "    print(x * y * func(x * y)) # 람다 함수의 return이 10 // 100의 몫인 0\n",
    "    \n",
    "func_final(10, 10, lambda x : x // 100) \n",
    "# 이런식으로 바로 람다식을 사용해서 함수를 넘겨줄 수 있다."
   ]
  },
  {
   "cell_type": "markdown",
   "id": "2d2dba26",
   "metadata": {},
   "source": [
    "## 지역 변수\n",
    "함수에 넣은 입력 변수나 함수 안에서 만들어진 변수는 함수 바깥에서는 사용할 수 없다. 혹시 이름이 같은 변수가 있다고 하더라도 별개의 변수가 된다.\n",
    "\n",
    "따라서 함수 안에서 만들어지고 사용되는 함수를 지역 변수, 영어로 local variable 이라고 한다.\n",
    "\n",
    "실제로 확인해 보자. 일단 함수 바깥에 혹시라도 y라는 변수가 있으면 del 명령으로 지운다.\n",
    "\n",
    "```python\n",
    "del y\n",
    "```"
   ]
  },
  {
   "cell_type": "code",
   "execution_count": 25,
   "id": "92e38a72",
   "metadata": {},
   "outputs": [
    {
     "ename": "NameError",
     "evalue": "name 'y' is not defined",
     "output_type": "error",
     "traceback": [
      "\u001b[1;31m---------------------------------------------------------------------------\u001b[0m",
      "\u001b[1;31mNameError\u001b[0m                                 Traceback (most recent call last)",
      "\u001b[1;32m~\\AppData\\Local\\Temp\\ipykernel_5236\\552710777.py\u001b[0m in \u001b[0;36m<module>\u001b[1;34m\u001b[0m\n\u001b[1;32m----> 1\u001b[1;33m \u001b[1;32mdel\u001b[0m \u001b[0my\u001b[0m\u001b[1;33m\u001b[0m\u001b[1;33m\u001b[0m\u001b[0m\n\u001b[0m",
      "\u001b[1;31mNameError\u001b[0m: name 'y' is not defined"
     ]
    }
   ],
   "source": [
    "del y"
   ]
  },
  {
   "cell_type": "code",
   "execution_count": 67,
   "id": "954a3975",
   "metadata": {},
   "outputs": [
    {
     "name": "stdout",
     "output_type": "stream",
     "text": [
      "                  0.460000000000000075495165674511\n"
     ]
    }
   ],
   "source": [
    "# 연습 문제 2.6.4\n",
    "\n",
    "'''\n",
    "3개의 숫자를 입력하면 “그 숫자들의 합”과 \n",
    "“그 숫자들을 제곱한 숫자들의 합”의 차이\n",
    "(큰 수에서 작을 수를 뺀 값)를 계산하는 함수 diffsum를 만든다. \n",
    "큰 수에서 작은 수를 뺀 결과이므로 항상 0보다 크거나 0과 같아야 한다.\n",
    "'''\n",
    "\n",
    "def diffsum(x, y, z):\n",
    "    s = x + y + z\n",
    "    sqrt_s = x ** 2 + y ** 2 + z ** 2\n",
    "    if s > sqrt_s:\n",
    "        return s - sqrt_s\n",
    "    else:\n",
    "        return sqrt_s - s\n",
    "    \n",
    "print(f'{diffsum(0.1,0.2,0.3):>50.30}')"
   ]
  },
  {
   "cell_type": "markdown",
   "id": "b0ec2c0d",
   "metadata": {},
   "source": [
    "## 전역변수\n",
    "하지만 지역 변수와 반대로 함수 바깥에서 만들어진 변수는 함수 안에서 사용할 수 있다.  \n",
    "이러한 변수를 전역 변수(global variable)이라고 한다.\n",
    "\n",
    " > 만약 함수안에서 함수 바깥에 있는 변수의 값을 꼭 바꿔야만 한다면 다음과 같이 함수 이름 앞에 global 키워드를 선언해 주면 된다."
   ]
  },
  {
   "cell_type": "code",
   "execution_count": 68,
   "id": "06df95b3",
   "metadata": {},
   "outputs": [],
   "source": [
    "z = 3\n",
    "\n",
    "def f4(x):\n",
    "    global z\n",
    "    z = 99\n",
    "    y = z * x\n",
    "    print('y =', y)\n",
    "    print('z =', z)\n",
    "    return y"
   ]
  },
  {
   "cell_type": "code",
   "execution_count": 69,
   "id": "9d4096f9",
   "metadata": {},
   "outputs": [
    {
     "name": "stdout",
     "output_type": "stream",
     "text": [
      "y = 990\n",
      "z = 99\n"
     ]
    },
    {
     "data": {
      "text/plain": [
       "990"
      ]
     },
     "execution_count": 69,
     "metadata": {},
     "output_type": "execute_result"
    }
   ],
   "source": [
    "f4(10)"
   ]
  },
  {
   "cell_type": "code",
   "execution_count": 70,
   "id": "6fa59e7c",
   "metadata": {},
   "outputs": [
    {
     "data": {
      "text/plain": [
       "99"
      ]
     },
     "execution_count": 70,
     "metadata": {},
     "output_type": "execute_result"
    }
   ],
   "source": [
    "z"
   ]
  },
  {
   "cell_type": "code",
   "execution_count": null,
   "id": "3344cbdc",
   "metadata": {},
   "outputs": [],
   "source": [
    "# 연습 문제 2.6.5\n",
    "\n",
    "'''\n",
    "함수 바깥에 m 이라는 전역 변수를 만들고 그 값을 0으로 놓는다. \n",
    "앞에서 만든 diffsum 함수를 고쳐서 diffsum 함수와 같은 값을 반환하지만 \n",
    "함수를 실행할 때 마다 diffsum 함수에서 계산된 값이 원래 있던 m보다 크면 \n",
    "m을 계산된 값으로 바꾸는 함수 diffsum2 를 만든다.'''\n",
    "\n",
    "# 바깥의 전역변수 m\n",
    "m = 0\n",
    "\n",
    "def diffsum2(x, y, z):\n",
    "    global m\n",
    "    s = x + y + z\n",
    "    sqrt_s = x ** 2 + y ** 2 + z ** 2\n",
    "    if s > sqrt_s:\n",
    "        diff = s - sqrt_s\n",
    "    else:\n",
    "        diff = sqrt_s - s\n",
    "    \n",
    "\n",
    "    if m < diff:        \n",
    "        m = diff\n",
    "        print('m is changed to', m)\n",
    "        \n",
    "    return diff"
   ]
  },
  {
   "cell_type": "code",
   "execution_count": 80,
   "id": "9043b833",
   "metadata": {},
   "outputs": [
    {
     "name": "stdout",
     "output_type": "stream",
     "text": [
      "0.4600000000000001\n",
      "8\n"
     ]
    }
   ],
   "source": [
    "print(diffsum2(0.1, 0.2, 0.3))\n",
    "print(m)"
   ]
  },
  {
   "cell_type": "code",
   "execution_count": null,
   "id": "ac4bc3e4",
   "metadata": {},
   "outputs": [],
   "source": []
  }
 ],
 "metadata": {
  "kernelspec": {
   "display_name": "Python 3 (ipykernel)",
   "language": "python",
   "name": "python3"
  },
  "language_info": {
   "codemirror_mode": {
    "name": "ipython",
    "version": 3
   },
   "file_extension": ".py",
   "mimetype": "text/x-python",
   "name": "python",
   "nbconvert_exporter": "python",
   "pygments_lexer": "ipython3",
   "version": "3.9.13"
  }
 },
 "nbformat": 4,
 "nbformat_minor": 5
}
