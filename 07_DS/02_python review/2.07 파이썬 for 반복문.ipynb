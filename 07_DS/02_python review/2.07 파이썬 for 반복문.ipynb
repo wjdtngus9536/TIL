{
 "cells": [
  {
   "cell_type": "markdown",
   "id": "84cfa76a",
   "metadata": {},
   "source": [
    "# 2. 7 파이썬 for 반복문\n",
    "---\n",
    "\n",
    "## for 반복문"
   ]
  },
  {
   "cell_type": "code",
   "execution_count": 3,
   "id": "da9aae36",
   "metadata": {},
   "outputs": [
    {
     "name": "stdout",
     "output_type": "stream",
     "text": [
      "0\n",
      "1\n",
      "2\n",
      "3\n",
      "4\n",
      "5\n",
      "6\n",
      "7\n",
      "8\n",
      "9\n"
     ]
    }
   ],
   "source": [
    "# for 카운터변수 in range(반복횟수):\n",
    "#     반복해서 실행할 명령\n",
    "\n",
    "for i in range(10): # 0부터 매개변수 -1 까지의 정수 범위를 반환\n",
    "    print(i)\n",
    "    \n",
    "# for 카운터변수 in range(A, B): # A 부터 B를 만나기 전까지([A, A+1, A+2, ... , B - 1])의 정수 범위를 반환\n",
    "#     반복해서 실행할 명령\n",
    "\n",
    "# for 카운터변수 in range(A, B, C): # A 부터 B를 만나기 전까지의 정수 범위를 C 만큼의 간격으로 반환\n",
    "#     반복해서 실행할 명령"
   ]
  },
  {
   "cell_type": "code",
   "execution_count": 5,
   "id": "9b2735ea",
   "metadata": {},
   "outputs": [
    {
     "name": "stdout",
     "output_type": "stream",
     "text": [
      "[1, 3, 5]\n"
     ]
    }
   ],
   "source": [
    "# range function TEST\n",
    "\n",
    "a = range(1, 7, 2) # 1부터 6까지의 정수범위를 2만큼의 간격을 두고 반환 1.. 3.. 5.. (6을 만났으므로 반환 없이 종료)\n",
    "print(list(a))"
   ]
  },
  {
   "cell_type": "code",
   "execution_count": 9,
   "id": "3df7520f",
   "metadata": {},
   "outputs": [
    {
     "name": "stdout",
     "output_type": "stream",
     "text": [
      "**********\n",
      "*********\n",
      "********\n",
      "*******\n",
      "******\n",
      "*****\n",
      "****\n",
      "***\n",
      "**\n",
      "*\n",
      "1\n",
      "**********\n",
      "*********\n",
      "********\n",
      "*******\n",
      "******\n",
      "*****\n",
      "****\n",
      "***\n",
      "**\n",
      "*\n",
      "1\n"
     ]
    }
   ],
   "source": [
    "# 연습 문제 2.7.2 역순 출력\n",
    "\n",
    "for i in range(10, 0, -1):\n",
    "    print('*' * i)\n",
    "    \n",
    "print(i)\n",
    "    \n",
    "for i in reversed(range(1,11)):\n",
    "    print('*' * i)\n",
    "    \n",
    "print(i)"
   ]
  },
  {
   "cell_type": "code",
   "execution_count": 31,
   "id": "674361f8",
   "metadata": {},
   "outputs": [
    {
     "name": "stdout",
     "output_type": "stream",
     "text": [
      "*\n",
      "**\n",
      "***\n",
      "****\n",
      "*****\n",
      "******\n",
      "*******\n",
      "********\n",
      "*********\n",
      "**********\n",
      "**********\n",
      "*********\n",
      "********\n",
      "*******\n",
      "******\n",
      "*****\n",
      "****\n",
      "***\n",
      "**\n",
      "*\n"
     ]
    }
   ],
   "source": [
    "# 연습 문제 2.7.3\n",
    "'''\n",
    "for 반복문과 문자열 연산, if 조건문을 사용하여 다음과 같이 출력한다.\n",
    "'''\n",
    "\n",
    "for i in range(1, 11):\n",
    "    print('*' * i)\n",
    "if i == 10:\n",
    "    for i in range(10, 0, -1):\n",
    "        print('*' * i)"
   ]
  },
  {
   "cell_type": "code",
   "execution_count": 39,
   "id": "d9ac83d2",
   "metadata": {},
   "outputs": [
    {
     "name": "stdout",
     "output_type": "stream",
     "text": [
      "     *     \n",
      "    ***    \n",
      "   *****   \n",
      "  *******  \n",
      " ********* \n",
      "***********\n",
      " ********* \n",
      "  *******  \n",
      "   *****   \n",
      "    ***    \n",
      "     *     \n"
     ]
    }
   ],
   "source": [
    "# 연습 문제 2.7.4\n",
    "\n",
    "for i in range(1, 12, 2):\n",
    "    print('{:^11}'.format('*' * i))\n",
    "if i == 11:\n",
    "    for i in range(9, 0, -2):\n",
    "        print(f'{\"*\" * i:^11}')"
   ]
  },
  {
   "cell_type": "markdown",
   "id": "c0ed44d9",
   "metadata": {},
   "source": [
    "## 중첩 for 반복문"
   ]
  },
  {
   "cell_type": "code",
   "execution_count": 48,
   "id": "b691e3ce",
   "metadata": {},
   "outputs": [
    {
     "name": "stdout",
     "output_type": "stream",
     "text": [
      "[128, 512, 2048, 8192]\n"
     ]
    }
   ],
   "source": [
    "# 연습 문제 2.7.5\n",
    "\n",
    "'''\n",
    "어떤 주식의 가격은 매일 한 번 동전을 던져서 앞면이 나오면 전날 가격의 2배가 되고, \n",
    "뒷면이 나오면 전날 가격의 절반이 된다. \n",
    "1일에 주식의 가격이 1,024원이었을 때, 4일 주식의 가격이 나올 수 있는 경우를 모두 구한다. \n",
    "(힌트: for 반복문이 3개 중첩되어야 한다)\n",
    "'''\n",
    "\n",
    "def stock_price():\n",
    "    case = set()\n",
    "    for i in [2, 0.5]: # 2일차\n",
    "        for j in [2, 0.5]: # 3일차\n",
    "            for k in [2, 0.5]: # 4일차\n",
    "                case.add(int(i * j * k * 1024))\n",
    "    return case\n",
    "                \n",
    "print(sorted(stock_price()))"
   ]
  },
  {
   "cell_type": "code",
   "execution_count": 58,
   "id": "3bcef539",
   "metadata": {},
   "outputs": [
    {
     "name": "stdout",
     "output_type": "stream",
     "text": [
      "(3, 4, 5)\n"
     ]
    }
   ],
   "source": [
    "# 연습 문제 2.7.6\n",
    "'''\n",
    "{admonition} : 권고\n",
    "\n",
    "프랑스의 수학자 페르마(Ferma)의 마지막 정리는 다음과 같다.\n",
    "> n이 2보다 큰 자연수인 경우에, $a^n + b^n = c^n$ 이 되는 자연수 $a$, $b$, $c$는 존재하지 않는다.\n",
    "\n",
    "n이 3이고 a, b, c 가 1부터 10까지의 자연수일 때 페르마의 마지막 정리가 사실임을 중첩 반복문을 써서 보인다. \n",
    "(힌트: 1부터 10까지 반복되는 for 반복문이 3개 중첩되어야 한다.)\n",
    "'''\n",
    "\n",
    "def Fermat_theorem(n):\n",
    "    for a in range(1, 11):\n",
    "        for b in range(1, 11):\n",
    "            for c in range(1, 11):\n",
    "                if a ** n + b ** n == c ** n:\n",
    "                    return a, b, c\n",
    "    return None\n",
    "                    \n",
    "print(Fermat_theorem(2))"
   ]
  },
  {
   "cell_type": "markdown",
   "id": "7f7eb6ab",
   "metadata": {},
   "source": [
    "## 카운터 변수가 변하는 경우\n",
    "> 반복문에서 가장 복잡한 형태는 안쪽 반복문의 반복 횟수가 바깥쪽 반복문의 카운터 변수에 따라 변하는 상황"
   ]
  },
  {
   "cell_type": "code",
   "execution_count": 59,
   "id": "c42351a0",
   "metadata": {},
   "outputs": [
    {
     "name": "stdout",
     "output_type": "stream",
     "text": [
      "1\n",
      "3\n",
      "6\n",
      "10\n",
      "15\n",
      "21\n",
      "28\n",
      "36\n",
      "45\n",
      "55\n"
     ]
    }
   ],
   "source": [
    "# ex)\n",
    "\n",
    "for j in range(10):\n",
    "    sum = 0\n",
    "    for i in range(j + 1):\n",
    "        sum = sum + (i + 1)\n",
    "    print(sum)"
   ]
  },
  {
   "cell_type": "code",
   "execution_count": 71,
   "id": "36925716",
   "metadata": {},
   "outputs": [
    {
     "name": "stdout",
     "output_type": "stream",
     "text": [
      "3\n",
      "10\n"
     ]
    }
   ],
   "source": [
    "# 연습 문제 2.7.7\n",
    "'''\n",
    "다음과 같은 수열이 있을 경우에 n번째 수열의 값을 구한다.\n",
    "'''\n",
    "\n",
    "def cal_sequence(n):\n",
    "    res = 0\n",
    "    for i in range(1, n + 1):\n",
    "        for j in range(1, i + 1):\n",
    "            res = res + j\n",
    "    return res\n",
    "\n",
    "n=int(input())\n",
    "print(cal_sequence(n))"
   ]
  },
  {
   "cell_type": "code",
   "execution_count": null,
   "id": "c32d8998",
   "metadata": {},
   "outputs": [],
   "source": []
  }
 ],
 "metadata": {
  "kernelspec": {
   "display_name": "Python 3 (ipykernel)",
   "language": "python",
   "name": "python3"
  },
  "language_info": {
   "codemirror_mode": {
    "name": "ipython",
    "version": 3
   },
   "file_extension": ".py",
   "mimetype": "text/x-python",
   "name": "python",
   "nbconvert_exporter": "python",
   "pygments_lexer": "ipython3",
   "version": "3.9.13"
  }
 },
 "nbformat": 4,
 "nbformat_minor": 5
}
