{
 "cells": [
  {
   "cell_type": "markdown",
   "id": "e0d930f9",
   "metadata": {},
   "source": [
    "# 2. 8 여러 개의 자료를 한 변수에 담기\n",
    "---\n",
    "\n",
    "- 여러 개의 자료가 순서가 있을 때는 리스트(list) 자료형 사용\n",
    "\n",
    "- 여러 개의 자료가 이름이 있을 때는 딕셔너리(dictionary) 자료형 사용"
   ]
  },
  {
   "cell_type": "markdown",
   "id": "44b5982b",
   "metadata": {},
   "source": [
    "## 자료의 순서만 가지는 리스트 자료형\n",
    "리스트 자료형에는 여러개의 자료를 순서에 따라 저장할 수 있다. 리스트 자료형 변수는 다음처럼 만든다."
   ]
  },
  {
   "cell_type": "code",
   "execution_count": 1,
   "id": "5b9aa48b",
   "metadata": {},
   "outputs": [
    {
     "name": "stdout",
     "output_type": "stream",
     "text": [
      "[88, 90, 100]\n"
     ]
    }
   ],
   "source": [
    "# 리스트 변수 = [자료1, 자료2, 자료3]\n",
    "\n",
    "x = [88, 90, 100]\n",
    "print(x)"
   ]
  },
  {
   "cell_type": "markdown",
   "id": "21c6fc92",
   "metadata": {},
   "source": [
    "## 자료의 이름만 가지는 딕셔너리 자료형\n",
    "딕셔너리 자료형에는 여러개의 자료를 이름을 붙여서 저장할 수 있다."
   ]
  },
  {
   "cell_type": "code",
   "execution_count": 2,
   "id": "2ff930d0",
   "metadata": {},
   "outputs": [
    {
     "name": "stdout",
     "output_type": "stream",
     "text": [
      "{'math': 88, 'english': 90, 'history': 100}\n"
     ]
    }
   ],
   "source": [
    "# 딕셔너리 변수 = {자료이름1: 자료값1, 자료이름2: 자료값2, key3: value3}\n",
    "\n",
    "b = {\"math\": 88, \"english\": 90, \"history\": 100}\n",
    "print(b)"
   ]
  },
  {
   "cell_type": "markdown",
   "id": "3c5c1b49",
   "metadata": {},
   "source": [
    "딕셔너리 자료형 변수에서 특정한 자료를 꺼낼 때도 마찬가지로 인덱싱(indexing) 연산을 한다. \n",
    "딕셔너리 자료형 변수에서 인덱싱 연산을 할 때도 다음처럼 대괄호(bracket)를 변수 이름 끝에 붙이고 그 안에 자료의 키를 넣는다."
   ]
  },
  {
   "cell_type": "code",
   "execution_count": 3,
   "id": "0a213abe",
   "metadata": {},
   "outputs": [
    {
     "data": {
      "text/plain": [
       "88"
      ]
     },
     "execution_count": 3,
     "metadata": {},
     "output_type": "execute_result"
    }
   ],
   "source": [
    "b['math']"
   ]
  },
  {
   "cell_type": "code",
   "execution_count": 5,
   "id": "7c4dd9dc",
   "metadata": {},
   "outputs": [
    {
     "data": {
      "text/plain": [
       "89.0"
      ]
     },
     "execution_count": 5,
     "metadata": {},
     "output_type": "execute_result"
    }
   ],
   "source": [
    "(b['math'] + b['english']) / 2"
   ]
  },
  {
   "cell_type": "markdown",
   "id": "f8fe2628",
   "metadata": {},
   "source": [
    "> 파이썬에서는 자료의 키는 무엇이든 가능하다. 즉, 숫자도 키가 될 수 있다."
   ]
  },
  {
   "cell_type": "code",
   "execution_count": 6,
   "id": "cc3ade44",
   "metadata": {},
   "outputs": [],
   "source": [
    "b2 = {1: 10, 2: 20}"
   ]
  },
  {
   "cell_type": "code",
   "execution_count": 8,
   "id": "02fe1544",
   "metadata": {},
   "outputs": [
    {
     "data": {
      "text/plain": [
       "{1: 10, 2: 20}"
      ]
     },
     "execution_count": 8,
     "metadata": {},
     "output_type": "execute_result"
    }
   ],
   "source": [
    "b2"
   ]
  },
  {
   "cell_type": "code",
   "execution_count": 15,
   "id": "03980046",
   "metadata": {},
   "outputs": [
    {
     "name": "stdout",
     "output_type": "stream",
     "text": [
      "{'01': 31, '02': 28, '03': 31, '04': 30, '05': 31, '06': 30, '07': 31, '08': 31, '09': 30, '10': 31, '11': 30, '12': 31}\n",
      "30.166666666666668\n"
     ]
    }
   ],
   "source": [
    "# 연습 문제 2\n",
    "# 1. 윤년이 아닌 평년의 경우에 각 달의 날짜 수를 저장하는 변수 days를 만든다. 이 때 각 달을 표시하는 키는 두 글자짜리 문자열로 한다. 즉, 1월은 “01”, 2월은 “02”, 12월은 “12”로 한다.\n",
    "\n",
    "days = {'01': 31, '02': 28, '03': 31, '04': 30, '05': 31, '06': 30, '07': 31, '08': 31, '09': 30, '10': 31, '11': 30, '12':31}\n",
    "print(days)\n",
    "\n",
    "# 2. 변수 days를 이용하여 짝수 달의 평균 날짜 수를 구한다.\n",
    "\n",
    "temp = 0\n",
    "cnt = 0\n",
    "for k, v in days.items():\n",
    "    if int(k) % 2 == 0:\n",
    "        temp = temp + v\n",
    "        cnt = cnt + 1\n",
    "print(temp / cnt)    "
   ]
  },
  {
   "cell_type": "markdown",
   "id": "7086ec41",
   "metadata": {},
   "source": [
    "## 리스트와 딕셔너리에 들어가는 자료의 자료형¶\n",
    "> 리스트 변수에는 자료형이 같은 자료만 담을 수 있는 것은 아니고 자료형이 다른 자료들도 담을 수 있다."
   ]
  },
  {
   "cell_type": "code",
   "execution_count": 18,
   "id": "159b9eec",
   "metadata": {},
   "outputs": [
    {
     "name": "stdout",
     "output_type": "stream",
     "text": [
      "1\n",
      "3.14\n",
      "pi\n"
     ]
    }
   ],
   "source": [
    "# ex\n",
    "d = [1, 3.14, \"pi\"]\n",
    "\n",
    "for i in range(len(d)):\n",
    "    print(d[i])"
   ]
  },
  {
   "cell_type": "code",
   "execution_count": 20,
   "id": "f8a607e5",
   "metadata": {},
   "outputs": [
    {
     "name": "stdout",
     "output_type": "stream",
     "text": [
      "[1, 10]\n",
      "10\n"
     ]
    },
    {
     "data": {
      "text/plain": [
       "{0: 1, 1: 2}"
      ]
     },
     "execution_count": 20,
     "metadata": {},
     "output_type": "execute_result"
    }
   ],
   "source": [
    "# 심지어 리스트 변수에 또 다른 리스트 변수나 딕셔너리 변수를 넣을 수도 있다.\n",
    "\n",
    "e = [[1, 10], [2, 20]]\n",
    "print(e[0])\n",
    "print(e[0][1])\n",
    "\n",
    "\n",
    "# list 자료형 속 dict 자료형\n",
    "\n",
    "f = [{0: 0, 1: 10}, {0: 1, 1: 2}]\n",
    "f[1]"
   ]
  },
  {
   "cell_type": "code",
   "execution_count": 22,
   "id": "4c59ca6f",
   "metadata": {},
   "outputs": [
    {
     "name": "stdout",
     "output_type": "stream",
     "text": [
      "{0: 1, 1: 2}\n"
     ]
    }
   ],
   "source": [
    "# 딕셔너리 변수에도 여러가지 자료형의 자료를 넣을 수 있다.\n",
    "\n",
    "g = {'a': [1, 2, 3], 'b': {0: 1, 1: 2}}\n",
    "\n",
    "print(g['b'])"
   ]
  },
  {
   "cell_type": "code",
   "execution_count": null,
   "id": "ea8cf469",
   "metadata": {},
   "outputs": [],
   "source": []
  }
 ],
 "metadata": {
  "kernelspec": {
   "display_name": "Python 3 (ipykernel)",
   "language": "python",
   "name": "python3"
  },
  "language_info": {
   "codemirror_mode": {
    "name": "ipython",
    "version": 3
   },
   "file_extension": ".py",
   "mimetype": "text/x-python",
   "name": "python",
   "nbconvert_exporter": "python",
   "pygments_lexer": "ipython3",
   "version": "3.9.13"
  }
 },
 "nbformat": 4,
 "nbformat_minor": 5
}
