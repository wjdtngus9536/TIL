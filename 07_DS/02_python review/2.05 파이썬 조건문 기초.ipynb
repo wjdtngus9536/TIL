{
 "cells": [
  {
   "cell_type": "markdown",
   "id": "a341a8cb",
   "metadata": {},
   "source": [
    "# 2. 5 파이썬 조건문 기초\n",
    "---"
   ]
  },
  {
   "cell_type": "code",
   "execution_count": 6,
   "id": "35423918",
   "metadata": {},
   "outputs": [
    {
     "name": "stdout",
     "output_type": "stream",
     "text": [
      "2자리 수의 짝수가 아니다.\n"
     ]
    }
   ],
   "source": [
    "# 만약 어떤 수가 2자리 수의 짝수인지 알고 싶다면\n",
    "\n",
    "n = 102\n",
    "\n",
    "if (0 < n//10 < 10) & (n % 2 == 0):\n",
    "    print('2자리 수의 짝수이다.')\n",
    "else:\n",
    "    print('2자리 수의 짝수가 아니다.')"
   ]
  },
  {
   "cell_type": "code",
   "execution_count": 13,
   "id": "3b451741",
   "metadata": {},
   "outputs": [
    {
     "name": "stdout",
     "output_type": "stream",
     "text": [
      "2004년은 윤년입니다.\n"
     ]
    }
   ],
   "source": [
    "# 윤년 프로그램\n",
    "\"\"\"\n",
    "- 서력 기원 연수가 4로 나누어 떨어지는 해는 윤년\n",
    "- 이 중에서 100으로 나누어 떨어지는 해는 평년\n",
    "- 이 중에서 400으로 나누어 떨어지는 해는 윤년\n",
    "\"\"\"\n",
    "\n",
    "year = 2004\n",
    "\n",
    "if (year % 4 == 0 and year % 100 != 0) or year % 400 == 0:\n",
    "    print(f'{year}년은 윤년입니다.')\n",
    "else:\n",
    "    print(f'{year}년은 평년입니다.')"
   ]
  },
  {
   "cell_type": "code",
   "execution_count": null,
   "id": "0fe00333",
   "metadata": {},
   "outputs": [],
   "source": []
  }
 ],
 "metadata": {
  "kernelspec": {
   "display_name": "Python 3 (ipykernel)",
   "language": "python",
   "name": "python3"
  },
  "language_info": {
   "codemirror_mode": {
    "name": "ipython",
    "version": 3
   },
   "file_extension": ".py",
   "mimetype": "text/x-python",
   "name": "python",
   "nbconvert_exporter": "python",
   "pygments_lexer": "ipython3",
   "version": "3.9.13"
  }
 },
 "nbformat": 4,
 "nbformat_minor": 5
}
