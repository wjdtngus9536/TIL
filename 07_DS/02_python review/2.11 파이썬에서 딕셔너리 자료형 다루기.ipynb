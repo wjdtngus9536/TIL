{
 "cells": [
  {
   "cell_type": "markdown",
   "id": "b65c8d10",
   "metadata": {},
   "source": [
    "# 2.11 파이썬에서 딕셔너리 자료형 다루기\n",
    "---"
   ]
  },
  {
   "cell_type": "markdown",
   "id": "3ba3f4da",
   "metadata": {},
   "source": [
    "## 1. 자료의 개수 - len()"
   ]
  },
  {
   "cell_type": "code",
   "execution_count": 1,
   "id": "1b84bd79",
   "metadata": {},
   "outputs": [
    {
     "data": {
      "text/plain": [
       "2"
      ]
     },
     "execution_count": 1,
     "metadata": {},
     "output_type": "execute_result"
    }
   ],
   "source": [
    "x = {\"a\": 10, \"b\": 20}\n",
    "len(x)"
   ]
  },
  {
   "cell_type": "markdown",
   "id": "86fd02a5",
   "metadata": {},
   "source": [
    "## 2. 자료의 갱신, 추가, 삭제"
   ]
  },
  {
   "cell_type": "code",
   "execution_count": 2,
   "id": "c7505664",
   "metadata": {},
   "outputs": [
    {
     "data": {
      "text/plain": [
       "{'a': 30, 'b': 20}"
      ]
     },
     "execution_count": 2,
     "metadata": {},
     "output_type": "execute_result"
    }
   ],
   "source": [
    "# 2.1. 특정한 키 값을 다른 값으로 바꾸려면 인덱싱 결과에 바꾸고자 하는 값을 대입\n",
    "x['a'] = 30\n",
    "x"
   ]
  },
  {
   "cell_type": "code",
   "execution_count": 3,
   "id": "297e6608",
   "metadata": {},
   "outputs": [
    {
     "data": {
      "text/plain": [
       "{'a': 30, 'b': 20, 'c': 40}"
      ]
     },
     "execution_count": 3,
     "metadata": {},
     "output_type": "execute_result"
    }
   ],
   "source": [
    "# 2.2 딕셔너리 자료형에 새로운 키와 이에 대응하는 값을 추가하려면 현재는 자료 갱신과 마찬가지로 인덱싱 결과에 값을 대입\n",
    "x['c'] = 40\n",
    "x"
   ]
  },
  {
   "cell_type": "code",
   "execution_count": 4,
   "id": "bef48ba8",
   "metadata": {},
   "outputs": [
    {
     "data": {
      "text/plain": [
       "{'a': 30, 'c': 40}"
      ]
     },
     "execution_count": 4,
     "metadata": {},
     "output_type": "execute_result"
    }
   ],
   "source": [
    "# 2.3 특정한 키와 이에 해당하는 값을 없애려면 del 명령을 사용\n",
    "del x['b']\n",
    "x"
   ]
  },
  {
   "cell_type": "markdown",
   "id": "896b5c71",
   "metadata": {},
   "source": [
    "## 3. 키 확인 - in 키워드 사용"
   ]
  },
  {
   "cell_type": "code",
   "execution_count": 5,
   "id": "c2264f37",
   "metadata": {},
   "outputs": [
    {
     "data": {
      "text/plain": [
       "True"
      ]
     },
     "execution_count": 5,
     "metadata": {},
     "output_type": "execute_result"
    }
   ],
   "source": [
    "# 3.1 특정한 키가 있는지 확인\n",
    "\"a\" in x"
   ]
  },
  {
   "cell_type": "markdown",
   "id": "9fafda4e",
   "metadata": {},
   "source": [
    "## 4. 딕셔너리 자료형의 반복 - x.keys(), x.values(), x.items() \n",
    "> 딕셔너리 자료형은 내부적으로 자료의 순서를 보장하지 않으므로 특정한 순서로 반복될 것을 기대하면 안된다는 점에 주의"
   ]
  },
  {
   "cell_type": "code",
   "execution_count": 11,
   "id": "bde61be0",
   "metadata": {},
   "outputs": [
    {
     "name": "stdout",
     "output_type": "stream",
     "text": [
      "a\n",
      "c\n",
      "dict_keys(['a', 'c'])\n",
      "<class 'dict_keys'> \n",
      "\n",
      "a\n",
      "c\n"
     ]
    }
   ],
   "source": [
    "# 4.1 Key만 반복하는 경우\n",
    "for k in x:\n",
    "    print(k)\n",
    "    \n",
    "# keys 메서드는 딕셔너리 자료의 키 목록을 리스트로 반환하므로 반복문에 이를 사용할 수도 있다.\n",
    "print(x.keys())\n",
    "print(type(x.keys()), \"\\n\")\n",
    "\n",
    "for k in x.keys():\n",
    "    print(k)"
   ]
  },
  {
   "cell_type": "code",
   "execution_count": 13,
   "id": "6a702ec3",
   "metadata": {},
   "outputs": [
    {
     "name": "stdout",
     "output_type": "stream",
     "text": [
      "dict_values([30, 40]) \n",
      "\n",
      "30\n",
      "40\n"
     ]
    }
   ],
   "source": [
    "# 4.2 딕셔너리 자료형의 Value 반복 - values() 메서드\n",
    "print(x.values(),'\\n')\n",
    "\n",
    "for v in x.values():\n",
    "    print(v)"
   ]
  },
  {
   "cell_type": "code",
   "execution_count": 15,
   "id": "8d9438ab",
   "metadata": {},
   "outputs": [
    {
     "name": "stdout",
     "output_type": "stream",
     "text": [
      "key [a] => value [30]\n",
      "key [c] => value [40]\n"
     ]
    }
   ],
   "source": [
    "# 4.3 딕셔너리 자료형의 키와 값의 쌍 반복\n",
    "for k, v in x.items():\n",
    "    print('key [%s] => value [%d]' % (k, v))"
   ]
  },
  {
   "cell_type": "code",
   "execution_count": 26,
   "id": "91ef3497",
   "metadata": {},
   "outputs": [
    {
     "name": "stdout",
     "output_type": "stream",
     "text": [
      "철수      98\n",
      "영희      80\n",
      "순이     100\n",
      "돌이      70\n",
      "=============\n",
      "평균      87\n"
     ]
    }
   ],
   "source": [
    "# 연습 문제 2.11.1\n",
    "\n",
    "data = {\n",
    "    \"철수\": 98,\n",
    "    \"영희\": 80,\n",
    "    \"순이\": 100,\n",
    "    \"돌이\": 70,\n",
    "}\n",
    "\n",
    "sum_score = 0\n",
    "for k, v in data.items():\n",
    "    print('{:<} {:>7}'.format(k, v))\n",
    "    sum_score = sum_score + v\n",
    "print('='*13)\n",
    "print('평균 {:>7}'.format(sum_score // len(data)))\n"
   ]
  },
  {
   "cell_type": "code",
   "execution_count": null,
   "id": "2a39d6f5",
   "metadata": {},
   "outputs": [],
   "source": []
  }
 ],
 "metadata": {
  "kernelspec": {
   "display_name": "Python 3 (ipykernel)",
   "language": "python",
   "name": "python3"
  },
  "language_info": {
   "codemirror_mode": {
    "name": "ipython",
    "version": 3
   },
   "file_extension": ".py",
   "mimetype": "text/x-python",
   "name": "python",
   "nbconvert_exporter": "python",
   "pygments_lexer": "ipython3",
   "version": "3.9.13"
  }
 },
 "nbformat": 4,
 "nbformat_minor": 5
}
