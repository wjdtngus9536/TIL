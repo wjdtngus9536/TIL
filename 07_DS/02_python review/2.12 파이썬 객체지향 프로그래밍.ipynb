{
 "cells": [
  {
   "cell_type": "markdown",
   "id": "04277102",
   "metadata": {},
   "source": [
    "# 2.12 파이썬 객체지향 프로그래밍\n",
    "---"
   ]
  },
  {
   "cell_type": "markdown",
   "id": "80c9aabf",
   "metadata": {},
   "source": [
    "## 1. 객체\n",
    "프로그램이 어떤 작업을 수행하기 위해서는 (1)데이터와 (2)데이터를 조작하는 행위, 두 가지 요소가 필요하다. 일반적으로 데이터는 변수에 넣어서 사용하고 데이터를 조작하는 일은 함수로 구성해서 쉽게 실행할 수 있도록 만들어 놓는다.  \n",
    "\n",
    "> 객체(Object, instance)는 서로 연관된 데이터와 그 데이터를 조작하기 위한 함수를 하나의 집합에 모아놓은 것을 말한다.\n",
    "\n",
    "이 때 집합의 원소가 되는 변수나 함수는 멤버(member) 또는 속성(attribute)이라고 한다.  \n",
    "특히 객체의 속성인 함수는 메서드(method)라고 부른다.\n"
   ]
  },
  {
   "cell_type": "markdown",
   "id": "2882095e",
   "metadata": {},
   "source": [
    "### 사각형의 면적을 구하는 프로그램을 만든다고 하자.\n",
    "\n",
    "필요한 변수와 함수는 다음과 같다.\n",
    "1. 가로 길이와 세로 길이라는 두 개의 데이터를 넣을 변수 - 가로길이 h, 세로 길이 v\n",
    "2. 두 길이를 곱해서 면적을 구하는 함수 - def area(h, v)\n",
    "\n",
    "**객체지향 프로그래밍에서는 이 세가지를 하나의 객체(object)로 묶을 수 있다.**"
   ]
  },
  {
   "cell_type": "code",
   "execution_count": 1,
   "id": "1fcc71d2",
   "metadata": {},
   "outputs": [],
   "source": [
    "# class의 구현\n",
    "\n",
    "class Rectangle(object):\n",
    "    \n",
    "    def __init__(self, h, v):\n",
    "        self.h = h\n",
    "        self.v = v\n",
    "        \n",
    "    def area(self):\n",
    "        return self.h * self.v"
   ]
  },
  {
   "cell_type": "code",
   "execution_count": 2,
   "id": "43250cdd",
   "metadata": {},
   "outputs": [
    {
     "name": "stdout",
     "output_type": "stream",
     "text": [
      "200\n"
     ]
    }
   ],
   "source": [
    "# 실제로 길이 변수들을 저장하고 면적을 계산하는 코드\n",
    "r = Rectangle(10, 20) # r이 바로 객체이다.\n",
    "a = r.area()\n",
    "print(a)"
   ]
  },
  {
   "cell_type": "code",
   "execution_count": 3,
   "id": "f2c5e683",
   "metadata": {},
   "outputs": [
    {
     "data": {
      "text/plain": [
       "10"
      ]
     },
     "execution_count": 3,
     "metadata": {},
     "output_type": "execute_result"
    }
   ],
   "source": [
    "r.h"
   ]
  },
  {
   "cell_type": "code",
   "execution_count": 4,
   "id": "7ef2a27d",
   "metadata": {},
   "outputs": [
    {
     "data": {
      "text/plain": [
       "20"
      ]
     },
     "execution_count": 4,
     "metadata": {},
     "output_type": "execute_result"
    }
   ],
   "source": [
    "r.v"
   ]
  },
  {
   "cell_type": "code",
   "execution_count": 5,
   "id": "98ebc7f0",
   "metadata": {},
   "outputs": [
    {
     "data": {
      "text/plain": [
       "200"
      ]
     },
     "execution_count": 5,
     "metadata": {},
     "output_type": "execute_result"
    }
   ],
   "source": [
    "r.area()"
   ]
  },
  {
   "cell_type": "markdown",
   "id": "5e1fe4d5",
   "metadata": {},
   "source": [
    "## 2. 클래스\n",
    "객체지향 프로그래밍에서 객체를 만들려면 객체를 바로 만들지 못하고 항상 클래스(class)라는 것을 만든 후에 그 클래스를 이용하여 객체를 만들어야 한다.\n",
    "\n",
    "- Rectangle은 클래스\n",
    "- r은 Rectnagle 클래스로 만들어진 객체"
   ]
  },
  {
   "cell_type": "code",
   "execution_count": 6,
   "id": "cdf7d1fc",
   "metadata": {},
   "outputs": [],
   "source": [
    "a = Rectangle(1, 1)   # 가로 1, 세로 1인 사각형\n",
    "b = Rectangle(2, 1)   # 가로 2, 세로 1인 사각형\n",
    "c = Rectangle(4, 2)   # 가로 4, 세로 2인 사각형\n",
    "d = Rectangle(6, 3)   # 가로 6, 세로 3인 사각형\n",
    "e = Rectangle(8, 5)   # 가로 8, 세로 5인 사각형"
   ]
  },
  {
   "cell_type": "code",
   "execution_count": 7,
   "id": "f3c0cba8",
   "metadata": {},
   "outputs": [
    {
     "name": "stdout",
     "output_type": "stream",
     "text": [
      "1\n",
      "2\n",
      "8\n",
      "18\n",
      "40\n"
     ]
    }
   ],
   "source": [
    "print(a.area())\n",
    "print(b.area())\n",
    "print(c.area())\n",
    "print(d.area())\n",
    "print(e.area())"
   ]
  },
  {
   "cell_type": "markdown",
   "id": "bd30d42a",
   "metadata": {},
   "source": [
    "## 3. 생성자\n",
    "파이썬에서 클래스를 정의하는 문법은 다음과 같다.  \n",
    "```bash\n",
    "class 클래스이름(object):\n",
    "    \n",
    "    def __init__(self, 속성값1, 속성값2, 속성값3):\n",
    "        self.속성이름1 = 속성값1\n",
    "        self.속성이름2 = 속성값2\n",
    "        self.속성이름3 = 속성값3\n",
    "```\n",
    "\n",
    "- 이때 속성값 인수는 필요하지 않다면 없어도 된다.\n",
    "- 여기에서 class 블럭 안에 정의된 __init__란 함수는 생성자(constructor)라고 하며 클래스 정의에서 가장 중요한 함수이다.\n",
    "- 객체를 생성할 때는 클래스이름을 함수처럼 호출해야 하는데, 이때 실제로는 `__init__`로 정의된 생성자 함수가 호출된다. \n",
    "- 생성자 함수 내부에서는 생성자를 호출할 때 넣은 입력 변수(parameter), 즉 인자(argument)의 값을 속성값으로 저장한다."
   ]
  },
  {
   "cell_type": "code",
   "execution_count": 9,
   "id": "9e3c867c",
   "metadata": {},
   "outputs": [
    {
     "name": "stdout",
     "output_type": "stream",
     "text": [
      "6.0\n"
     ]
    }
   ],
   "source": [
    "# 연습 문제 2.12.1\n",
    "'''\n",
    "삼각형의 넓이를 계산하기 위한 클래스를 만든다. \n",
    "이 클래스는 다음과 같은 속성을 가진다.\n",
    "- 밑변의 길이 b와 높이 h\n",
    "- 삼각형의 넓이를 계산하는 메서드 area\n",
    "'''\n",
    "\n",
    "class Triangle(object):\n",
    "    \n",
    "    def __init__(self, b, h):\n",
    "        self.b = b\n",
    "        self.h = h\n",
    "        \n",
    "    def area(self): # 여기서도 self는 꼭 적어야 하나?\n",
    "        return self.b * self.h / 2\n",
    "    \n",
    "temp = Triangle(4,3)\n",
    "print(temp.area())"
   ]
  },
  {
   "cell_type": "code",
   "execution_count": 15,
   "id": "a7ee9544",
   "metadata": {},
   "outputs": [
    {
     "name": "stdout",
     "output_type": "stream",
     "text": [
      "94\n"
     ]
    }
   ],
   "source": [
    "# 연습 문제 2.12.2\n",
    "'''\n",
    "사각 기둥의 부피를 계산하기 위한 클래스를 만든다. \n",
    "이 클래스는 다음과 같은 속성을 가진다.\n",
    "밑면의 가로 길이 a, 밑면의 세로 길이 b, 높이 h\n",
    "부피를 계산하는 메서드 volume\n",
    "겉넓이를 계산하는 메서드 surface\n",
    "'''\n",
    "\n",
    "class Rectangular_Prism(object):\n",
    "    \n",
    "    def __init__(self, a, b, h):\n",
    "        self.a = a\n",
    "        self.b = b\n",
    "        self.h = h\n",
    "        \n",
    "    def volume(self):\n",
    "        return self.a * self.b * self.h\n",
    "    \n",
    "    def surface(self):\n",
    "        return 2 * (self.a * self.b + self.b * self.h + self.a * self.h)\n",
    "            \n",
    "temp = Rectangular_Prism(4, 3, 5)\n",
    "\n",
    "print(temp.surface())"
   ]
  },
  {
   "cell_type": "markdown",
   "id": "73cb0548",
   "metadata": {},
   "source": [
    "## 4. 게임 캐릭터와 객체 - 상속(Inheritance)\n",
    "\n",
    "컴퓨터 게임에 사용되는 플레이어의 캐릭터는 객체지향 프로그램을 통해 만든다고 생각해 보자.  \n",
    "캐릭터의 능력치, 경험치 등의 숫자는 캐릭터마다 다르게 관리되어야 하므로 객체의 속성이 될 수 있다.\n",
    "또한 모든 캐릭터 조작에 공통적으로 필요한 이동, 공격 등의 조작은 메서드로 구현할 수 있을 것이다.\n",
    "\n",
    "- 플레이어의 캐릭터\n",
    "- 속성 : 캐릭터의 능력치, 경험치 등\n",
    "- 메서드 : 캐릭터를 움직이는 방법, 이동, 공격 등\n",
    "\n",
    "이를 기반으로 캐릭터를 만들어내는 Character라는 클래스를 만든다. 이 클래스로 만든 캐릭터는 1,000이라는 life 속성값을 가지고 생성되며 게임상에서 공격받을 때는 attacked라는 메서드가 호출되어 life 속성값을 10만큼 감소시키고 공격받았음을 표시한다."
   ]
  },
  {
   "cell_type": "code",
   "execution_count": 16,
   "id": "c71eafdc",
   "metadata": {},
   "outputs": [],
   "source": [
    "class Character(object):\n",
    "    \n",
    "    def __init__(self):\n",
    "        self.life = 1000\n",
    "        \n",
    "    def attacked(self):\n",
    "        self.life -= 10\n",
    "        print(\"공격받음! 생명력 =\", self.life)"
   ]
  },
  {
   "cell_type": "code",
   "execution_count": 17,
   "id": "ba1cef62",
   "metadata": {},
   "outputs": [],
   "source": [
    "# 세 개의 캐릭터 객체를 생성한다.\n",
    "a = Character()\n",
    "b = Character()\n",
    "c = Character()"
   ]
  },
  {
   "cell_type": "code",
   "execution_count": 18,
   "id": "df04b2be",
   "metadata": {},
   "outputs": [
    {
     "data": {
      "text/plain": [
       "1000"
      ]
     },
     "execution_count": 18,
     "metadata": {},
     "output_type": "execute_result"
    }
   ],
   "source": [
    "a.life"
   ]
  },
  {
   "cell_type": "code",
   "execution_count": 19,
   "id": "17fc80a9",
   "metadata": {},
   "outputs": [
    {
     "data": {
      "text/plain": [
       "1000"
      ]
     },
     "execution_count": 19,
     "metadata": {},
     "output_type": "execute_result"
    }
   ],
   "source": [
    "b.life"
   ]
  },
  {
   "cell_type": "code",
   "execution_count": 20,
   "id": "7e03a743",
   "metadata": {},
   "outputs": [
    {
     "data": {
      "text/plain": [
       "1000"
      ]
     },
     "execution_count": 20,
     "metadata": {},
     "output_type": "execute_result"
    }
   ],
   "source": [
    "c. life"
   ]
  },
  {
   "cell_type": "code",
   "execution_count": 21,
   "id": "3f5a0af1",
   "metadata": {},
   "outputs": [
    {
     "name": "stdout",
     "output_type": "stream",
     "text": [
      "공격받음! 생명력 = 990\n"
     ]
    }
   ],
   "source": [
    "a.attacked()"
   ]
  },
  {
   "cell_type": "code",
   "execution_count": 22,
   "id": "59f9384c",
   "metadata": {},
   "outputs": [
    {
     "name": "stdout",
     "output_type": "stream",
     "text": [
      "공격받음! 생명력 = 980\n",
      "공격받음! 생명력 = 970\n",
      "공격받음! 생명력 = 960\n",
      "공격받음! 생명력 = 950\n",
      "공격받음! 생명력 = 940\n"
     ]
    }
   ],
   "source": [
    "a.attacked()\n",
    "a.attacked()\n",
    "a.attacked()\n",
    "a.attacked()\n",
    "a.attacked()"
   ]
  },
  {
   "cell_type": "code",
   "execution_count": 23,
   "id": "03ace49b",
   "metadata": {},
   "outputs": [
    {
     "name": "stdout",
     "output_type": "stream",
     "text": [
      "공격받음! 생명력 = 990\n"
     ]
    }
   ],
   "source": [
    "b.attacked()"
   ]
  },
  {
   "cell_type": "code",
   "execution_count": 24,
   "id": "2b16bd0b",
   "metadata": {},
   "outputs": [
    {
     "data": {
      "text/plain": [
       "(940, 990, 1000)"
      ]
     },
     "execution_count": 24,
     "metadata": {},
     "output_type": "execute_result"
    }
   ],
   "source": [
    "a.life, b.life, c.life"
   ]
  },
  {
   "cell_type": "markdown",
   "id": "42fa85ed",
   "metadata": {},
   "source": [
    "## 5. 클래스 상속(class inheritance)\n",
    "\n",
    "만약 전사(Warrior), 마법사(Wizard) 등 다양한 직업을 가진 캐릭터가 있고, 각 캐릭터는 서로 다른 초기 속성값을 가지고 태어난다면 어떻게 프로그램해야 할까? \n",
    "\n",
    "클래스 상속을 사용하면 이미 만들어진 클래스 코드를 재사용하여 다른 클래스를 생성할 수 있다. 즉, 상속 과정에서 공통으로 사용하는 속성이나 메서드는 두 번 반복해서 코딩할 필요가 없다. 이때 상속을 받는 클래스를 자식 클래스(child class)라고 한다.\n",
    "\n",
    "```bash\n",
    "class 자식클래스이름(부모클래스이름):\n",
    "\n",
    "    def __init__(self, 속성값1, 속성값2):\n",
    "        super(자식클래스이름, self).__init__()\n",
    "        자식 클래스의 초기화 코드\n",
    "```\n",
    "우리가 지금까지 쓰던 클래스 정의를 살펴보면 object라는 부모 클래스에서 상속받는 것이었다.  \n",
    "\n",
    "`super(자식클래스이름, self).__init()__` 부분은 **부모 클래스**의 초기화 생성자를 호출하는 부분\n",
    "\n",
    "Warrior 라는 클래스에서 부모 클래스인 Character 클래스의 생성자를 호출하면 life라는 속성값을 초기화하므로 **자식 클래스에서는 이 속성값을 초기화해줄 필요가 없다.**"
   ]
  },
  {
   "cell_type": "code",
   "execution_count": 25,
   "id": "e59847a6",
   "metadata": {},
   "outputs": [],
   "source": [
    "class Warrior(Character):\n",
    "    \n",
    "    def __init__(self):\n",
    "        super(Warrior, self).__init__()\n",
    "        self.strength = 15\n",
    "        self.intelligence = 5\n",
    "        \n",
    "class Wizard(Character):\n",
    "    \n",
    "    def __init__(self):\n",
    "        super(Wizard, self).__init__()\n",
    "        self.strength = 5\n",
    "        self.intelligence = 15"
   ]
  },
  {
   "cell_type": "code",
   "execution_count": 26,
   "id": "b27592db",
   "metadata": {},
   "outputs": [],
   "source": [
    "a = Warrior()\n",
    "b = Wizard()"
   ]
  },
  {
   "cell_type": "code",
   "execution_count": 30,
   "id": "c9bc6f3b",
   "metadata": {},
   "outputs": [
    {
     "name": "stdout",
     "output_type": "stream",
     "text": [
      "1000 1000\n",
      "15 5\n",
      "5 15\n",
      "공격받음! 생명력 = 990\n",
      "공격받음! 생명력 = 990\n",
      "990 990\n"
     ]
    }
   ],
   "source": [
    "# 이 클래스의 객체를 만들어보면 명시적으로 만들지 않았지만\n",
    "# life라는 속성과 attacked 라는 메서드를 가진다.\n",
    "print(a.life, b.life)\n",
    "print(a.strength, b.strength)\n",
    "print(a.intelligence, b.intelligence)\n",
    "\n",
    "a.attacked()\n",
    "b.attacked()\n",
    "print(a.life, b.life)"
   ]
  },
  {
   "cell_type": "markdown",
   "id": "9b097c7d",
   "metadata": {},
   "source": [
    "## 6. 메서드 오버라이딩\n",
    "> 메서드 오버라이딩(Method Overriding)이란, 여러 클래스에 걸쳐서 같은 이름의 메서드를 만드는 것이다.\n",
    "\n",
    "예를 들어 부모 클래스, 전사 캐릭터 클래스, 마법사 캐릭터 클래스에 공통으로 attack이라는 메서드가 있지만, 각각 하는 일이 다를 때는 다음처럼 같은 이름의 메서드를 클래스별로 구현하면 된다. 이렇게 되면 부모 클래스에서 만든 메서드 정의를 자식 클래스에서는 변경해서 사용한다."
   ]
  },
  {
   "cell_type": "code",
   "execution_count": 53,
   "id": "3bd137c1",
   "metadata": {},
   "outputs": [],
   "source": [
    "class Character(object):\n",
    "    \n",
    "    def __init__(self):\n",
    "        self.life = 1000\n",
    "        self.strength = 10\n",
    "        self.intelligence = 10\n",
    "        \n",
    "    def attacked(self):\n",
    "        self.life -= 10\n",
    "        print(\"공격받음! 생명력 =\", self.life)\n",
    "        \n",
    "    # self 없으면 어떻게 되지?\n",
    "    # TypeError: attack() takes 0 positional arguments but 1 was given\n",
    "    # 왜냐면 attack은 self를 받지 않으니까 인스턴스를 통해 접근하면 에러 발생\n",
    "    # self는 인스턴스를 직접 지칭하는 것 (인스턴스의 주소에 해당)\n",
    "    def attack(self): \n",
    "        print(\"공격!\")"
   ]
  },
  {
   "cell_type": "code",
   "execution_count": 55,
   "id": "75d83603",
   "metadata": {},
   "outputs": [
    {
     "name": "stdout",
     "output_type": "stream",
     "text": [
      "공격!\n"
     ]
    }
   ],
   "source": [
    "a = Character()\n",
    "a.attack() # self가 없는 경우 인스턴스 a의 주소를 받을 수 없기 때문에\n",
    "# self가 없는 클래스 메서드를 호출하려면 아래와 같이 [클래스명을 통해] 접근해야 한다.\n",
    "# Character.attack()"
   ]
  },
  {
   "cell_type": "code",
   "execution_count": 48,
   "id": "f329b432",
   "metadata": {},
   "outputs": [],
   "source": [
    "class Warrior(Character):\n",
    "    \n",
    "    def __init__(self):\n",
    "        super(Warrior, self).__init__()\n",
    "        self.strength = 15\n",
    "        self.intelligence = 5\n",
    "        \n",
    "    def attack(self): # method overriding\n",
    "        print('육탄 공격!')\n",
    "        \n",
    "class Wizard(Character):\n",
    "    \n",
    "    def __init__(self):\n",
    "        super(Wizard, self).__init__()\n",
    "        self.strength = 5        # method\n",
    "        self.intelligence = 15   # overriding\n",
    "        \n",
    "    def attack(self):\n",
    "        print('마법 공격!')"
   ]
  },
  {
   "cell_type": "code",
   "execution_count": 49,
   "id": "c2e107ee",
   "metadata": {},
   "outputs": [],
   "source": [
    "a = Character()\n",
    "b = Warrior()\n",
    "c = Wizard()"
   ]
  },
  {
   "cell_type": "code",
   "execution_count": 56,
   "id": "797e7b3e",
   "metadata": {},
   "outputs": [
    {
     "name": "stdout",
     "output_type": "stream",
     "text": [
      "공격!\n",
      "육탄 공격!\n",
      "마법 공격!\n"
     ]
    }
   ],
   "source": [
    "a.attack()\n",
    "b.attack()\n",
    "c.attack()"
   ]
  },
  {
   "cell_type": "code",
   "execution_count": 57,
   "id": "eab67bb2",
   "metadata": {},
   "outputs": [
    {
     "data": {
      "text/plain": [
       "(1000, 1000, 1000)"
      ]
     },
     "execution_count": 57,
     "metadata": {},
     "output_type": "execute_result"
    }
   ],
   "source": [
    "a.life, b.life, c.life"
   ]
  },
  {
   "cell_type": "markdown",
   "id": "0ad49bdc",
   "metadata": {},
   "source": [
    "## 참조 : 오버로딩 Overloading \n",
    "> 오버로딩은 같은 메서드가 인수의 자료형이나 개수를 다르게 받을 수 있는 것을 말한다.  \n",
    "C++, Java 등에서는 지원하지만, 파이썬에서는 오버로딩을 지원하지 않으므로 프로그래머가 내부적으로 알아서 처리해야 한다"
   ]
  },
  {
   "cell_type": "code",
   "execution_count": null,
   "id": "28df6ebe",
   "metadata": {},
   "outputs": [],
   "source": []
  },
  {
   "cell_type": "code",
   "execution_count": 58,
   "id": "a6dab1fe",
   "metadata": {},
   "outputs": [],
   "source": [
    "# 연습 문제 2.12.3\n",
    "# 게임 캐릭터 코드에서 attacked 메서드도 오버라이딩을 하여 전사와 마법사가 공격을 받을 때 life 속성값이 다르게 감소하도록 한다.\n",
    "\n",
    "class Warrior(Character):\n",
    "    \n",
    "    def __init__(self):\n",
    "        super(Warrior, self).__init__()\n",
    "        self.strength = 15\n",
    "        self.intelligence = 5\n",
    "        \n",
    "    def attacked(self):\n",
    "        self.life -= 5\n",
    "        print('전사 공격받음, 생명력 =', self.life)\n",
    "        \n",
    "    def attack(self): # method overriding\n",
    "        print('육탄 공격!')\n",
    "        \n",
    "class Wizard(Character):\n",
    "    \n",
    "    def __init__(self):\n",
    "        super(Wizard, self).__init__()\n",
    "        self.strength = 5        # method\n",
    "        self.intelligence = 15   # overriding\n",
    "        \n",
    "    def attacked(self):\n",
    "        self.life -= 15\n",
    "        print('마법사 공격받음, 생명력 =', self.life)\n",
    "        \n",
    "    def attack(self):\n",
    "        print('마법 공격!')"
   ]
  },
  {
   "cell_type": "code",
   "execution_count": 59,
   "id": "f8332be1",
   "metadata": {},
   "outputs": [
    {
     "name": "stdout",
     "output_type": "stream",
     "text": [
      "공격받음! 생명력 = 990\n",
      "전사 공격받음, 생명력 = 995\n",
      "마법사 공격받음, 생명력 = 985\n",
      "990 995 985\n"
     ]
    }
   ],
   "source": [
    "a = Character()\n",
    "b = Warrior()\n",
    "c = Wizard()\n",
    "\n",
    "a.attacked()\n",
    "b.attacked()\n",
    "c.attacked()\n",
    "\n",
    "print(a.life, b.life, c.life)"
   ]
  },
  {
   "cell_type": "code",
   "execution_count": 68,
   "id": "9645fc24",
   "metadata": {},
   "outputs": [
    {
     "name": "stdout",
     "output_type": "stream",
     "text": [
      "현재 Ferrari의 속도는 20\n",
      "현재 Ferrari의 속도는 0\n",
      "! 속도는 0 미만으로 감소할 수 없음\n",
      "현재 Porsche의 속도는 0\n",
      "현재 Porsche의 속도는 20\n",
      "현재 Porsche의 속도는 40\n",
      "현재 Porsche의 속도는 60\n",
      "현재 Porsche의 속도는 80\n",
      "현재 Porsche의 속도는 100\n",
      "현재 Porsche의 속도는 120\n",
      "현재 Porsche의 속도는 140\n",
      "현재 Porsche의 속도는 160\n",
      "! 최대 속력 초과\n",
      "현재 Porsche의 속도는 160\n"
     ]
    }
   ],
   "source": [
    "# 연습 문제 2.12.4\n",
    "# 다음과 같이 자동차를 나타내는 Car 클래스를 구현한다.\n",
    "\n",
    "'''\n",
    "1. 이 클래스는 최고 속도를 의미하는 max_speed라는 속성과 현재 속도를 나타내는 speed라는 속성을 가진다.\n",
    "\n",
    "2. 객체 생성시 max_speed 속성은 160이 되고 speed 속성은 0이 된다.\n",
    "\n",
    "3. speed_up, speed_down이라는 메서드를 가진다. \n",
    "speed_up을 호출하면 speed 속성이 20씩 증가하고 speed_down을 호출하면 speed 속성이 20씩 감소한다.\n",
    "\n",
    "4. 스피드 속성 speed의 값은 max_speed 속성 값, 즉 160을 넘을 수 없다. 또 0 미만으로 감소할 수도 없다.\n",
    "\n",
    "5. 메서드는 호출시 속도 정보를 출력하고 명시적인 반환값을 가지지 않는다.\n",
    "\n",
    "6. 위 기능이 모두 정상적으로 구현되었음을 보이는 코드를 추가한다.\n",
    "'''\n",
    "\n",
    "# car 클래스 구현\n",
    "class Car(object):\n",
    "    \n",
    "    # 명시된 두 가지 속성 모두를 가지도록 설계\n",
    "    def __init__(self, car_name):\n",
    "        self.car_name = car_name\n",
    "        self.max_speed = 160\n",
    "        self.speed = 0\n",
    "        \n",
    "    def speed_up(self):\n",
    "        if (self.speed + 20) > self.max_speed:\n",
    "            print('! 최대 속력 초과')\n",
    "        else:\n",
    "            self.speed += 20\n",
    "        # 메서드는 호출시 속도 정보를 출력하고 명시적인 반환값을 가지지 않는다.\n",
    "        print('현재 {}의 속도는'.format(self.car_name),self.speed)\n",
    "        \n",
    "    def speed_down(self):\n",
    "        if (self.speed - 20) < 0:\n",
    "            print('! 속도는 0 미만으로 감소할 수 없음')\n",
    "        else:\n",
    "            self.speed -= 20\n",
    "        print('현재 {}의 속도는'.format(self.car_name),self.speed)\n",
    "        \n",
    "\n",
    "# 위 기능이 정상적으로 구현되었음을 보이는 코드 추가\n",
    "\n",
    "# 객체 정의\n",
    "## 객체를 생성할 때는 클래스이름을 함수처럼 호출해야 하는데, 이때 실제로는 __init__로 정의된 생성자 함수가 호출된다.\n",
    "ferrari = Car('Ferrari') # __init__함수(생성자) 호출 argument로 'Ferrari' string값 전달\n",
    "\n",
    "# 속도 정보 출력 TEST\n",
    "ferrari.speed_up()\n",
    "ferrari.speed_down()\n",
    "\n",
    "# 새로운 인스턴스 정의\n",
    "porsche = Car('Porsche')\n",
    "\n",
    "# Boundary TEST\n",
    "porsche.speed_down()\n",
    "for i in range(9):\n",
    "    porsche.speed_up()"
   ]
  },
  {
   "cell_type": "code",
   "execution_count": 84,
   "id": "71fe7bf1",
   "metadata": {},
   "outputs": [
    {
     "name": "stdout",
     "output_type": "stream",
     "text": [
      "현재 속도는 15\n",
      "현재 속도는 30\n",
      "현재 속도는 45\n",
      "현재 속도는 60\n",
      "현재 속도는 75\n",
      "현재 속도는 90\n",
      "max_speed 속성 값 초과\n",
      "max_speed 속성 값 초과\n",
      "max_speed 속성 값 초과\n",
      "max_speed 속성 값 초과\n",
      "현재 속도는 75\n",
      "현재 속도는 60\n",
      "현재 속도는 45\n",
      "현재 속도는 30\n",
      "현재 속도는 15\n",
      "현재 속도는 0\n",
      "속도는 0 미만으로 감소할 수 없음\n",
      "속도는 0 미만으로 감소할 수 없음\n",
      "속도는 0 미만으로 감소할 수 없음\n",
      "속도는 0 미만으로 감소할 수 없음\n"
     ]
    }
   ],
   "source": [
    "# 연습 문제 2.12.5\n",
    "## Car 클래스를 기반으로 SportCar와 Truck이라는 두 개의 자식 클래스를 구현한다.\n",
    "\n",
    "'''\n",
    "1. SportCar 클래스는 max_speed 속성이 200 이고 speed_up, speed_down 호출시 속도가 45씩 증가 혹은 감소한다.\n",
    "\n",
    "2. Truck 클래스는 max_speed 속성이 100 이고 speed_up, speed_down 호출시 속도가 15씩 증가 혹은 감소한다.\n",
    "\n",
    "3. 스피드 속성 speed의 값은 max_speed 속성 값을 넘을 수 없다. 또 0 미만으로 감소할 수도 없다.\n",
    "\n",
    "4. 메서드는 호출시 속도 정보를 출력하고 명시적인 반환값을 가지지 않는다.\n",
    "\n",
    "5. 위 기능이 모두 정상적으로 구현되었음을 보이는 코드를 추가한다.\n",
    "'''\n",
    "\n",
    "# 부모 클래스인 Car class에서 속성값 인수(argument)를 받는다면 자식 클래스는 어떻게 선언해야 할까?..\n",
    "class SportCar(Car):\n",
    "    \n",
    "    # 자식 클래스에서도 해당 속성값 매개변수(parameter)(+ 필요하다면 추가)를 명시하여 인수를 받을 수 있도록 준비\n",
    "    def __init__(self, name):\n",
    "        super(SportCar, self).__init__(name) # 파이썬 2.x 버전 문법, \n",
    "        self.max_speed = 200                 # 코드의 범용성을 위해서는 파이썬 2.x 버전의 문법으로 적어 주는 것이 좋음\n",
    "        \n",
    "    def speed_up(self):\n",
    "        if (self.speed + 45) < self.max_speed:\n",
    "            self.speed += 45\n",
    "            print('현재 속도는 {}'.format(self.speed))\n",
    "        else :\n",
    "            print('max_speed 속성 값 초과')\n",
    "            \n",
    "    def speed_down(self):\n",
    "        if (self.speed - 45) >= 0:\n",
    "            self.speed -= 45\n",
    "            print('현재 속도는 {}'.format(self.speed))\n",
    "        else :\n",
    "            print('속도는 0 미만으로 감소할 수 없음')\n",
    "            \n",
    "            \n",
    "class Truck(Car):   \n",
    "    def __init__(self, **kwargs): # 의미가 뭘까 일단 객체 선언할 때 car_name = 'Porter'이렇게 줘야만 받음\n",
    "        super(Truck, self).__init__(**kwargs) # TypeError: __init__() got an unexpected keyword argument 'name'\n",
    "        self.max_speed = 100\n",
    "        \n",
    "    def speed_up(self):\n",
    "        if (self.speed + 15) < self.max_speed:\n",
    "            self.speed += 15\n",
    "            print('현재 속도는 {}'.format(self.speed))\n",
    "        else :\n",
    "            print('max_speed 속성 값 초과')\n",
    "            \n",
    "    def speed_down(self):\n",
    "        if (self.speed - 15) >= 0:\n",
    "            self.speed -= 15\n",
    "            print('현재 속도는 {}'.format(self.speed))\n",
    "        else :\n",
    "            print('속도는 0 미만으로 감소할 수 없음')\n",
    "\n",
    "            \n",
    "# porsche = SportCar('Porsche')\n",
    "# for i in range(5):\n",
    "#     porsche.speed_up()\n",
    "# for i in range(4):\n",
    "#     porsche.speed_down()\n",
    "\n",
    "porter = Truck(car_name='Porter')\n",
    "for i in range(10):\n",
    "    porter.speed_up()\n",
    "for i in range(10):\n",
    "    porter.speed_down()\n",
    "\n"
   ]
  },
  {
   "cell_type": "markdown",
   "id": "2aa8f80c",
   "metadata": {},
   "source": [
    "## *args와 **kwargs\n",
    "\n",
    "> 여러개의 인수를 받을 때, 키워드 인수를 받을 때 사용하는 표시\n",
    "\n",
    "- `*args는 tuple 형태로 입력받고 일반 변수보다 뒤에 작성해야한다. def __init__(self, name, *args)\n",
    "- `**kwargs는 딕셔너리 형태로 입력받는다.`"
   ]
  },
  {
   "cell_type": "code",
   "execution_count": 88,
   "id": "4fa9a5cb",
   "metadata": {},
   "outputs": [
    {
     "name": "stdout",
     "output_type": "stream",
     "text": [
      "{'name': 'soohyun', 'number': '010. 4915. 9539', 'birth': '1997.07.22'}\n"
     ]
    }
   ],
   "source": [
    "def test(**kwargs):\n",
    "    print(kwargs)\n",
    "        \n",
    "    \n",
    "test(name = 'soohyun', number = '010. 4915. 9539', birth = '1997.07.22')"
   ]
  },
  {
   "cell_type": "code",
   "execution_count": null,
   "id": "4824a196",
   "metadata": {},
   "outputs": [],
   "source": []
  }
 ],
 "metadata": {
  "kernelspec": {
   "display_name": "Python 3 (ipykernel)",
   "language": "python",
   "name": "python3"
  },
  "language_info": {
   "codemirror_mode": {
    "name": "ipython",
    "version": 3
   },
   "file_extension": ".py",
   "mimetype": "text/x-python",
   "name": "python",
   "nbconvert_exporter": "python",
   "pygments_lexer": "ipython3",
   "version": "3.9.13"
  }
 },
 "nbformat": 4,
 "nbformat_minor": 5
}
