{
 "cells": [
  {
   "cell_type": "markdown",
   "id": "a8b36300",
   "metadata": {},
   "source": [
    "# 2.9 파이썬에서 리스트 자료형 다루기\n",
    "---"
   ]
  },
  {
   "cell_type": "markdown",
   "id": "e1939256",
   "metadata": {},
   "source": [
    "## 1. 자료의 개수"
   ]
  },
  {
   "cell_type": "code",
   "execution_count": 1,
   "id": "c476198c",
   "metadata": {},
   "outputs": [
    {
     "name": "stdout",
     "output_type": "stream",
     "text": [
      "5\n"
     ]
    }
   ],
   "source": [
    "a = [1, 2, 3, 4, 5]\n",
    "print(len(a))"
   ]
  },
  {
   "cell_type": "markdown",
   "id": "78f58506",
   "metadata": {},
   "source": [
    "## 2. 수열 생성하기\n",
    "0부터 n-1까지 1씩 증가하는 n개의 숫자를 가지는 수열 리스트는 range 명령으로 생성한다.  \n",
    "파이썬 버전 2에서는 range 명령만 쓰면 되지만  \n",
    "파이썬 버전 3에서는 range 명령으로 만들어진 값을 list 명령을 사용하여 명시적으로 리스트로 바꾸어야 한다."
   ]
  },
  {
   "cell_type": "code",
   "execution_count": 2,
   "id": "5e6c7d33",
   "metadata": {},
   "outputs": [
    {
     "name": "stdout",
     "output_type": "stream",
     "text": [
      "[0, 1, 2, 3, 4, 5, 6, 7, 8, 9]\n"
     ]
    }
   ],
   "source": [
    "b = list(range(10))\n",
    "print(b)"
   ]
  },
  {
   "cell_type": "markdown",
   "id": "4aa34d1c",
   "metadata": {},
   "source": [
    "## 3. 값을 바꾸기(Update)\n",
    "특정한 원소의 값을 다른 값으로 바꾸는 것을 갱신(**update**)이라고 한다.  \n",
    "리스트에서 특정 원소의 값을 갱신하려면 다음과 같이 인덱싱한 값에 새로운 값을 대입하면 된다."
   ]
  },
  {
   "cell_type": "code",
   "execution_count": 4,
   "id": "6681af48",
   "metadata": {},
   "outputs": [
    {
     "name": "stdout",
     "output_type": "stream",
     "text": [
      "[100, 1, 2, 3, 4, 5, 6, 7, 8, 9]\n"
     ]
    }
   ],
   "source": [
    "b[0] = 100\n",
    "print(b)"
   ]
  },
  {
   "cell_type": "markdown",
   "id": "fad6eb71",
   "metadata": {},
   "source": [
    "## 4. 자료 추가하기"
   ]
  },
  {
   "cell_type": "code",
   "execution_count": 7,
   "id": "9401366c",
   "metadata": {},
   "outputs": [
    {
     "name": "stdout",
     "output_type": "stream",
     "text": [
      "[0, 1, 2, 3]\n",
      "[0, 1, 2, 3, 4]\n",
      "[0, 1, 2, 3, 4, 10]\n"
     ]
    }
   ],
   "source": [
    "e = list(range(4))\n",
    "print(e)\n",
    "\n",
    "e.append(4)\n",
    "print(e)\n",
    "\n",
    "e.append(10)\n",
    "print(e)"
   ]
  },
  {
   "cell_type": "markdown",
   "id": "d1a57270",
   "metadata": {},
   "source": [
    "## 5. 자료 삭제하기(Delete)"
   ]
  },
  {
   "cell_type": "code",
   "execution_count": 8,
   "id": "42712619",
   "metadata": {},
   "outputs": [
    {
     "name": "stdout",
     "output_type": "stream",
     "text": [
      "[0, 1, 2, 3, 4]\n",
      "[1, 2, 3, 4]\n",
      "[1, 2, 4]\n"
     ]
    }
   ],
   "source": [
    "f = list(range(5))\n",
    "print(f)\n",
    "\n",
    "del f[0] # keyword\n",
    "print(f)\n",
    "\n",
    "del f[2]\n",
    "print(f)"
   ]
  },
  {
   "cell_type": "markdown",
   "id": "02d43002",
   "metadata": {},
   "source": [
    "## 6. 슬라이싱\n",
    "> 특정 범위의 자료를 모두 가져오고 싶다면 슬라이싱(slicing)이라는 방법을 사용한다."
   ]
  },
  {
   "cell_type": "code",
   "execution_count": 11,
   "id": "8e7e553b",
   "metadata": {},
   "outputs": [
    {
     "name": "stdout",
     "output_type": "stream",
     "text": [
      "[0, 1, 2, 3, 4]\n",
      "[0, 1, 2, 3, 4]\n",
      "[10, 11, 12, 13, 14]\n"
     ]
    }
   ],
   "source": [
    "g = list(range(20))\n",
    "\n",
    "print(g[0:5])\n",
    "print(g[:5])  # 어차피 처음부터 가져올거면 0은 생략 가능\n",
    "print(g[10:15])"
   ]
  },
  {
   "cell_type": "markdown",
   "id": "5a441223",
   "metadata": {},
   "source": [
    "## 7. 역 인덱싱(음수 인덱싱)\n",
    "음수 인덱스를 사용하면 뒤에서부터 원소를 가리키게 된다.\n",
    "> 이때 가장 뒤의 원소는 0이 아니라 -1 이라는 인덱스를 사용한다."
   ]
  },
  {
   "cell_type": "code",
   "execution_count": 24,
   "id": "59da3221",
   "metadata": {},
   "outputs": [
    {
     "name": "stdout",
     "output_type": "stream",
     "text": [
      "19\n",
      "[17, 18, 19]\n",
      "[19, 18, 17, 16, 15, 14, 13, 12, 11, 10, 9, 8, 7, 6, 5, 4, 3, 2, 1, 0]\n",
      "[4, 5, 6, 7, 8]\n"
     ]
    }
   ],
   "source": [
    "print(g[-1])\n",
    "\n",
    "# 두 번째 인덱스가 생략되면 끝까지를 의미한다(-1을 쓸 때와 다르다).\n",
    "print(g[-3:]) # 뒤에서 3번째부터 제일 뒤까지 총 3개\n",
    "\n",
    "# 0번 인덱스부터 제일 뒤까지 역순으로 슬라이싱\n",
    "print(g[::-1])\n",
    "\n",
    "# 연습 문제 2.9.1\n",
    "# 4) 슬라이싱으로 5번 학생(1번 학생은 가장 처음에 있는 학생이다.)부터 9번 학생까지 5명의 이름을 담은 새로운 리스트를 만든다.\n",
    "students_list = g[4:9]\n",
    "print(students_list)"
   ]
  },
  {
   "cell_type": "markdown",
   "id": "b00e11d2",
   "metadata": {},
   "source": [
    "## 복수 할당(multiple/unpack assignment)\n",
    "> 할당 기호의 왼쪽에 쉼표로 구분된 변수를 여러개 넣으면 오른쪽에 있는 리스트의 각 원소값이 들어간다."
   ]
  },
  {
   "cell_type": "code",
   "execution_count": 25,
   "id": "f8c94782",
   "metadata": {},
   "outputs": [
    {
     "name": "stdout",
     "output_type": "stream",
     "text": [
      "1 2 3\n"
     ]
    }
   ],
   "source": [
    "h = [1, 2, 3]\n",
    "h1, h2, h3 = h\n",
    "\n",
    "print(h1, h2, h3)\n",
    "\n",
    "# ※ 단 복수 할당을 할 때는 값이 들어갈 변수의 개수와 리스트의 길이가 같아야 한다. 그렇지 않으면 오류가 발생한다."
   ]
  },
  {
   "cell_type": "code",
   "execution_count": null,
   "id": "f0d83ab6",
   "metadata": {},
   "outputs": [],
   "source": []
  }
 ],
 "metadata": {
  "kernelspec": {
   "display_name": "Python 3 (ipykernel)",
   "language": "python",
   "name": "python3"
  },
  "language_info": {
   "codemirror_mode": {
    "name": "ipython",
    "version": 3
   },
   "file_extension": ".py",
   "mimetype": "text/x-python",
   "name": "python",
   "nbconvert_exporter": "python",
   "pygments_lexer": "ipython3",
   "version": "3.9.13"
  }
 },
 "nbformat": 4,
 "nbformat_minor": 5
}
