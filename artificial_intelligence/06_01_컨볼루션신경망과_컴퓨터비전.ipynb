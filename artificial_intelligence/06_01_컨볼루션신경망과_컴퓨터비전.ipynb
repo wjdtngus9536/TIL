{
 "cells": [
  {
   "cell_type": "markdown",
   "id": "250f3e7c",
   "metadata": {},
   "source": [
    "# 컨볼루션 신경망과 컴퓨터 비전\n",
    "---"
   ]
  },
  {
   "cell_type": "markdown",
   "id": "0c34c8cb",
   "metadata": {},
   "source": [
    "**중간고사 정보**\n",
    "```\n",
    "1 ~ 6장\n",
    "1장에 암기문제 제출x\n",
    "T/F\n",
    "객관식\n",
    "단답형\n",
    "서술형\n",
    "다 적당히 나온다.\n",
    "```\n",
    "\n",
    "컨볼루션층과 풀링층  \n",
    "덧대기 padding  \n",
    "bias는 센스있게 더하면 된다.  \n",
    "결과도 8칸?"
   ]
  },
  {
   "cell_type": "markdown",
   "id": "cea60d5c",
   "metadata": {},
   "source": [
    "## 컨볼루션 신경망의 동기와 전개"
   ]
  },
  {
   "cell_type": "markdown",
   "id": "39010c0a",
   "metadata": {},
   "source": [
    "## 컨볼루션 신경망의 구조와 동작\n",
    "- 컨볼루션 연산의 원리와 특성\n",
    "- 컨볼루션 신경망이 어떻게 복잡한 컴퓨터 비전 문제를 푸는지\n",
    "- 컨볼루션 신경망을 구성하는 빌딩 블록과 빌딩 블록을 쌓아 신경망을 만드는 원리\n",
    "\n",
    "\n",
    "컨볼루션 연산\n",
    "- 특징 추출 또는 신호 변환에 사용\n",
    "- 수용장과 커널의 선형 결합\n",
    "- z는 입력신호, u는 커널, h는 커널의 크기\n",
    "\n",
    "\n",
    "다중 커널을 사용\n",
    "- 커널을 32, 64, 128개를 사용하여 다중 특징 맵을 추출함(풍부한 특징 추출)\n",
    "- M * N * k 텐서에 h * h * k 크기의 커널 'k개를 적용하면 **M' * N' * k'** 텐서를 얻음(커널은 M과 N축을 따라 슬라이딩)\n",
    "\n",
    "\n",
    "풀링층\n",
    "- 최대 풀링은 커널 안에 있는 화소 중에 최대값을 취함(평균 풀링은 평균 취함)\n",
    "- 특징 맵에 있는 지나친 섬세함을 줄여 요약 통계량을 추출해 줌\n",
    "- 보폭을 s로 하면 특징 맵은 s배만큼 줄어듦\n",
    "\n",
    "\n",
    "부분 연결성\n",
    "- 오른쪽 층의 노드는 왼쪽 층의 노드 3개하고만 연결된 연결성\n",
    "- 두 층의 노드 개수를 n1과 n2라 하고 커널 크기를 h라 하면, 컨볼루션 신경망의 h * n2개의 에지 가짐(FC는 n1 * n2개 에지)\n",
    "가중치 공유\n",
    "- 에지는 h * n2 개이지만, 가중치 h개에 불과\n",
    "- 2차원 영상에서 h * h 커널을 k'개 사용하는 경우 h * h * k'개의 가중치 <- 학습으로 알아내야 할 매개변수가 대폭 줄어듦\n",
    "커널 자체의 개수를 많이 가져가서 표현량은 늘린다.\n",
    "훨씬 더 적은 파라미터 수\n",
    "\n",
    "\n",
    "빌딩 블록\n",
    "- k ∗ m ∗ n 입력 텐서에 k′의 커널을 적용하면 k' ∗ m' ∗ n'크기의 특징 맵이 됨\n",
    "- m'과 n'값은 덧대기(padding)와 보폭(stride)에 영향 받음\n",
    "\n",
    "\n",
    "LeNet-5 사례(1998)\n",
    "- 현재 기준으로 보면 아주 간단한 컨볼루션 신경망(C-P-C-P-C-FC-FC)"
   ]
  },
  {
   "cell_type": "markdown",
   "id": "150e4945",
   "metadata": {},
   "source": [
    "## 컨볼루션 신경망의 학습\n",
    "- 컨볼루션 신경망은 커널을 학습함\n",
    "    - 깊은 다층 퍼셉트론은 노드를 연결하는 가중치를 학습함\n",
    "    - 둘의 학습 알고리즘이 다를 것 같지만 다행히 같은 손실 함수와 같은 옵티마이저 사용"
   ]
  },
  {
   "cell_type": "markdown",
   "id": "aff85b1b",
   "metadata": {},
   "source": [
    "\n",
    "## 컨볼루션 신경망 프로그래밍\n",
    "여러 가지 실험\n",
    "- 실험 데이터\n",
    "    - MNIST 필기 숫자\n",
    "    - Fashion MNIST\n",
    "    - 자연 영상 CIFAR-10\n",
    "- 여러 종류의 층을 사용해봄으로써 텐서플로의 유연성 확인\n",
    "\n",
    "\n",
    "### 텐서플로 프로그래밍\n",
    "텐서플로 프로그래밍에서 중요한 네 가지 클래스\n",
    "- models 클래스\n",
    "- layers 클래스\n",
    "- loss 클래스\n",
    "- optimizers 클래스\n",
    "\n",
    "\n",
    "models 클래스 : Sequential과 functional API\n",
    "- Sequential 함수\n",
    "    - 순차적으로 층을 쌓아 모델을 만드는 경우에 사용\n",
    "    - 대부분 신경망이 이 구조에 해당\n",
    "    \n",
    "- functional API 함수"
   ]
  },
  {
   "cell_type": "code",
   "execution_count": null,
   "id": "78b99054",
   "metadata": {},
   "outputs": [],
   "source": []
  },
  {
   "cell_type": "markdown",
   "id": "c0707730",
   "metadata": {},
   "source": [
    "## 질문\n",
    "\n",
    "수식 계산 문제가 조금 등장할 예정"
   ]
  },
  {
   "cell_type": "markdown",
   "id": "4583d050",
   "metadata": {},
   "source": [
    "## 샘플 문제\n",
    "\n"
   ]
  }
 ],
 "metadata": {
  "kernelspec": {
   "display_name": "Python 3 (ipykernel)",
   "language": "python",
   "name": "python3"
  },
  "language_info": {
   "codemirror_mode": {
    "name": "ipython",
    "version": 3
   },
   "file_extension": ".py",
   "mimetype": "text/x-python",
   "name": "python",
   "nbconvert_exporter": "python",
   "pygments_lexer": "ipython3",
   "version": "3.9.16"
  },
  "toc": {
   "base_numbering": 1,
   "nav_menu": {},
   "number_sections": true,
   "sideBar": true,
   "skip_h1_title": false,
   "title_cell": "Table of Contents",
   "title_sidebar": "Contents",
   "toc_cell": false,
   "toc_position": {},
   "toc_section_display": true,
   "toc_window_display": false
  }
 },
 "nbformat": 4,
 "nbformat_minor": 5
}
