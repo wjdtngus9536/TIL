{
 "cells": [
  {
   "cell_type": "markdown",
   "id": "11453209",
   "metadata": {},
   "source": [
    "연산자 * : multiplication, asterisk  \n",
    "\n",
    "선형 조건 : \n",
    "- 가산성: f(x + y) = f(x) + f(y)\n",
    "- 동질성: f(ax) = af(x)\n",
    " "
   ]
  },
  {
   "cell_type": "markdown",
   "id": "ff444062",
   "metadata": {},
   "source": [
    "## 인공 신경망 "
   ]
  },
  {
   "cell_type": "markdown",
   "id": "7ff28868",
   "metadata": {},
   "source": [
    "## 퍼셉트론"
   ]
  },
  {
   "cell_type": "markdown",
   "id": "ba968fc3",
   "metadata": {},
   "source": [
    "## 행렬 표기\n"
   ]
  },
  {
   "cell_type": "markdown",
   "id": "3b1e6479",
   "metadata": {},
   "source": [
    "## 사람의 학습과 신경망의 학습\n",
    "\n",
    "퍼셉트론의 학습\n",
    "- 데이터와 함께 데이터를 인식하는 퍼셉트론(가중치)이 주어짐, 즉 데이터로 학습을 마친 퍼셉트론이 주어짐\n",
    "- 실제 상황에서는 데이터만 주어지므로, 학습 알고리즘으로 가중치(w0,w1, ... , wd)를 알아내야 함\n",
    "- OR 데이터의 경우 2차원 특징 벡터이고 샘플이 4개 뿐이라 연필을 가지고 쉽게 가중치를 알아낼 수 있음\n",
    "- sklearn의 필기 숫자 데이터는 `64차원 특징 벡터`이고, `1,798개 샘플`을 가지므로 학습 알고리즘 없이 불가능\n",
    "\n",
    "엉성하게 한 번 하고 점점 좋아지는 것\n",
    "\n",
    "1. 난수로 매개변수 벡터w를 초기화 (random)\n",
    "2. w에 따라 손실함수를 계산해가며 값을 낮추는 방향을 계산한다.\n",
    "3. w를 저장한다.\n",
    "\n",
    "\n",
    "\n",
    "경사 하강법의 원리\n",
    "J의 최저점 w�:을 찾아야 함\n",
    "> 미분이 좋은 이유 : \n",
    "\n",
    "학습 규칙 유도\n",
    "- 경사 하강법은 미분을 이용하여 최적해를 찾는 기법\n",
    "- 미분값의 반대 방향이 최적해에 접근하는 방향이므로 현재 w1에 미분값을 더하면 최적해에 가까워짐\n",
    "\n",
    "\n",
    "퍼셉트론의 학습 알고리즘\n",
    "- 훈련 집합에 있는 샘플 전체를 한번 처리하는 일을 epoch(세대. 에픽)라 부름\n",
    "    - 훈련 dataset을 한 바퀴 돌았다.\n",
    "    \n"
   ]
  },
  {
   "cell_type": "markdown",
   "id": "bd963a64",
   "metadata": {},
   "source": [
    "## 현대 기계학습으로 확장\n",
    "앞 절에서 공부한 퍼셉트론 원리를 바탕으로 현대 기계 학습으로 개념 확장\n",
    "\n",
    "\n",
    "적절한 손실 함수 필요\n",
    "- 분류 : 참 값과 예측 값의 차이를 손실 함수에 반영\n",
    "- 물체 검출 : 참 바운딩 박스와 예측한 바운딩 박스의 겹침 정도를 손실 함수에 반영\n",
    "- 의미적 분할 : 화소 별로 참 값과 예측 값의 차이를 따지고 그 차이를 모두 합한 손실 함수\n",
    "\n",
    "실용적인 신경망의 매개변수 개수는 방대\n",
    "- e.g., 딥러닝 모델 ResNet50은 50개의 층, 매개변수는 2300만개 이상\n",
    "\n",
    "\n",
    "스토캐스틱 경사 하강법\n",
    "- 경사 하강법\n",
    "- 기계 학습의 경사 하강법\n",
    "    - 여러 측면에서 표준 경사 하강법과 다름\n",
    "        - 잡음이 섞인 데이터가 개입\n",
    "        - 매개변수가 방대\n",
    "        - 일반화 능력 필요(외부 데이터에 대한 쓸모)\n",
    "        \n",
    "- 기계 학습은 스토캐스틱 경사 하강법으로 확장하여 사용\n",
    "- 배치 모드 vs. 패턴 모드\n",
    "    - 패턴모드 : 훈련 데이터셋의 각 샘플을 개별적으로 사용하여 모델을 학습\n",
    "    - "
   ]
  },
  {
   "cell_type": "code",
   "execution_count": 1,
   "id": "96758862",
   "metadata": {},
   "outputs": [
    {
     "name": "stdout",
     "output_type": "stream",
     "text": [
      "sklearn                   0.0.post1                pypi_0    pypi\n"
     ]
    }
   ],
   "source": [
    "!conda list | find \"sklearn\""
   ]
  },
  {
   "cell_type": "code",
   "execution_count": 4,
   "id": "fb1375c0",
   "metadata": {},
   "outputs": [
    {
     "name": "stdout",
     "output_type": "stream",
     "text": [
      "[[2. 2.]] [-1.]\n"
     ]
    }
   ],
   "source": [
    "from sklearn.linear_model import Perceptron\n",
    "\n",
    "X = [\n",
    "    [0,0],\n",
    "    [0,1],\n",
    "    [1,0],\n",
    "    [1,1]\n",
    "]\n",
    "y=[-1,1,1,1]\n",
    "\n",
    "p = Perceptron()\n",
    "p.fit(X,y)\n",
    "\n",
    "print(p.coef_, p.intercept_)"
   ]
  },
  {
   "cell_type": "code",
   "execution_count": 5,
   "id": "c4510671",
   "metadata": {},
   "outputs": [],
   "source": [
    "import sklearn"
   ]
  },
  {
   "cell_type": "code",
   "execution_count": null,
   "id": "5c99e49b",
   "metadata": {},
   "outputs": [],
   "source": [
    "sklearn.linear_model.ElasticNet"
   ]
  }
 ],
 "metadata": {
  "kernelspec": {
   "display_name": "Python 3 (ipykernel)",
   "language": "python",
   "name": "python3"
  },
  "language_info": {
   "codemirror_mode": {
    "name": "ipython",
    "version": 3
   },
   "file_extension": ".py",
   "mimetype": "text/x-python",
   "name": "python",
   "nbconvert_exporter": "python",
   "pygments_lexer": "ipython3",
   "version": "3.9.13"
  },
  "toc": {
   "base_numbering": 1,
   "nav_menu": {},
   "number_sections": true,
   "sideBar": true,
   "skip_h1_title": false,
   "title_cell": "Table of Contents",
   "title_sidebar": "Contents",
   "toc_cell": false,
   "toc_position": {
    "height": "calc(100% - 180px)",
    "left": "10px",
    "top": "150px",
    "width": "274.625px"
   },
   "toc_section_display": true,
   "toc_window_display": false
  }
 },
 "nbformat": 4,
 "nbformat_minor": 5
}
