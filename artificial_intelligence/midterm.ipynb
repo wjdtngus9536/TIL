{
 "cells": [
  {
   "cell_type": "markdown",
   "id": "b03f12df",
   "metadata": {},
   "source": [
    "# midterm\n",
    "---"
   ]
  },
  {
   "cell_type": "markdown",
   "id": "161dc107",
   "metadata": {},
   "source": [
    "4. 검증 데이터는 학습 데이터에 속한다. T\n",
    "5. svm 여백 최대화 분류기 만듬 T\n",
    "6. AND, OR은 퍼셉트론 하나로 구현 가능하나 XOR을 구현하면 자꾸 틀린다. F\n",
    "7. SGD, GD의 차이 F\n",
    "\n",
    "11. 인공지능, 기계학습, 신경망, 딥러닝\n",
    "14. 5차원 : 컬러 동영상 여러 개\n",
    "15. 정확 0.8, 정밀 0.5, 재현 0.25\n",
    "17. -1, -1\n",
    "18. 1) b, 2) a\n",
    "19. 지도학습 입력 & 레이블, 준지도 일부만 레이블, 비지도 레이블 사용 x\n",
    "20. 테스트 : 모델의 최종 성능 평가\n",
    "21. 분류, 물체검출, 영상 분할 문제에 대해 간략하게 설명할 것\n",
    "22. 하나의 은닉층을 가진 다중 퍼셉트론 신경망에서 활성화 함수를 계단 함수만으로 구성하여 해당구조를 학습하고자 하는 경우, 어떠한 문제가 있는지 간단하게 기술하시오. >> 기울기가 0이 된다. 역전파를 적용할 여지가 없다. 학습이 불가능하다.\n",
    "23. 공통점 :  기울기 소실 방지를 위한 초기화 방법, glorot uniform : 균일 분포,  glorot normal : 정규 분포 따른다.\n",
    "24. 크로스 엔트로피는 분류에 더욱 적합하고 MSE는 회귀에 더 적합.\n",
    "25. 드랍아웃 1이면 다 뺀다는 거랑 똑같음. 가중치 감쇠의 목적 : 과잉 적합을 막기 위해 줄이는 것에 있다. 0으로 만드는 것이 목적이라는 말은 False\n",
    "26. 계산 문제, 784 * 1000개, ...\n",
    "27. CNN :\n",
    "> input : 28, 28, 1  \n",
    "conv2d, 10, (5, 5) :  \n",
    "shape이 \n",
    "\n",
    "평균 57.770491803\n",
    "63점 A컷\n",
    "최대 74\n",
    "61명\n",
    "\n",
    "기말 난이도 상승 예정\n",
    "중간고사 범위 중 기말에도 나오는 부분이 있을 것\n",
    "추후 공지 예정"
   ]
  }
 ],
 "metadata": {
  "kernelspec": {
   "display_name": "Python 3 (ipykernel)",
   "language": "python",
   "name": "python3"
  },
  "language_info": {
   "codemirror_mode": {
    "name": "ipython",
    "version": 3
   },
   "file_extension": ".py",
   "mimetype": "text/x-python",
   "name": "python",
   "nbconvert_exporter": "python",
   "pygments_lexer": "ipython3",
   "version": "3.9.16"
  },
  "toc": {
   "base_numbering": 1,
   "nav_menu": {},
   "number_sections": true,
   "sideBar": true,
   "skip_h1_title": false,
   "title_cell": "Table of Contents",
   "title_sidebar": "Contents",
   "toc_cell": false,
   "toc_position": {},
   "toc_section_display": true,
   "toc_window_display": false
  }
 },
 "nbformat": 4,
 "nbformat_minor": 5
}
