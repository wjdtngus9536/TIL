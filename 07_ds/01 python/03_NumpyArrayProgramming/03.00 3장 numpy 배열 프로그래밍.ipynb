{
 "cells": [
  {
   "attachments": {},
   "cell_type": "markdown",
   "id": "5127e1d1",
   "metadata": {},
   "source": [
    "# 3장 넘파이 배열 프로그래밍\n",
    "이 장에서는 넘파이(NumPy) 패키지를 사용한 배열(array) 프로그래밍에 대해 공부한다. 배열 프로그래밍은 대량의 데이터를 빠르게 조작하기 위한 필수적 과정이다. 파이썬의 데이터 관련 명령은 모두 넘파이 기능을 사용하므로 데이터 분석을 위해서는 이 장에서 설명하는 모든 내용을 숙지해야 한다.\n",
    "\n",
    "학습 목표  \n",
    "\n",
    "- [X] 배열과 리스트의 차이점을 알고 배열을 사용하는 이유를 이해한다.\n",
    "\n",
    "- [ ] 배열을 생성하고 다루는 방법을 익힌다.\n",
    "\n",
    "- [ ] 넘파이를 사용하여 기술 통계를 낼 수 있다.\n",
    "\n",
    "- [ ] 난수를 발생시키고 그 결과를 분석하는 방법을 공부한다. "
   ]
  },
  {
   "cell_type": "code",
   "execution_count": null,
   "id": "96ce11fe",
   "metadata": {},
   "outputs": [],
   "source": []
  },
  {
   "cell_type": "code",
   "execution_count": null,
   "id": "717dd407",
   "metadata": {},
   "outputs": [],
   "source": []
  }
 ],
 "metadata": {
  "kernelspec": {
   "display_name": "Python 3 (ipykernel)",
   "language": "python",
   "name": "python3"
  },
  "language_info": {
   "codemirror_mode": {
    "name": "ipython",
    "version": 3
   },
   "file_extension": ".py",
   "mimetype": "text/x-python",
   "name": "python",
   "nbconvert_exporter": "python",
   "pygments_lexer": "ipython3",
   "version": "3.9.13"
  }
 },
 "nbformat": 4,
 "nbformat_minor": 5
}
