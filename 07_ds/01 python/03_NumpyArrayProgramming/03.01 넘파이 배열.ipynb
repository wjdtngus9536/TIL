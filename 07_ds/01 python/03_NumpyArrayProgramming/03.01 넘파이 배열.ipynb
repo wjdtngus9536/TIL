{
 "cells": [
  {
   "cell_type": "markdown",
   "id": "176b8d21",
   "metadata": {},
   "source": [
    "# 3. 1 넘파이 배열\n",
    "---\n",
    "많은 숫자 데이터를 하나의 변수에 넣고 관리 할 때 `리스트는 속도가 느리고 메모리를 많이 차지하는 단점이 있다.` 배열(array)을 사용하면 적은 메모리로 많은 데이터를 빠르게 처리할 수 있다.\n",
    "\n",
    "배열과 리스트 자료형의 차이점\n",
    "1. 모든 원소가 같은 자료형이어야 한다.\n",
    "2. 원소의 갯수를 바꿀 수 없다.\n",
    "\n",
    "파이썬에서 배열을 사용하기 위한 표준 패키지는 넘파이(NumPy)다.  \n",
    "넘파이는 수치해석용 파이썬 패키지이다. `다차원의 배열 자료구조 클래스인 ndarray 클래스를 지원`하며 벡터와 행렬을 사용하는 선형대수 계산에 주로 사용된다.  \n",
    "내부적으로는 BLAS 라이브러리와 LAPACK 라이브러리를 사용하고 있으며 C로 구현된 CPython에서만 사용할 수 있다.\n",
    "\n",
    "\n",
    "넘파이의 배열 연산은 \n",
    "1. `C로 구현된 내부 반복문을 사용하기 때문에 파이썬 반복문에 비해 속도가 빠르`며 \n",
    "2. `벡터화 연산(vectorized operation)을 이용하여 간단한 코드로도 복잡한 선형 대수 연산을 수행`할 수 있다. 또한 \n",
    "3. `배열 인덱싱(array indexing)을 사용한 질의(Query) 기능을 이용하여 간단한 코드로도 복잡한 수식을 계산`할 수 있다."
   ]
  },
  {
   "cell_type": "markdown",
   "id": "529e5751",
   "metadata": {},
   "source": [
    "## 1. numpy package import\n",
    "> 넘파이는 np라는 이름으로 임포트하는 것이 관례"
   ]
  },
  {
   "cell_type": "code",
   "execution_count": 1,
   "id": "79ebac7e",
   "metadata": {},
   "outputs": [],
   "source": [
    "import numpy as np"
   ]
  },
  {
   "cell_type": "markdown",
   "id": "f96c06e0",
   "metadata": {},
   "source": [
    "## 2. 1차원 배열 만들기 "
   ]
  },
  {
   "cell_type": "code",
   "execution_count": 2,
   "id": "fbba1216",
   "metadata": {},
   "outputs": [
    {
     "data": {
      "text/plain": [
       "array([0, 1, 2, 3, 4, 5, 6, 7, 8, 9])"
      ]
     },
     "execution_count": 2,
     "metadata": {},
     "output_type": "execute_result"
    }
   ],
   "source": [
    "# 넘파이의 array 함수에 리스트를 넣으면\n",
    "ar = np.array(list(range(10)))\n",
    "ar"
   ]
  },
  {
   "cell_type": "code",
   "execution_count": 3,
   "id": "1410785e",
   "metadata": {},
   "outputs": [
    {
     "data": {
      "text/plain": [
       "numpy.ndarray"
      ]
     },
     "execution_count": 3,
     "metadata": {},
     "output_type": "execute_result"
    }
   ],
   "source": [
    "# ndarray 클래스 객체 즉, 배열로 변환해 준다.\n",
    "type(ar)"
   ]
  },
  {
   "cell_type": "markdown",
   "id": "9367bd54",
   "metadata": {},
   "source": [
    "### ndarray 클래스 객체와 리스트의 차이점\n",
    "\n",
    "배열 객체 객체는 C언어의 배열처럼 연속적인 메모리 배치를 가지기 때문에 모든 원소가 같은 자료형이어야 한다.  \n",
    "이러한 제약사항이 있는 대신 원소에 대한 접근과 반복문 실행이 빨라진다."
   ]
  },
  {
   "cell_type": "markdown",
   "id": "3d6b4bd1",
   "metadata": {},
   "source": [
    "## 3. 벡터화 연산\n",
    "> 배열의 각 원소에 대한 반복 연산을 하나의 명령어로 처리하는 벡터화 연산(vectorized operation)을 지원"
   ]
  },
  {
   "cell_type": "code",
   "execution_count": 4,
   "id": "3f1e2915",
   "metadata": {},
   "outputs": [
    {
     "data": {
      "text/plain": [
       "[0, 1, 2, 3, 4, 5, 6, 7, 8, 9]"
      ]
     },
     "execution_count": 4,
     "metadata": {},
     "output_type": "execute_result"
    }
   ],
   "source": [
    "# 배열 내의 모든 원소에 대한 반복 연산을 하나의 명령어로 처리 가능\n",
    "data = [i for i in range(10)]\n",
    "data"
   ]
  },
  {
   "cell_type": "code",
   "execution_count": 5,
   "id": "c7d92db6",
   "metadata": {},
   "outputs": [
    {
     "data": {
      "text/plain": [
       "array([ 0,  2,  4,  6,  8, 10, 12, 14, 16, 18])"
      ]
     },
     "execution_count": 5,
     "metadata": {},
     "output_type": "execute_result"
    }
   ],
   "source": [
    "x = np.array(data) # 배열로 만들기\n",
    "type(x) # numpy.ndarray\n",
    "\n",
    "x \n",
    "# array([0, 1, 2, 3, 4, 5, 6, 7, 8, 9])\n",
    "\n",
    "2 * x \n",
    "# array([ 0,  2,  4,  6,  8, 10, 12, 14, 16, 18])"
   ]
  },
  {
   "cell_type": "code",
   "execution_count": 6,
   "id": "1e296a8c",
   "metadata": {},
   "outputs": [
    {
     "name": "stdout",
     "output_type": "stream",
     "text": [
      "[0, 1, 2, 3, 4, 5, 6, 7, 8, 9, 0, 1, 2, 3, 4, 5, 6, 7, 8, 9]\n"
     ]
    }
   ],
   "source": [
    "# 참고로 일반적인 리스트 객체에 정수를 곱하면 \n",
    "# 객체의 크기가 정수배 만큼으로 증가한다.\n",
    "\n",
    "L = [i for i in range(10)]\n",
    "print(2 * L)"
   ]
  },
  {
   "cell_type": "markdown",
   "id": "bbbff83a",
   "metadata": {},
   "source": [
    "> 벡터화 연산은 비교 연산과 논리 연산을 포함한 모든 종류의 수학 연산에 대해 적용된다. "
   ]
  },
  {
   "cell_type": "code",
   "execution_count": 7,
   "id": "13581cd4",
   "metadata": {},
   "outputs": [
    {
     "data": {
      "text/plain": [
       "(array([1, 2, 3]), array([10, 20, 30]))"
      ]
     },
     "execution_count": 7,
     "metadata": {},
     "output_type": "execute_result"
    }
   ],
   "source": [
    "a = np.array([1, 2, 3])\n",
    "b = np.array([10, 20, 30])\n",
    "\n",
    "a, b"
   ]
  },
  {
   "cell_type": "code",
   "execution_count": 8,
   "id": "a2d45bc1",
   "metadata": {},
   "outputs": [
    {
     "data": {
      "text/plain": [
       "array([12, 24, 36])"
      ]
     },
     "execution_count": 8,
     "metadata": {},
     "output_type": "execute_result"
    }
   ],
   "source": [
    "# 사칙 연산\n",
    "2 * a + b"
   ]
  },
  {
   "cell_type": "code",
   "execution_count": 9,
   "id": "f055e0b6",
   "metadata": {},
   "outputs": [
    {
     "data": {
      "text/plain": [
       "array([False,  True, False])"
      ]
     },
     "execution_count": 9,
     "metadata": {},
     "output_type": "execute_result"
    }
   ],
   "source": [
    "# 논리 연산\n",
    "a == 2"
   ]
  },
  {
   "cell_type": "code",
   "execution_count": 10,
   "id": "8da28405",
   "metadata": {},
   "outputs": [
    {
     "data": {
      "text/plain": [
       "array([False,  True,  True])"
      ]
     },
     "execution_count": 10,
     "metadata": {},
     "output_type": "execute_result"
    }
   ],
   "source": [
    "# 비교 연산\n",
    "b > 10"
   ]
  },
  {
   "cell_type": "code",
   "execution_count": 11,
   "id": "862d509d",
   "metadata": {},
   "outputs": [
    {
     "data": {
      "text/plain": [
       "array([False,  True, False])"
      ]
     },
     "execution_count": 11,
     "metadata": {},
     "output_type": "execute_result"
    }
   ],
   "source": [
    "# 비교연산 + 논리연산 + 비교연산\n",
    "(a == 2) & (b > 10)"
   ]
  },
  {
   "cell_type": "markdown",
   "id": "feed9717",
   "metadata": {},
   "source": [
    "## 4. 2차원 배열 만들기\n",
    "---\n",
    "2차원 배열은 행렬(matrix)이라고 하는데 행렬에서는 가로줄을 행(row)이라고 하고 세로줄을 열(column)이라고 부른다."
   ]
  },
  {
   "cell_type": "code",
   "execution_count": 12,
   "id": "44a654a7",
   "metadata": {},
   "outputs": [
    {
     "data": {
      "text/plain": [
       "[[0, 1, 2], [0, 1, 2], [0, 1, 2]]"
      ]
     },
     "execution_count": 12,
     "metadata": {},
     "output_type": "execute_result"
    }
   ],
   "source": [
    "# 3 x 4 행렬 생성\n",
    "# 바깥쪽 리스트의 길이는 행렬의 행의 수 x 안쪽 리스트의 길이는 행렬의 열의 수\n",
    "# 세로 크기(바깥쪽) x 가로 크기(안쪽)\n",
    "arr = [[i for i in range(3)] for j in range(3)]\n",
    "arr"
   ]
  },
  {
   "cell_type": "code",
   "execution_count": 13,
   "id": "72d5be8b",
   "metadata": {},
   "outputs": [
    {
     "name": "stdout",
     "output_type": "stream",
     "text": [
      "[[0 1 2 3]\n",
      " [4 5 6 7]\n",
      " [8 9 0 0]]\n"
     ]
    }
   ],
   "source": [
    "# 0 ~ 8까지 2차원 배열(행렬) 생성\n",
    "\n",
    "arr = np.arange(9).reshape(3,3)\n",
    "# arr = np.reshape(np.arange(9), (3,3))\n",
    "'''\n",
    "array([[0, 1, 2],\n",
    "       [3, 4, 5],\n",
    "       [6, 7, 8]])\n",
    "'''\n",
    "\n",
    "# 3차원 변환\n",
    "arr = np.arange(8)\n",
    "arr.reshape(2,-1,2)\n"
   ]
  },
  {
   "cell_type": "code",
   "execution_count": 42,
   "id": "ffcbf985",
   "metadata": {},
   "outputs": [
    {
     "name": "stdout",
     "output_type": "stream",
     "text": [
      "[[9 4 0 1]\n",
      " [9 0 1 8]\n",
      " [9 0 8 6]] \n",
      "\n",
      "\n",
      "[[[0 1]\n",
      "  [2 3]]\n",
      "\n",
      " [[4 5]\n",
      "  [6 7]]]\n",
      "[0 1 2 3 4 5 6 7]\n"
     ]
    }
   ],
   "source": [
    "# np.reshape() : numpy.ndarray의 shape 조절 함수\n",
    "\n",
    "# 정수형태의 난수를 이용해서 (3,4) shape을 가지는 ndarray 생성\n",
    "np.random.seed(10)\n",
    "arr = np.random.randint(0, 10, (3,4))\n",
    "print(arr, '\\n\\n')\n",
    "\n",
    "'''\n",
    "Usage :\n",
    "reshape() 함수는 요소의 개수가 맞지 않으면 reshape가 되지 않음\n",
    "reshape(-1, 2) : 2열로 설정하고 행의 차원은 원래 배열로 추정한다.\n",
    "reshape(-1) : 1차원 배열로 변환\n",
    "'''\n",
    "\n",
    "\n",
    "# a2 = a1.ravel() # 또는 a2 = a1.reshape(-1) 또는 a2 = a1.flatten()\n",
    "arr = arr.reshape(-1) # 원본이 변하지 않는 메서드\n",
    "print(arr)"
   ]
  },
  {
   "cell_type": "code",
   "execution_count": 24,
   "id": "b3ad5038",
   "metadata": {},
   "outputs": [
    {
     "name": "stdout",
     "output_type": "stream",
     "text": [
      "[[0 1 2 3]\n",
      " [4 5 6 7]\n",
      " [0 0 0 0]]\n",
      "[[0 1]\n",
      " [2 3]]\n",
      "[[0 1 2 3 0]\n",
      " [0 0 0 0 0]\n",
      " [0 0 0 0 0]]\n"
     ]
    }
   ],
   "source": [
    "# np.resize()\n",
    "\n",
    "arr = np.array([i for i in range(8)])\n",
    "\n",
    "# resize() 함수는 요소의 개수가 맞지 않아도 shape 변경 가능\n",
    "# 요소수가 줄어들면 기존 데이터를 버리고, 늘어나면 0으로 설정\n",
    "# result = arr.resize(2,6) \n",
    "# Wrong Usage : view가 생성되는 것이 아니라 원본이 변함, return None\n",
    "\n",
    "arr.resize(3,4) # 요소수가 늘어남\n",
    "print(arr)\n",
    "arr.resize(2,2)\t# 요소수가 줄어듬\n",
    "print(arr)\n",
    "\n",
    "arr.resize(3,5)\n",
    "print(arr)"
   ]
  },
  {
   "cell_type": "code",
   "execution_count": 37,
   "id": "cb1edfed",
   "metadata": {},
   "outputs": [
    {
     "data": {
      "text/plain": [
       "array([[0, 1, 2],\n",
       "       [3, 4, 5]])"
      ]
     },
     "execution_count": 37,
     "metadata": {},
     "output_type": "execute_result"
    }
   ],
   "source": [
    "# 2차원 배열의 행과 열의 갯수 구하기\n",
    "c = np.array([[0, 1, 2], [3, 4, 5]])  # 2 x 3 array\n",
    "c"
   ]
  },
  {
   "cell_type": "code",
   "execution_count": 38,
   "id": "65ccaf35",
   "metadata": {},
   "outputs": [
    {
     "data": {
      "text/plain": [
       "2"
      ]
     },
     "execution_count": 38,
     "metadata": {},
     "output_type": "execute_result"
    }
   ],
   "source": [
    "# 행의 갯수\n",
    "len(c)"
   ]
  },
  {
   "cell_type": "code",
   "execution_count": 39,
   "id": "21b155f3",
   "metadata": {},
   "outputs": [
    {
     "data": {
      "text/plain": [
       "3"
      ]
     },
     "execution_count": 39,
     "metadata": {},
     "output_type": "execute_result"
    }
   ],
   "source": [
    "# 열의 갯수\n",
    "len(c[0])"
   ]
  },
  {
   "cell_type": "code",
   "execution_count": 41,
   "id": "596f386e",
   "metadata": {},
   "outputs": [
    {
     "data": {
      "text/plain": [
       "array([[10, 20, 30, 40],\n",
       "       [50, 60, 70, 80]])"
      ]
     },
     "execution_count": 41,
     "metadata": {},
     "output_type": "execute_result"
    }
   ],
   "source": [
    "# 연습 문제 1\n",
    "c = np.array([i * 10 for i in range(1,9)])\n",
    "c.reshape(2, 4)"
   ]
  },
  {
   "cell_type": "markdown",
   "id": "2e74e761",
   "metadata": {},
   "source": [
    "## ※ 정리\n",
    "\n",
    "1. np.array() 메서드 \n",
    "```python\n",
    "# input : 리스트\n",
    "# output : numpy.ndarray 클래스 객체(배열)\n",
    "ar = np.array([i for i in range(10)])\n",
    "```\n",
    "\n",
    "2. np.reshape() 메서드\n",
    "```python\n",
    "# input : \n",
    "```"
   ]
  },
  {
   "cell_type": "code",
   "execution_count": null,
   "id": "45028dff",
   "metadata": {},
   "outputs": [],
   "source": []
  }
 ],
 "metadata": {
  "kernelspec": {
   "display_name": "Python 3 (ipykernel)",
   "language": "python",
   "name": "python3"
  },
  "language_info": {
   "codemirror_mode": {
    "name": "ipython",
    "version": 3
   },
   "file_extension": ".py",
   "mimetype": "text/x-python",
   "name": "python",
   "nbconvert_exporter": "python",
   "pygments_lexer": "ipython3",
   "version": "3.9.13"
  }
 },
 "nbformat": 4,
 "nbformat_minor": 5
}
