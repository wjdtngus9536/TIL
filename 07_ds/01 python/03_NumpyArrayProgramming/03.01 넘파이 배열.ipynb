{
 "cells": [
  {
   "cell_type": "markdown",
   "id": "dfcd84c6",
   "metadata": {},
   "source": [
    "# 3. 1 넘파이 배열\n",
    "---\n",
    "많은 숫자 데이터를 하나의 변수에 넣고 관리 할 때 `리스트는 속도가 느리고 메모리를 많이 차지하는 단점이 있다.` 배열(array)을 사용하면 적은 메모리로 많은 데이터를 빠르게 처리할 수 있다.\n",
    "\n",
    "배열과 리스트 자료형의 차이점\n",
    "1. 모든 원소가 같은 자료형이어야 한다.\n",
    "2. 원소의 갯수를 바꿀 수 없다.\n",
    "\n",
    "파이썬에서 배열을 사용하기 위한 표준 패키지는 넘파이(NumPy)다.  \n",
    "넘파이는 수치해석용 파이썬 패키지이다. `다차원의 배열 자료구조 클래스인 ndarray 클래스를 지원`하며 벡터와 행렬을 사용하는 선형대수 계산에 주로 사용된다.  \n",
    "내부적으로는 BLAS 라이브러리와 LAPACK 라이브러리를 사용하고 있으며 C로 구현된 CPython에서만 사용할 수 있다.\n",
    "\n",
    "\n",
    "넘파이의 배열 연산은 \n",
    "1. `C로 구현된 내부 반복문을 사용하기 때문에 파이썬 반복문에 비해 속도가 빠르`며 \n",
    "2. `벡터화 연산(vectorized operation)을 이용하여 간단한 코드로도 복잡한 선형 대수 연산을 수행`할 수 있다. 또한 \n",
    "3. `배열 인덱싱(array indexing)을 사용한 질의(Query) 기능을 이용하여 간단한 코드로도 복잡한 수식을 계산`할 수 있다."
   ]
  },
  {
   "cell_type": "markdown",
   "id": "aa03df8e",
   "metadata": {},
   "source": [
    "## 1. numpy package import\n",
    "> 넘파이는 np라는 이름으로 임포트하는 것이 관례"
   ]
  },
  {
   "cell_type": "code",
   "execution_count": 1,
   "id": "4d852b4a",
   "metadata": {},
   "outputs": [],
   "source": [
    "import numpy as np"
   ]
  },
  {
   "cell_type": "markdown",
   "id": "33dc09c1",
   "metadata": {},
   "source": [
    "## 2. 1차원 배열 만들기 "
   ]
  },
  {
   "cell_type": "code",
   "execution_count": 2,
   "id": "2f2f4dc0",
   "metadata": {},
   "outputs": [
    {
     "data": {
      "text/plain": [
       "array([0, 1, 2, 3, 4, 5, 6, 7, 8, 9])"
      ]
     },
     "execution_count": 2,
     "metadata": {},
     "output_type": "execute_result"
    }
   ],
   "source": [
    "# 넘파이의 array 함수에 리스트를 넣으면\n",
    "ar = np.array(list(range(10)))\n",
    "ar"
   ]
  },
  {
   "cell_type": "code",
   "execution_count": 3,
   "id": "24ef80d4",
   "metadata": {},
   "outputs": [
    {
     "data": {
      "text/plain": [
       "numpy.ndarray"
      ]
     },
     "execution_count": 3,
     "metadata": {},
     "output_type": "execute_result"
    }
   ],
   "source": [
    "# ndarray 클래스 객체 즉, 배열로 변환해 준다.\n",
    "type(ar)"
   ]
  },
  {
   "cell_type": "markdown",
   "id": "13b66e00",
   "metadata": {},
   "source": [
    "### ndarray 객체와 리스트의 차이점\n",
    "\n",
    "배열 객체 객체는 C언어의 배열처럼 연속적인 메모리 배치를 가지기 때문에 모든 원소가 같은 자료형이어야 한다.  \n",
    "이러한 제약사항이 있는 대신 원소에 대한 접근과 반복문 실행이 빨라진다."
   ]
  },
  {
   "cell_type": "markdown",
   "id": "fee6949a",
   "metadata": {},
   "source": [
    "## 3. 벡터화 연산\n",
    "> 배열의 각 원소에 대한 반복 연산을 하나의 명령어로 처리하는 벡터화 연산(vectorized operation)을 지원"
   ]
  },
  {
   "cell_type": "code",
   "execution_count": 4,
   "id": "9ea18852",
   "metadata": {},
   "outputs": [
    {
     "data": {
      "text/plain": [
       "[0, 1, 2, 3, 4, 5, 6, 7, 8, 9]"
      ]
     },
     "execution_count": 4,
     "metadata": {},
     "output_type": "execute_result"
    }
   ],
   "source": [
    "# 배열 내의 모든 원소에 대한 반복 연산을 하나의 명령어로 처리 가능\n",
    "data = [i for i in range(10)]\n",
    "data"
   ]
  },
  {
   "cell_type": "code",
   "execution_count": 5,
   "id": "55167a57",
   "metadata": {},
   "outputs": [
    {
     "data": {
      "text/plain": [
       "array([ 0,  2,  4,  6,  8, 10, 12, 14, 16, 18])"
      ]
     },
     "execution_count": 5,
     "metadata": {},
     "output_type": "execute_result"
    }
   ],
   "source": [
    "x = np.array(data) # 배열로 만들기\n",
    "type(x) # numpy.ndarray\n",
    "\n",
    "x \n",
    "# array([0, 1, 2, 3, 4, 5, 6, 7, 8, 9])\n",
    "\n",
    "2 * x \n",
    "# array([ 0,  2,  4,  6,  8, 10, 12, 14, 16, 18])"
   ]
  },
  {
   "cell_type": "code",
   "execution_count": 6,
   "id": "0d6490ae",
   "metadata": {},
   "outputs": [
    {
     "name": "stdout",
     "output_type": "stream",
     "text": [
      "[0, 1, 2, 3, 4, 5, 6, 7, 8, 9, 0, 1, 2, 3, 4, 5, 6, 7, 8, 9]\n"
     ]
    }
   ],
   "source": [
    "# 참고로 일반적인 리스트 객체에 정수를 곱하면 \n",
    "# 객체의 크기가 정수배 만큼으로 증가한다.\n",
    "\n",
    "L = [i for i in range(10)]\n",
    "print(2 * L)"
   ]
  },
  {
   "cell_type": "markdown",
   "id": "6dd5ca5e",
   "metadata": {},
   "source": [
    "> 벡터화 연산은 비교 연산과 논리 연산을 포함한 모든 종류의 수학 연산에 대해 적용된다. "
   ]
  },
  {
   "cell_type": "code",
   "execution_count": 7,
   "id": "ec9d922f",
   "metadata": {},
   "outputs": [
    {
     "data": {
      "text/plain": [
       "(array([1, 2, 3]), array([10, 20, 30]))"
      ]
     },
     "execution_count": 7,
     "metadata": {},
     "output_type": "execute_result"
    }
   ],
   "source": [
    "a = np.array([1, 2, 3])\n",
    "b = np.array([10, 20, 30])\n",
    "\n",
    "a, b"
   ]
  },
  {
   "cell_type": "code",
   "execution_count": 8,
   "id": "f9758cfa",
   "metadata": {},
   "outputs": [
    {
     "data": {
      "text/plain": [
       "array([12, 24, 36])"
      ]
     },
     "execution_count": 8,
     "metadata": {},
     "output_type": "execute_result"
    }
   ],
   "source": [
    "# 사칙 연산\n",
    "2 * a + b"
   ]
  },
  {
   "cell_type": "code",
   "execution_count": 9,
   "id": "2726ff2d",
   "metadata": {},
   "outputs": [
    {
     "data": {
      "text/plain": [
       "array([False,  True, False])"
      ]
     },
     "execution_count": 9,
     "metadata": {},
     "output_type": "execute_result"
    }
   ],
   "source": [
    "# 논리 연산\n",
    "a == 2"
   ]
  },
  {
   "cell_type": "code",
   "execution_count": 10,
   "id": "ab8f9cff",
   "metadata": {},
   "outputs": [
    {
     "data": {
      "text/plain": [
       "array([False,  True,  True])"
      ]
     },
     "execution_count": 10,
     "metadata": {},
     "output_type": "execute_result"
    }
   ],
   "source": [
    "# 비교 연산\n",
    "b > 10"
   ]
  },
  {
   "cell_type": "code",
   "execution_count": 11,
   "id": "09965625",
   "metadata": {},
   "outputs": [
    {
     "data": {
      "text/plain": [
       "array([False,  True, False])"
      ]
     },
     "execution_count": 11,
     "metadata": {},
     "output_type": "execute_result"
    }
   ],
   "source": [
    "# 비교연산 + 논리연산 + 비교연산\n",
    "(a == 2) & (b > 10)"
   ]
  },
  {
   "cell_type": "markdown",
   "id": "9fcc753e",
   "metadata": {},
   "source": [
    "## 4. 2차원 배열 만들기\n",
    "---\n",
    "2차원 배열은 행렬(matrix)이라고 하는데 행렬에서는 가로줄을 행(row)이라고 하고 세로줄을 열(column)이라고 부른다."
   ]
  },
  {
   "cell_type": "code",
   "execution_count": 12,
   "id": "f975f868",
   "metadata": {},
   "outputs": [
    {
     "data": {
      "text/plain": [
       "[[0, 1, 2], [0, 1, 2], [0, 1, 2]]"
      ]
     },
     "execution_count": 12,
     "metadata": {},
     "output_type": "execute_result"
    }
   ],
   "source": [
    "# 3 x 4 행렬 생성\n",
    "# 바깥쪽 리스트의 길이는 행렬의 행의 수 x 안쪽 리스트의 길이는 행렬의 열의 수\n",
    "# 세로 크기(바깥쪽) x 가로 크기(안쪽)\n",
    "arr = [[i for i in range(3)] for j in range(3)]\n",
    "arr"
   ]
  },
  {
   "cell_type": "code",
   "execution_count": 4,
   "id": "a64cbcd5",
   "metadata": {},
   "outputs": [
    {
     "name": "stdout",
     "output_type": "stream",
     "text": [
      "[[0 1 2]\n",
      " [3 4 5]\n",
      " [6 7 8]] \n",
      "\n",
      "\n"
     ]
    },
    {
     "data": {
      "text/plain": [
       "array([[[0, 1],\n",
       "        [2, 3]],\n",
       "\n",
       "       [[4, 5],\n",
       "        [6, 7]]])"
      ]
     },
     "execution_count": 4,
     "metadata": {},
     "output_type": "execute_result"
    }
   ],
   "source": [
    "# 0 ~ 8까지 2차원 배열(행렬) 생성\n",
    "\n",
    "arr = np.arange(9).reshape(3,3)\n",
    "print(arr, '\\n\\n')\n",
    "# arr = np.reshape(np.arange(9), (3,3)) # reshape의 Output은 numpy.ndarray 객체\n",
    "# ndarray.reshape -> Equivalent method.\n",
    "\n",
    "# 3차원으로 변환\n",
    "arr = np.arange(8)\n",
    "arr.reshape(2,-1,2)\n"
   ]
  },
  {
   "cell_type": "code",
   "execution_count": 3,
   "id": "467552df",
   "metadata": {},
   "outputs": [
    {
     "name": "stdout",
     "output_type": "stream",
     "text": [
      "[[9 4 0 1]\n",
      " [9 0 1 8]\n",
      " [9 0 8 6]] \n",
      "\n",
      "\n",
      "[9 4 0 1 9 0 1 8 9 0 8 6]\n"
     ]
    }
   ],
   "source": [
    "# np.reshape() : numpy.ndarray의 shape 조절 함수\n",
    "\n",
    "# 정수형태의 난수를 이용해서 (3,4) shape을 가지는 ndarray 생성\n",
    "np.random.seed(10)\n",
    "arr = np.random.randint(0, 10, (3,4))\n",
    "print(arr, '\\n\\n')\n",
    "\n",
    "'''\n",
    "Usage :\n",
    "reshape() 함수는 요소의 개수가 맞지 않으면 reshape가 되지 않음\n",
    "reshape(-1, 2) : 2열로 설정하고 행의 차원은 원래 배열로 추정한다.\n",
    "reshape(-1) : 1차원 배열로 변환\n",
    "'''\n",
    "\n",
    "\n",
    "# a2 = a1.ravel() # 또는 a2 = a1.reshape(-1) 또는 a2 = a1.flatten()\n",
    "arr = arr.reshape(-1) # 원본이 변하지 않는 메서드\n",
    "print(arr)"
   ]
  },
  {
   "cell_type": "code",
   "execution_count": 24,
   "id": "fba5eb8c",
   "metadata": {},
   "outputs": [
    {
     "name": "stdout",
     "output_type": "stream",
     "text": [
      "[[0 1 2 3]\n",
      " [4 5 6 7]\n",
      " [0 0 0 0]]\n",
      "[[0 1]\n",
      " [2 3]]\n",
      "[[0 1 2 3 0]\n",
      " [0 0 0 0 0]\n",
      " [0 0 0 0 0]]\n"
     ]
    }
   ],
   "source": [
    "# np.resize()\n",
    "\n",
    "arr = np.array([i for i in range(8)])\n",
    "\n",
    "# resize() 함수는 요소의 개수가 맞지 않아도 shape 변경 가능\n",
    "# 요소수가 줄어들면 기존 데이터를 버리고, 늘어나면 0으로 설정\n",
    "# result = arr.resize(2,6) \n",
    "# Wrong Usage : view가 생성되는 것이 아니라 원본이 변함, return None\n",
    "\n",
    "arr.resize(3,4) # 요소수가 늘어남\n",
    "print(arr)\n",
    "arr.resize(2,2)\t# 요소수가 줄어듬\n",
    "print(arr)\n",
    "\n",
    "arr.resize(3,5)\n",
    "print(arr)"
   ]
  },
  {
   "cell_type": "code",
   "execution_count": 37,
   "id": "a5f9456d",
   "metadata": {},
   "outputs": [
    {
     "data": {
      "text/plain": [
       "array([[0, 1, 2],\n",
       "       [3, 4, 5]])"
      ]
     },
     "execution_count": 37,
     "metadata": {},
     "output_type": "execute_result"
    }
   ],
   "source": [
    "# 2차원 배열의 행과 열의 갯수 구하기\n",
    "c = np.array([[0, 1, 2], [3, 4, 5]])  # 2 x 3 array\n",
    "c"
   ]
  },
  {
   "cell_type": "code",
   "execution_count": 38,
   "id": "852b704a",
   "metadata": {},
   "outputs": [
    {
     "data": {
      "text/plain": [
       "2"
      ]
     },
     "execution_count": 38,
     "metadata": {},
     "output_type": "execute_result"
    }
   ],
   "source": [
    "# 행의 갯수\n",
    "len(c)"
   ]
  },
  {
   "cell_type": "code",
   "execution_count": 39,
   "id": "08962a91",
   "metadata": {},
   "outputs": [
    {
     "data": {
      "text/plain": [
       "3"
      ]
     },
     "execution_count": 39,
     "metadata": {},
     "output_type": "execute_result"
    }
   ],
   "source": [
    "# 열의 갯수\n",
    "len(c[0])"
   ]
  },
  {
   "cell_type": "code",
   "execution_count": 29,
   "id": "a30bbd0a",
   "metadata": {},
   "outputs": [
    {
     "data": {
      "text/plain": [
       "array([[10, 20, 30, 40],\n",
       "       [50, 60, 70, 80]])"
      ]
     },
     "execution_count": 29,
     "metadata": {},
     "output_type": "execute_result"
    }
   ],
   "source": [
    "# 연습 문제 1\n",
    "c = np.array([i * 10 for i in range(1,9)])\n",
    "c = c.reshape(2, 4)\n",
    "c"
   ]
  },
  {
   "cell_type": "markdown",
   "id": "3119cffd",
   "metadata": {},
   "source": [
    "## ※ 정리\n",
    "\n",
    "1. np.array() 메서드 \n",
    "```python\n",
    "# input : 리스트\n",
    "# output : numpy.ndarray 클래스 객체(배열)\n",
    "# method : AttributeError: 'numpy.ndarray' object has no attribute 'array'\n",
    "ar = np.array([i for i in range(10)])\n",
    "```\n",
    "\n",
    "2. np.reshape() 메서드\n",
    "```python\n",
    "# input : numpy.reshape(배열, 정수나 정수들의 tuple, optionaly C언어같은 index order로 읽고 쓰기 order='C')\n",
    "# output : Gives a new shape to an array without changing its data.\n",
    "# method : 데이터는 변하지 않음.\n",
    "```\n",
    "\n",
    "3. np.resize() 메서드\n",
    "```python\n",
    "# input : numpy.resize(배열, new_shape)\n",
    "# output : Return a new array with the specified shape. # numpy 패키지 함수로 호출하면, repeated copies of a로 채워진다.\n",
    "# mothod : ndarray.resize - ndarray 객체를 resize가능 # 객체의 메소드로 호출하면 0으로 채워지고\n",
    "```"
   ]
  },
  {
   "cell_type": "code",
   "execution_count": 12,
   "id": "07b50c0a",
   "metadata": {},
   "outputs": [
    {
     "data": {
      "text/plain": [
       "array([[10, 20, 30, 40],\n",
       "       [50, 60, 70, 80]])"
      ]
     },
     "execution_count": 12,
     "metadata": {},
     "output_type": "execute_result"
    }
   ],
   "source": [
    "# 연습 문제 1\n",
    "\n",
    "np.array([i * 10 for i in range(1,9)]).reshape(2,4)"
   ]
  },
  {
   "cell_type": "markdown",
   "id": "82f5ac70",
   "metadata": {},
   "source": [
    "## 5. 3차원 배열 만들기 "
   ]
  },
  {
   "cell_type": "code",
   "execution_count": 23,
   "id": "c06866c1",
   "metadata": {},
   "outputs": [
    {
     "data": {
      "text/plain": [
       "array([[[ 1,  2,  3,  4],\n",
       "        [ 5,  6,  7,  8],\n",
       "        [ 9, 10, 11, 12]],\n",
       "\n",
       "       [[11, 12, 13, 14],\n",
       "        [15, 16, 17, 18],\n",
       "        [19, 20, 21, 22]]])"
      ]
     },
     "execution_count": 23,
     "metadata": {},
     "output_type": "execute_result"
    }
   ],
   "source": [
    "d = np.array([i for i in range(1, 13)] + [i for i in range(11, 23)]).reshape(2,3,4)\n",
    "d"
   ]
  },
  {
   "cell_type": "code",
   "execution_count": 24,
   "id": "6685683c",
   "metadata": {},
   "outputs": [
    {
     "data": {
      "text/plain": [
       "(2, 3, 4)"
      ]
     },
     "execution_count": 24,
     "metadata": {},
     "output_type": "execute_result"
    }
   ],
   "source": [
    "# 3차원 배열의 깊이, 행, 열은 다음과 같이 구할 수 있다.\n",
    "len(d), len(d[0]), len(d[0][0])"
   ]
  },
  {
   "cell_type": "markdown",
   "id": "46522c45",
   "metadata": {},
   "source": [
    "## 6. 배열의 차원과 크기 알아내기\n",
    "> ndim 속성은 배열의 차원, shape 속성은 배열의 크기를 반환한다."
   ]
  },
  {
   "cell_type": "code",
   "execution_count": 25,
   "id": "a2fe9977",
   "metadata": {},
   "outputs": [
    {
     "name": "stdout",
     "output_type": "stream",
     "text": [
      "3\n",
      "(2, 3, 4)\n"
     ]
    }
   ],
   "source": [
    "print(d.ndim)\n",
    "print(d.shape)"
   ]
  },
  {
   "cell_type": "code",
   "execution_count": 30,
   "id": "d127033e",
   "metadata": {},
   "outputs": [
    {
     "name": "stdout",
     "output_type": "stream",
     "text": [
      "2\n",
      "(2, 4)\n"
     ]
    }
   ],
   "source": [
    "print(c.ndim)\n",
    "print(c.shape)"
   ]
  },
  {
   "cell_type": "markdown",
   "id": "d346664d",
   "metadata": {},
   "source": [
    "## 7. 배열의 인덱싱\n",
    "> 다차원 배열일 때는 다음과 같이 콤마(comma ,)를 사용하여 접근할 수 있다.  \n",
    "콤마로 구분된 차원을 축(axis)이라고도 한다. 그래프의 x축과 y축을 떠올리면 될 것이다."
   ]
  },
  {
   "cell_type": "code",
   "execution_count": 31,
   "id": "8249c363",
   "metadata": {},
   "outputs": [
    {
     "data": {
      "text/plain": [
       "array([[0, 1, 2],\n",
       "       [3, 4, 5]])"
      ]
     },
     "execution_count": 31,
     "metadata": {},
     "output_type": "execute_result"
    }
   ],
   "source": [
    "a = np.array([i for i in range(6)]).reshape(2,3)\n",
    "a"
   ]
  },
  {
   "cell_type": "code",
   "execution_count": 32,
   "id": "7fa56282",
   "metadata": {},
   "outputs": [
    {
     "data": {
      "text/plain": [
       "0"
      ]
     },
     "execution_count": 32,
     "metadata": {},
     "output_type": "execute_result"
    }
   ],
   "source": [
    "a[0, 0] # 첫번째 행의 첫번째 열"
   ]
  },
  {
   "cell_type": "code",
   "execution_count": 33,
   "id": "ae6ca868",
   "metadata": {},
   "outputs": [
    {
     "data": {
      "text/plain": [
       "5"
      ]
     },
     "execution_count": 33,
     "metadata": {},
     "output_type": "execute_result"
    }
   ],
   "source": [
    "a[-1, -1] # 마지막 행의 마지막 열"
   ]
  },
  {
   "cell_type": "markdown",
   "id": "dff44841",
   "metadata": {},
   "source": [
    "## 8. 배열 슬라이싱\n",
    "> 배열 객체로 구현한 다차원 배열의 원소 중 `복수 개를 접근`하려면  \n",
    "일반적인 파이썬 슬라이싱(slicing)과 comma(,)를 함께 사용하면 된다."
   ]
  },
  {
   "cell_type": "code",
   "execution_count": 34,
   "id": "2c04c5f9",
   "metadata": {},
   "outputs": [
    {
     "data": {
      "text/plain": [
       "array([[0, 1, 2, 3],\n",
       "       [4, 5, 6, 7]])"
      ]
     },
     "execution_count": 34,
     "metadata": {},
     "output_type": "execute_result"
    }
   ],
   "source": [
    "a = np.array([i for i in range(8)]).reshape(2,4)\n",
    "a"
   ]
  },
  {
   "cell_type": "code",
   "execution_count": 35,
   "id": "83d599c3",
   "metadata": {},
   "outputs": [
    {
     "data": {
      "text/plain": [
       "array([0, 1, 2, 3])"
      ]
     },
     "execution_count": 35,
     "metadata": {},
     "output_type": "execute_result"
    }
   ],
   "source": [
    "a[0, :] # 첫번째 행 전체"
   ]
  },
  {
   "cell_type": "code",
   "execution_count": 36,
   "id": "dae20ba6",
   "metadata": {},
   "outputs": [
    {
     "data": {
      "text/plain": [
       "array([1, 5])"
      ]
     },
     "execution_count": 36,
     "metadata": {},
     "output_type": "execute_result"
    }
   ],
   "source": [
    "# 두번째 열 전체\n",
    "a[:, 1]"
   ]
  },
  {
   "cell_type": "code",
   "execution_count": 37,
   "id": "1f2ea8e3",
   "metadata": {},
   "outputs": [
    {
     "data": {
      "text/plain": [
       "array([5, 6, 7])"
      ]
     },
     "execution_count": 37,
     "metadata": {},
     "output_type": "execute_result"
    }
   ],
   "source": [
    "# 두번째 행의 두번째 열부터 끝열까지\n",
    "a[1, 1:]"
   ]
  },
  {
   "cell_type": "code",
   "execution_count": 45,
   "id": "767be225",
   "metadata": {},
   "outputs": [
    {
     "name": "stdout",
     "output_type": "stream",
     "text": [
      "7\n",
      "14\n",
      "[6 7]\n",
      "[ 7 12]\n",
      "[[3 4]\n",
      " [8 9]]\n"
     ]
    }
   ],
   "source": [
    "# 연습 문제 2\n",
    "m = np.array([i for i in range(15)]).reshape(3,5)\n",
    "'''\n",
    "array([[ 0,  1,  2,  3,  4],\n",
    "       [ 5,  6,  7,  8,  9],\n",
    "       [10, 11, 12, 13, 14]])\n",
    "'''\n",
    "\n",
    "# 1. 이 행렬에서 값 7 을 인덱싱한다.\n",
    "print(m[1, 2])\n",
    "\n",
    "# 2. 이 행렬에서 값 14 을 인덱싱한다.\n",
    "print(m[-1, -1])\n",
    "\n",
    "# 3. 이 행렬에서 배열 [6, 7] 을 슬라이싱한다.\n",
    "print(m[1, 1:3])\n",
    "\n",
    "# 4. 이 행렬에서 배열 [7, 12] 을 슬라이싱한다.\n",
    "print(m[1:3, 2])\n",
    "\n",
    "# 5. 이 행렬에서 배열 [[3, 4], [8, 9]] 을 슬라이싱한다.\n",
    "print(m[0:2, 3:5])"
   ]
  },
  {
   "cell_type": "markdown",
   "id": "917f3ffd",
   "metadata": {},
   "source": [
    "## 9. 배열 인덱싱(fancy indexing, array indexing)\n",
    "인덱싱이라는 이름이 붙었지만 사실은 데이터베이스의 질의(Query) 기능을 수행한다.  \n",
    "배열 인덱싱에서는 대괄호(Bracket, [])안의 인덱스 정보로 숫자나 슬라이스가 아니라 **위치 정보를 나타내는 또 다른 ndarray 배열**을 받을 수 있다. 여기에서는 **이 배열을 편의상 인덱스 배열이라고 부르겠다.** 배열 인덱싱의 방식에은  \n",
    "1. 불리언(Boolean) 배열 방식(인덱스 배열의 크기가 원래 ndarray 객체의 크기와 같아야 한다.)\n",
    "2. 정수 배열 방식\n",
    "두가지가 있다."
   ]
  },
  {
   "cell_type": "code",
   "execution_count": 52,
   "id": "6442f0e4",
   "metadata": {},
   "outputs": [
    {
     "data": {
      "text/plain": [
       "array([0, 2, 4, 6, 8])"
      ]
     },
     "execution_count": 52,
     "metadata": {},
     "output_type": "execute_result"
    }
   ],
   "source": [
    "# 1. 불리언 배열 방식\n",
    "\n",
    "## 1차원 ndarray에서 짝수인 원소만 골라내는 법\n",
    "a = np.array([i for i in range(10)])\n",
    "idx = np.array([True if i % 2 == 0 else False for i in range(10)])\n",
    "\n",
    "a[idx]"
   ]
  },
  {
   "cell_type": "code",
   "execution_count": 53,
   "id": "16ecfec1",
   "metadata": {},
   "outputs": [
    {
     "data": {
      "text/plain": [
       "array([0, 1, 0, 1, 0, 1, 0, 1, 0, 1], dtype=int32)"
      ]
     },
     "execution_count": 53,
     "metadata": {},
     "output_type": "execute_result"
    }
   ],
   "source": [
    "# 벡터화 조건문 연산을 사용하면 간단히 쓸 수 있다.\n",
    "\n",
    "a % 2"
   ]
  },
  {
   "cell_type": "code",
   "execution_count": 54,
   "id": "539c4959",
   "metadata": {},
   "outputs": [
    {
     "data": {
      "text/plain": [
       "array([ True, False,  True, False,  True, False,  True, False,  True,\n",
       "       False])"
      ]
     },
     "execution_count": 54,
     "metadata": {},
     "output_type": "execute_result"
    }
   ],
   "source": [
    "a % 2 == 0"
   ]
  },
  {
   "cell_type": "code",
   "execution_count": 55,
   "id": "d7f322cf",
   "metadata": {},
   "outputs": [
    {
     "data": {
      "text/plain": [
       "array([0, 2, 4, 6, 8])"
      ]
     },
     "execution_count": 55,
     "metadata": {},
     "output_type": "execute_result"
    }
   ],
   "source": [
    "a[a % 2 == 0]"
   ]
  },
  {
   "cell_type": "code",
   "execution_count": 59,
   "id": "25f55d58",
   "metadata": {},
   "outputs": [
    {
     "name": "stdout",
     "output_type": "stream",
     "text": [
      "[11 33 55 77 99]\n",
      "[11 11 11 11 11 11 22 22 22 22 22 33 33 33 33 33]\n"
     ]
    }
   ],
   "source": [
    "# 정수 배열 인덱싱\n",
    "## 인덱스 배열의 원소 각각이 원래 ndarray 객체 원소 하나를 가리키는 인덱스 정수이여야 한다.\n",
    "a = np.array([11, 22, 33, 44, 55, 66, 77, 88, 99])\n",
    "idx = np.array([i for i in range(10) if i % 2 == 0])\n",
    "print(a[idx])\n",
    "\n",
    "## 배열 인덱스의 크기가 원래의 배열 크기와 달라도 상관없다. \n",
    "## 같은 원소를 반복해서 가리키는 경우에는 배열 인덱스가 원래의 배열보다 더 커지기도 한다.\n",
    "idx = np.array([0, 0, 0, 0, 0, 0, 1, 1, 1, 1, 1, 2, 2, 2, 2, 2])\n",
    "print(a[idx])"
   ]
  },
  {
   "cell_type": "code",
   "execution_count": 62,
   "id": "cc0277d7",
   "metadata": {},
   "outputs": [
    {
     "name": "stdout",
     "output_type": "stream",
     "text": [
      "[[ 1  4]\n",
      " [ 5  8]\n",
      " [ 9 12]]\n"
     ]
    }
   ],
   "source": [
    "# 배열 인덱싱은 다차원 배열의 각 차원에 대해서도 할 수 있다.\n",
    "\n",
    "a = np.array([[1, 2, 3, 4], [5, 6, 7, 8], [9, 10, 11, 12]])\n",
    "idx = [True, False, False, True]\n",
    "print(a[:, idx])"
   ]
  },
  {
   "cell_type": "code",
   "execution_count": 65,
   "id": "d2eec891",
   "metadata": {},
   "outputs": [
    {
     "data": {
      "text/plain": [
       "array([[ 9, 10, 11, 12],\n",
       "       [ 1,  2,  3,  4],\n",
       "       [ 5,  6,  7,  8]])"
      ]
     },
     "execution_count": 65,
     "metadata": {},
     "output_type": "execute_result"
    }
   ],
   "source": [
    "a[[2, 0, 1], :]"
   ]
  },
  {
   "cell_type": "code",
   "execution_count": 3,
   "id": "1147f5af",
   "metadata": {},
   "outputs": [
    {
     "name": "stdout",
     "output_type": "stream",
     "text": [
      "[ 3  6  9 12 15 18]\n",
      "[ 1  5  9 13 17]\n",
      "[9]\n"
     ]
    }
   ],
   "source": [
    "# 연습 문제 3\n",
    "x = np.array([1, 2, 3, 4, 5, 6, 7, 8, 9, 10,\n",
    "             11, 12, 13, 14, 15, 16, 17, 18, 19, 20])\n",
    "\n",
    "# 1.이 배열에서 3의 배수를 찾아라.\n",
    "print(x[x % 3 == 0])\n",
    "\n",
    "# 2.이 배열에서 4로 나누면 1이 남는 수를 찾아라.\n",
    "print(x[x % 4 == 1])\n",
    "\n",
    "# 3.이 배열에서 3으로 나누면 나누어지고(And) 4로 나누면 1이 남는 수를 찾아라.\n",
    "print(x[(x % 3 == 0) & (x % 4 == 1)]) \n",
    "## and(Boolean) 와 &(bit wise, 비트 연산자), 배열의 T/F를 각각 계산하고 싶다면 비트 연산자 사용"
   ]
  },
  {
   "cell_type": "code",
   "execution_count": null,
   "id": "8f1c75e7",
   "metadata": {},
   "outputs": [],
   "source": []
  }
 ],
 "metadata": {
  "kernelspec": {
   "display_name": "Python 3 (ipykernel)",
   "language": "python",
   "name": "python3"
  },
  "language_info": {
   "codemirror_mode": {
    "name": "ipython",
    "version": 3
   },
   "file_extension": ".py",
   "mimetype": "text/x-python",
   "name": "python",
   "nbconvert_exporter": "python",
   "pygments_lexer": "ipython3",
   "version": "3.9.13"
  }
 },
 "nbformat": 4,
 "nbformat_minor": 5
}
