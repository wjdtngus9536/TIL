{
 "cells": [
  {
   "cell_type": "markdown",
   "id": "14b86f4e",
   "metadata": {},
   "source": [
    "# 4.1 판다스 패키지의 소개 \n",
    "---\n",
    "대부분의 데이터는 시계열(series)이나 표(table)의 형태로 나타낼 수 있다. 판다스(Pandas) 패키지는 이러한 데이터를 다루기 위한 시리즈(Series) 클래스와 데이터프레임(DataFrame) 클래스를 제공한다."
   ]
  },
  {
   "cell_type": "markdown",
   "id": "387236ff",
   "metadata": {},
   "source": [
    "## 1. 판다스 패키지 임포트 \n",
    "판다스 패키지는 pd라는 별칭으로 임포트하는 것이 관례\n",
    "```python\n",
    "import pandas as pd\n",
    "```"
   ]
  },
  {
   "cell_type": "markdown",
   "id": "5b413e0c",
   "metadata": {},
   "source": [
    "---\n",
    "## 2. 시리즈 클래스 \n",
    "시리즈 Series 클래스는 넘파이에서 제공하는 1차원 배열과 비슷하지만 각 데이터의 의미를 표시하는 인덱스(index)를 붙일 수 있다. 데이터 자체는 값(value)라고 한다.  \n",
    "`Label이라고 하는 편이 자연스러울 듯.. index는 배열에도 있잖아`\n",
    ">시리즈 = 값(value) + 인덱스(index)\n"
   ]
  },
  {
   "cell_type": "markdown",
   "id": "073724cf",
   "metadata": {},
   "source": [
    "### 2.1 시리즈 생성\n",
    "input : pd.Series(값 리스트, index = 인덱스 리스트)"
   ]
  },
  {
   "cell_type": "code",
   "execution_count": 1,
   "id": "c727f831",
   "metadata": {},
   "outputs": [
    {
     "name": "stdout",
     "output_type": "stream",
     "text": [
      "서울    9904312\n",
      "부산    3448737\n",
      "인천    2890451\n",
      "대구    2466052\n",
      "dtype: int64\n"
     ]
    }
   ],
   "source": [
    "s = pd.Series([9904312, 3448737, 2890451, 2466052],\n",
    "             index = ['서울', '부산', '인천', '대구'])\n",
    "print(s)"
   ]
  },
  {
   "cell_type": "code",
   "execution_count": 2,
   "id": "e6277178",
   "metadata": {},
   "outputs": [
    {
     "data": {
      "text/plain": [
       "0    10\n",
       "1    11\n",
       "2    12\n",
       "3    13\n",
       "dtype: int64"
      ]
     },
     "execution_count": 2,
     "metadata": {},
     "output_type": "execute_result"
    }
   ],
   "source": [
    "# 인덱스를 지정하지 않고 시리즈를 만들면 default 인덱스는 0부터 시작하는 정수\n",
    "pd.Series(range(10, 14))"
   ]
  },
  {
   "cell_type": "code",
   "execution_count": 4,
   "id": "ef2517d7",
   "metadata": {},
   "outputs": [
    {
     "name": "stdout",
     "output_type": "stream",
     "text": [
      "Index(['서울', '부산', '인천', '대구'], dtype='object')\n",
      "[9904312 3448737 2890451 2466052]\n"
     ]
    }
   ],
   "source": [
    "# 시리즈의 인덱스는 index 속성으로 접근할 수 있다.\n",
    "print(s.index)\n",
    "\n",
    "# 시리즈의 값은 1차원 배열이며 values 속성으로 접근할 수 있다.\n",
    "print(s.values)"
   ]
  },
  {
   "cell_type": "code",
   "execution_count": 6,
   "id": "57887db1",
   "metadata": {},
   "outputs": [
    {
     "data": {
      "text/plain": [
       "도시\n",
       "서울    9904312\n",
       "부산    3448737\n",
       "인천    2890451\n",
       "대구    2466052\n",
       "Name: 인구, dtype: int64"
      ]
     },
     "execution_count": 6,
     "metadata": {},
     "output_type": "execute_result"
    }
   ],
   "source": [
    "# name 속성을 이용하여 시리즈 데이터에 이름을 붙일 수 있다. \n",
    "s.name = \"인구\"\n",
    "s\n",
    "# index.name 속성으로 시리즈의 인덱스에도 이름을 붙일 수 있다.\n",
    "s.index.name = \"도시\"\n",
    "s"
   ]
  },
  {
   "cell_type": "markdown",
   "id": "dc426e31",
   "metadata": {},
   "source": [
    "### 2.2 시리즈 연산\n",
    "시리즈도 벡터화 연산을 할 수 있다. 다만 연산은 시리즈의 값에만 적용되며 인덱스 값은 변하지 않는다."
   ]
  },
  {
   "cell_type": "code",
   "execution_count": 8,
   "id": "2aacbeec",
   "metadata": {},
   "outputs": [
    {
     "data": {
      "text/plain": [
       "도시\n",
       "서울    9904312\n",
       "부산    3448737\n",
       "인천    2890451\n",
       "대구    2466052\n",
       "Name: 인구, dtype: int64"
      ]
     },
     "execution_count": 8,
     "metadata": {},
     "output_type": "execute_result"
    }
   ],
   "source": [
    "s / 1000000"
   ]
  },
  {
   "cell_type": "markdown",
   "id": "86229a01",
   "metadata": {},
   "source": [
    "### 2.3 시리즈 인덱싱\n",
    "시리즈는 넘파이 배열에서 가능한 인덱스 방법 이외에도 인덱스 라벨을 이용한 인덱싱도 할 수 있다."
   ]
  },
  {
   "cell_type": "code",
   "execution_count": 10,
   "id": "cea11f10",
   "metadata": {},
   "outputs": [
    {
     "data": {
      "text/plain": [
       "3448737"
      ]
     },
     "execution_count": 10,
     "metadata": {},
     "output_type": "execute_result"
    }
   ],
   "source": [
    "s[1] # 인덱스 방법\n",
    "s['부산'] # 인덱스 라벨을 이용한 인덱싱"
   ]
  },
  {
   "cell_type": "code",
   "execution_count": 13,
   "id": "f106670b",
   "metadata": {},
   "outputs": [
    {
     "data": {
      "text/plain": [
       "(도시\n",
       " 서울    9904312\n",
       " 대구    2466052\n",
       " 부산    3448737\n",
       " Name: 인구, dtype: int64,\n",
       " 도시\n",
       " 서울    9904312\n",
       " 대구    2466052\n",
       " 부산    3448737\n",
       " Name: 인구, dtype: int64)"
      ]
     },
     "execution_count": 13,
     "metadata": {},
     "output_type": "execute_result"
    }
   ],
   "source": [
    "# 배열 인덱싱을 하면 부분적인 값을 가지는 시리즈 자료형을 반환한다. \n",
    "# 자료의 순서를 바꾸거나 특정한 자료만 선택할 수 있다.\n",
    "# Usage : 시리즈 객체[ [선택할 인덱스 리스트] ]\n",
    "s[[0, 3, 1]], s[['서울', '대구', '부산']]"
   ]
  },
  {
   "cell_type": "code",
   "execution_count": 15,
   "id": "da931871",
   "metadata": {},
   "outputs": [
    {
     "data": {
      "text/plain": [
       "도시\n",
       "부산    3448737\n",
       "인천    2890451\n",
       "Name: 인구, dtype: int64"
      ]
     },
     "execution_count": 15,
     "metadata": {},
     "output_type": "execute_result"
    }
   ],
   "source": [
    "# 인구가 250만 초과, 500만 미만인 경우\n",
    "s[(250e4 < s) & (s < 500e4)]"
   ]
  },
  {
   "cell_type": "code",
   "execution_count": 16,
   "id": "d5c8de0d",
   "metadata": {},
   "outputs": [
    {
     "data": {
      "text/plain": [
       "도시\n",
       "부산    3448737\n",
       "인천    2890451\n",
       "Name: 인구, dtype: int64"
      ]
     },
     "execution_count": 16,
     "metadata": {},
     "output_type": "execute_result"
    }
   ],
   "source": [
    "# 이 때 문자열 라벨을 이용한 슬라이싱을 하는 경우에는 숫자 인덱싱과 달리 \n",
    "# 콜론(:) 기호 뒤에 오는 값도 결과에 포함\n",
    "\n",
    "s[1:3] # s[1] ~ s[2], (3 미포함)\n",
    "\n",
    "s['부산':'대구'] # s['부산'] ~ s['대구'], (대구도 포함)"
   ]
  },
  {
   "cell_type": "code",
   "execution_count": 18,
   "id": "a9a6c226",
   "metadata": {},
   "outputs": [
    {
     "name": "stdout",
     "output_type": "stream",
     "text": [
      "0\n",
      "1\n"
     ]
    }
   ],
   "source": [
    "# 만약 라벨 값이 영문 문자열인 경우에는 인덱스 라벨이 속성인것처럼 \n",
    "# 점(.)을 이용하여 해당 인덱스 값에 접근할 수도 있다.\n",
    "\n",
    "s0 = pd.Series(range(3), index = ['a', 'b', 'c'])\n",
    "s0\n",
    "\n",
    "print(s0.a) # s0['a']\n",
    "print(s0.b) # s0['b']"
   ]
  },
  {
   "cell_type": "markdown",
   "id": "bff69650",
   "metadata": {},
   "source": [
    "### 2.4 시리즈와 딕셔너리 자료형 \n",
    "시리즈 객체는 인덱스 라벨 값을 키(key)로 가지는 딕셔너리 자료형과 같다고 볼 수 있다.\n",
    "- 딕셔너리 자료형에서 제공하는 in 연산도 가능\n",
    "- items 메서드를 사용하면 for 루프를 통해 각 원소의 key와 value에 접근 가능"
   ]
  },
  {
   "cell_type": "code",
   "execution_count": 19,
   "id": "327d2044",
   "metadata": {},
   "outputs": [
    {
     "data": {
      "text/plain": [
       "True"
      ]
     },
     "execution_count": 19,
     "metadata": {},
     "output_type": "execute_result"
    }
   ],
   "source": [
    "# 인덱스 라벨 중에 이 값이 있는지 조회\n",
    "'서울' in s"
   ]
  },
  {
   "cell_type": "code",
   "execution_count": 38,
   "id": "009e5144",
   "metadata": {},
   "outputs": [
    {
     "name": "stdout",
     "output_type": "stream",
     "text": [
      " 서울 = 9,904,312 \n",
      " 부산 = 3,448,737 \n",
      " 인천 = 2,890,451 \n",
      " 대구 = 2,466,052 \n"
     ]
    }
   ],
   "source": [
    "for k, v in s.items():\n",
    "    print(f'{k:>3} = {v:<10,}')"
   ]
  },
  {
   "cell_type": "code",
   "execution_count": 39,
   "id": "833c471c",
   "metadata": {},
   "outputs": [
    {
     "data": {
      "text/plain": [
       "서울    9631482\n",
       "부산    3393191\n",
       "인천    2632035\n",
       "대전    1490158\n",
       "dtype: int64"
      ]
     },
     "execution_count": 39,
     "metadata": {},
     "output_type": "execute_result"
    }
   ],
   "source": [
    "# 딕셔너리 객체를 input으로 넣어서 np.Series 생성\n",
    "s2 = pd.Series({\"서울\": 9631482, \"부산\": 3393191, \"인천\": 2632035, \"대전\": 1490158})\n",
    "s2"
   ]
  },
  {
   "cell_type": "code",
   "execution_count": 40,
   "id": "d0468bdd",
   "metadata": {},
   "outputs": [
    {
     "data": {
      "text/plain": [
       "부산    3393191\n",
       "서울    9631482\n",
       "인천    2632035\n",
       "대전    1490158\n",
       "dtype: int64"
      ]
     },
     "execution_count": 40,
     "metadata": {},
     "output_type": "execute_result"
    }
   ],
   "source": [
    "# 딕셔너리의 원소는 순서를 가지지 않으므로 시리즈의 데이터도 순서가 보장되지 않는다. \n",
    "# 만약 순서를 정하고 싶다면 인덱스를 리스트로 지정해야 한다.\n",
    "s2 = pd.Series({\"서울\": 9631482, \"부산\": 3393191, \"인천\": 2632035, \"대전\": 1490158},\n",
    "              index = ['부산', '서울', '인천', '대전'])\n",
    "s2"
   ]
  },
  {
   "cell_type": "markdown",
   "id": "ca46f549",
   "metadata": {},
   "source": [
    "### 2.5 인덱스 기반 연산\n",
    "2015년도와 2010년의 인구 증가를 계산해 보자.\n",
    "두 개의 시리즈의 차이를 구하면 된다.\n",
    "두 시리즈에 대해 연산을 하는 경우 **인덱스가 같은 데이터에 대해서만** 차이를 구한다."
   ]
  },
  {
   "cell_type": "code",
   "execution_count": 54,
   "id": "82ff9ac0",
   "metadata": {},
   "outputs": [
    {
     "name": "stdout",
     "output_type": "stream",
     "text": [
      "대구         NaN\n",
      "대전         NaN\n",
      "부산     55546.0\n",
      "서울    272830.0\n",
      "인천    258416.0\n",
      "dtype: float64\n"
     ]
    }
   ],
   "source": [
    "# 또한 NaN 값이 float 자료형에서만 가능하므로 \n",
    "# 다른 계산 결과도 모두 float 자료형이 되었다는 점에 주의한다.\n",
    "ds = s - s2\n",
    "print('{}'.format(ds))"
   ]
  },
  {
   "cell_type": "code",
   "execution_count": 55,
   "id": "9f772be9",
   "metadata": {},
   "outputs": [
    {
     "data": {
      "text/plain": [
       "array([ 6511121, -6182745,   258416,   975894], dtype=int64)"
      ]
     },
     "execution_count": 55,
     "metadata": {},
     "output_type": "execute_result"
    }
   ],
   "source": [
    "# 인덱스가 달라 이상한 값 출력됨\n",
    "s.values - s2.values"
   ]
  },
  {
   "cell_type": "code",
   "execution_count": 56,
   "id": "7941beb8",
   "metadata": {},
   "outputs": [
    {
     "data": {
      "text/plain": [
       "대구    False\n",
       "대전    False\n",
       "부산     True\n",
       "서울     True\n",
       "인천     True\n",
       "dtype: bool"
      ]
     },
     "execution_count": 56,
     "metadata": {},
     "output_type": "execute_result"
    }
   ],
   "source": [
    "# NaN인 값은 제외하고 구하는 방법 notnull()메서드\n",
    "ds.notnull()"
   ]
  },
  {
   "cell_type": "code",
   "execution_count": 57,
   "id": "b158ca3d",
   "metadata": {},
   "outputs": [
    {
     "data": {
      "text/plain": [
       "부산     55546.0\n",
       "서울    272830.0\n",
       "인천    258416.0\n",
       "dtype: float64"
      ]
     },
     "execution_count": 57,
     "metadata": {},
     "output_type": "execute_result"
    }
   ],
   "source": [
    "ds[ds.notnull()]"
   ]
  },
  {
   "cell_type": "code",
   "execution_count": 58,
   "id": "5e7af547",
   "metadata": {},
   "outputs": [
    {
     "data": {
      "text/plain": [
       "부산    1.636984\n",
       "서울    2.832690\n",
       "인천    9.818107\n",
       "dtype: float64"
      ]
     },
     "execution_count": 58,
     "metadata": {},
     "output_type": "execute_result"
    }
   ],
   "source": [
    "# 인구 증가율(%) 계산\n",
    "rs = (ds) / s2 * 100\n",
    "rs = rs[rs.notnull()]\n",
    "rs"
   ]
  },
  {
   "cell_type": "markdown",
   "id": "aa315874",
   "metadata": {},
   "source": [
    "### 2.6 데이터의 갱신, 추가, 삭제\n",
    "인덱싱을 이용하면 딕셔너리처럼 데이터를 갱신(update)하거나 추가(add)할 수 있다."
   ]
  },
  {
   "cell_type": "code",
   "execution_count": 61,
   "id": "14ed1f6e",
   "metadata": {},
   "outputs": [
    {
     "data": {
      "text/plain": [
       "부산    1.630000\n",
       "서울    2.832690\n",
       "인천    9.818107\n",
       "dtype: float64"
      ]
     },
     "execution_count": 61,
     "metadata": {},
     "output_type": "execute_result"
    }
   ],
   "source": [
    "rs['부산'] = 1.63 # update\n",
    "\n",
    "rs['eorn'] = 1.41 # add\n",
    "\n",
    "del rs['eorn'] # delete using del command like dictionary\n",
    "rs"
   ]
  },
  {
   "cell_type": "code",
   "execution_count": 69,
   "id": "42f360e4",
   "metadata": {},
   "outputs": [
    {
     "data": {
      "text/plain": [
       "이    0.0\n",
       "dtype: float64"
      ]
     },
     "execution_count": 69,
     "metadata": {},
     "output_type": "execute_result"
    }
   ],
   "source": [
    "# 연습 문제 4.1.1\n",
    "# (1) 임의로 두 개의 시리즈 객체를 만든다. \n",
    "# 모두 문자열 인덱스를 가져야 하며 두 시리즈에 공통적으로 포함되지 않는 라벨이 있어야 한다.\n",
    "\n",
    "s01 = pd.Series(range(3), index = ['영', '일', '이'])\n",
    "s02 = pd.Series(range(2, 4), index = ['이','삼'])\n",
    "s03 = s01 - s02\n",
    "s03[pd.notnull(s03)]\n",
    "\n",
    "# result, 인덱스가 같은 데이터 끼리 사칙 연산이 가능하다. 나머지는 NaN"
   ]
  },
  {
   "cell_type": "markdown",
   "id": "bff29ae8",
   "metadata": {},
   "source": [
    "---\n",
    "## 3. 데이터프레임 클래스"
   ]
  },
  {
   "cell_type": "markdown",
   "id": "005ee5e9",
   "metadata": {},
   "source": [
    "### 3.1 데이터프레임 생성"
   ]
  },
  {
   "cell_type": "markdown",
   "id": "3bbe6497",
   "metadata": {},
   "source": [
    "### 3.2 열 데이터의 갱신, 추가, 삭제 "
   ]
  },
  {
   "cell_type": "markdown",
   "id": "370b01bd",
   "metadata": {},
   "source": [
    "### 3.3 열 인덱싱 "
   ]
  },
  {
   "cell_type": "markdown",
   "id": "0c4f6050",
   "metadata": {},
   "source": [
    "### 3.4 행 인덱싱 "
   ]
  },
  {
   "cell_type": "markdown",
   "id": "8e136aae",
   "metadata": {},
   "source": [
    "### 3.5 개별 데이터 인덱싱 "
   ]
  }
 ],
 "metadata": {
  "kernelspec": {
   "display_name": "Python 3 (ipykernel)",
   "language": "python",
   "name": "python3"
  },
  "language_info": {
   "codemirror_mode": {
    "name": "ipython",
    "version": 3
   },
   "file_extension": ".py",
   "mimetype": "text/x-python",
   "name": "python",
   "nbconvert_exporter": "python",
   "pygments_lexer": "ipython3",
   "version": "3.9.13"
  }
 },
 "nbformat": 4,
 "nbformat_minor": 5
}
