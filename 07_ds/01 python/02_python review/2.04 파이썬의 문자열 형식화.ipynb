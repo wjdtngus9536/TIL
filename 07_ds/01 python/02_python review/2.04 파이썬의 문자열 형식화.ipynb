{
 "cells": [
  {
   "cell_type": "markdown",
   "id": "4db39f67",
   "metadata": {},
   "source": [
    "## 2.4 파이썬의 문자열 형식화\n",
    "---\n",
    "파이썬에서는 복잡한 문자열 출력을 위한 문자열 형식화(string formatting)를 지원한다.\n",
    "문자열을 형식화하는 방법에는 \n",
    "1. `%` 기호를 사용한 방식 \n",
    "2. `format` 메서드를 사용한 방식\n",
    "3.  `f` 문자열을 사용하는 방식이 있다."
   ]
  },
  {
   "cell_type": "markdown",
   "id": "126b2520",
   "metadata": {},
   "source": [
    "### 1. % 기호를 사용한 문자열 형식화\n",
    "문자열 뒤에 % 기호를 붙이고 그 뒤에 다른 값을 붙이면 뒤에 붙은 값이 문자열 안을 들어간다.\n",
    "> \"문자열\" % 값  \n",
    "ex) \"%d %s world %f\" % (3, \"hello\", 2.1)\n",
    "\n",
    "형식지정 문자열(%d, %s 등)을 이용해 문자열의 어느 위치에 값이 들어가는지를 표시 "
   ]
  },
  {
   "cell_type": "code",
   "execution_count": 8,
   "id": "0d2e67cb",
   "metadata": {},
   "outputs": [
    {
     "name": "stdout",
     "output_type": "stream",
     "text": [
      "내 이름은 홍길동입니다.\n",
      "나는 12살 입니다.\n",
      "2 곱하기 3은 6이다.\n"
     ]
    },
    {
     "data": {
      "text/plain": [
       "'3 hello world 2.100000'"
      ]
     },
     "execution_count": 8,
     "metadata": {},
     "output_type": "execute_result"
    }
   ],
   "source": [
    "# e.g)\n",
    "print('내 이름은 %s입니다.' % \"홍길동\")\n",
    "print('나는 %d살 입니다.' % 12)\n",
    "\n",
    "# 만약 여러개의 값을 문자열 안에 넣어야 한다면 % 기호 뒤에 있는 값을 소괄호로 감싸야 한다.\n",
    "print(\"%d 곱하기 %d은 %d이다.\" % (2, 3, 6))\n",
    "\n",
    "\"%d %s world %f\" % (3, \"hello\", 2.1)"
   ]
  },
  {
   "cell_type": "markdown",
   "id": "38684bb3",
   "metadata": {},
   "source": [
    "#### ※ 고급 형식지정 문자열\n",
    "- % 기호 다음에 오는 정수는 값이 인쇄될 때 차지하는 공간의 길이를 뜻한다.\n",
    "> \"%20s\" % '*'  # *앞에 19칸의 공백이 있다.\n",
    "- 만약 공간의 길이가 인쇄될 값보다 크면 정수가 양수일 때는 값을 뒤로 보내고 공백을 앞에 채우거나 반대로 정수가 음수이면 값을 앞으로 보내고 공백을 뒤에 채운다.\n",
    "> \"%-20s\" % '*'  # *뒤에 19칸의 공백이 있다.\n",
    "- 만약 % 기호 다음에 소숫점이 있는 숫자가 오면 점 뒤의 숫자는 실수를 인쇄할 때 소숫점 아래로 그만큼의 숫자만 인쇄하라는 뜻이다\n",
    "> x = 1 / 3.0 # 0.3333...\n",
    "\"%.5f\" % x   # 0.33333까지만 인쇄됨"
   ]
  },
  {
   "cell_type": "code",
   "execution_count": 10,
   "id": "1c17ab0c",
   "metadata": {},
   "outputs": [
    {
     "name": "stdout",
     "output_type": "stream",
     "text": [
      "                   *\n",
      "*                   \n"
     ]
    },
    {
     "data": {
      "text/plain": [
       "'0.33333'"
      ]
     },
     "execution_count": 10,
     "metadata": {},
     "output_type": "execute_result"
    }
   ],
   "source": [
    "print(\"%20s\" % '*')\n",
    "print(\"%-20s\" % '*')\n",
    "x = 1 / 3.0\n",
    "\"%.5f\" % x"
   ]
  },
  {
   "cell_type": "code",
   "execution_count": 5,
   "id": "19c6c128",
   "metadata": {},
   "outputs": [
    {
     "name": "stdout",
     "output_type": "stream",
     "text": [
      "<class 'int'>\n",
      "       3\n",
      "      12\n",
      "x\n",
      "--------\n",
      "      36\n"
     ]
    }
   ],
   "source": [
    "# e.g 2.4.2)\n",
    "# 1)\n",
    "\n",
    "a = 3 \n",
    "b = 12\n",
    "print(\"%8d\"%a)\n",
    "print(\"%8d\" % b)\n",
    "print(\"%-s\" % 'x')\n",
    "print('-' * 8)\n",
    "print(\"%8d\" % (a*b))\n"
   ]
  },
  {
   "cell_type": "markdown",
   "id": "8329019d",
   "metadata": {},
   "source": [
    "### 2. format 메서드를 사용한 문자열 형식화\n",
    " - % 기호로 시작하는 형식지정 문자열 대신 {} 기호를 사용한다.\n",
    " - 또한 자료형을 표시할 필요가 없다. \n",
    " - 문자열 내에서 { 문자를 출력하고 싶을 때는 {{라는 글자를 사용한다."
   ]
  },
  {
   "cell_type": "code",
   "execution_count": 10,
   "id": "e68fe21a",
   "metadata": {},
   "outputs": [
    {
     "data": {
      "text/plain": [
       "'내 이름은 {홍길동}입니다.'"
      ]
     },
     "execution_count": 10,
     "metadata": {},
     "output_type": "execute_result"
    }
   ],
   "source": [
    "\"내 이름은 {{{}}}입니다.\".format(\"홍길동\")"
   ]
  },
  {
   "cell_type": "code",
   "execution_count": 11,
   "id": "606a8f3d",
   "metadata": {},
   "outputs": [
    {
     "name": "stdout",
     "output_type": "stream",
     "text": [
      "철수의 수학 점수는 100점입니다.  100점! 100점!\n"
     ]
    }
   ],
   "source": [
    "# {} 안에 값의 순서를 지정하는 숫자를 넣을 수도 있다.\n",
    "# 이 방법을 사용하면 값의 순서를 바꾸거나 같은 값을 여러번 인쇄할 수도 있다.\n",
    "print(\"{2}의 {0} 점수는 {1}점입니다.  {1}점! {1}점!\".format(\"수학\", 100, \"철수\"))"
   ]
  },
  {
   "cell_type": "code",
   "execution_count": 13,
   "id": "460e0f52",
   "metadata": {},
   "outputs": [
    {
     "name": "stdout",
     "output_type": "stream",
     "text": [
      "영어점수: 100점, 수학점수: 90점\n",
      "영어점수: 100점, 수학점수: 90점\n"
     ]
    }
   ],
   "source": [
    "# 순서를 나타내는 숫자 대신 인수 이름을 지정할 수도 있다.\n",
    "print(\"{a}점수: {x}점, {b}점수: {y}점\".format(a = '영어', b = '수학', x = 100, y = 90))\n",
    "\n",
    "# 만약 {}를 여러개 사용하면서 순서 숫자나 인수 이름을 지정하지 않으면 순서대로 입력된다.\n",
    "print(\"{}점수: {}점, {}점수: {}점\".format(\"영어\", 100, \"수학\", 90))"
   ]
  },
  {
   "cell_type": "markdown",
   "id": "2bdb34f3",
   "metadata": {},
   "source": [
    "#### ※ 고급 형식지정 문자열\n",
    "- format 방식에서 공백의 크기를 지정하거나 부동소수점의 소수점 아래 숫자를 지정할 때는 {}안에 : 기호를 넣고 그 뒤에 고급 형식지정 문자열을 넣는다.  \n",
    "- 소숫점의 자릿수를 지정할 때는 .(점)과 숫자, 그리고 f 글자를 사용한다.\n",
    "> print('원주율 = {:.5f}'.format(3.141592))\n",
    "\n",
    " - {:>10} : 전체 10칸 문자열을 오른쪽에 붙여서 출력\n",
    " - {:<10} : 전체 10칸 문자열을 왼쪽에 붙여서 출력\n",
    " - {:^10} : 전체 10칸 공백을 앞뒤에 붙임\n",
    " - {:.5f} : 부동소수점의 소수점 아래 5자리까지 표시\n",
    " - {:5,} : 전체 5칸, 천단위 쉼표 표시\n",
    " \n"
   ]
  },
  {
   "cell_type": "code",
   "execution_count": 19,
   "id": "0ce0179e",
   "metadata": {},
   "outputs": [
    {
     "name": "stdout",
     "output_type": "stream",
     "text": [
      "[         *          ]\n"
     ]
    }
   ],
   "source": [
    "print(\"[{:^20}]\".format(\"*\"))"
   ]
  },
  {
   "cell_type": "code",
   "execution_count": 20,
   "id": "a987abe8",
   "metadata": {},
   "outputs": [
    {
     "name": "stdout",
     "output_type": "stream",
     "text": [
      "[             0.33333]\n"
     ]
    }
   ],
   "source": [
    "print('[{:20.5f}]'.format(1 / 3))"
   ]
  },
  {
   "cell_type": "code",
   "execution_count": 36,
   "id": "83b20fdb",
   "metadata": {},
   "outputs": [
    {
     "data": {
      "text/plain": [
       "'사전의 a키 값 = 10'"
      ]
     },
     "execution_count": 36,
     "metadata": {},
     "output_type": "execute_result"
    }
   ],
   "source": [
    "# format 방법의 또다른 특징은 {}안에서 리스트나 사전의 인덱싱을 할수 있다는 것이다.\n",
    "x = [10, 11, 12]\n",
    "y = [1, 2, 3]\n",
    "\"리스트의 첫번째 원소 = {[1]:3}\".format(x, y)\n",
    "\n",
    "y = {\"a\": 10, \"b\": 11, \"c\": 12}\n",
    "\"사전의 a키 값 = {0[a]}\".format(y)"
   ]
  },
  {
   "cell_type": "code",
   "execution_count": 17,
   "id": "33fd52f1",
   "metadata": {},
   "outputs": [
    {
     "name": "stdout",
     "output_type": "stream",
     "text": [
      "   123,456\n",
      "     7,890\n",
      "+         \n",
      "----------\n",
      "   131,346\n"
     ]
    }
   ],
   "source": [
    "# e.g) 2.4.3\n",
    "\n",
    "a = 123456\n",
    "b = 7890\n",
    "print(\"{:10,}\".format(a))\n",
    "print(\"{:10,}\".format(b))\n",
    "print(\"%-10s\" % '+')\n",
    "print('-' * 10)\n",
    "print(\"{:10,}\".format(a + b))"
   ]
  },
  {
   "cell_type": "markdown",
   "id": "332fba73",
   "metadata": {},
   "source": [
    "### 3. f 문자열\n",
    "파이썬 3.6부터는 f 문자열(f-string)이라는 것을 사용할 수 있다.  \n",
    "f 문자열은 문자열의 앞에 f 글자를 붙인 문자열이다.  \n",
    "f 문자열에서는 {} 안에 변수의 이름을 바로 사용할 수 있다."
   ]
  },
  {
   "cell_type": "code",
   "execution_count": 22,
   "id": "20e592e7",
   "metadata": {},
   "outputs": [
    {
     "name": "stdout",
     "output_type": "stream",
     "text": [
      "[1234567             ]\n",
      "[             1234567]\n",
      "[      1234567       ]\n",
      "[1234567-------------]\n",
      "[-------------1234567]\n",
      "[------1234567-------]\n",
      "[-----1,234,567------]\n",
      "\n",
      "\n"
     ]
    },
    {
     "ename": "ValueError",
     "evalue": "Unknown format code ',' for object of type 'float'",
     "output_type": "error",
     "traceback": [
      "\u001b[1;31m---------------------------------------------------------------------------\u001b[0m",
      "\u001b[1;31mValueError\u001b[0m                                Traceback (most recent call last)",
      "\u001b[1;32m~\\AppData\\Local\\Temp\\ipykernel_10868\\1612391045.py\u001b[0m in \u001b[0;36m<module>\u001b[1;34m\u001b[0m\n\u001b[0;32m     17\u001b[0m \u001b[1;33m\u001b[0m\u001b[0m\n\u001b[0;32m     18\u001b[0m \u001b[0mf_number\u001b[0m \u001b[1;33m=\u001b[0m \u001b[1;36m1234567.141592\u001b[0m\u001b[1;33m\u001b[0m\u001b[1;33m\u001b[0m\u001b[0m\n\u001b[1;32m---> 19\u001b[1;33m \u001b[0mprint\u001b[0m\u001b[1;33m(\u001b[0m\u001b[1;34mf'{1234567.141592:<20.9,}'\u001b[0m\u001b[1;33m)\u001b[0m \u001b[1;31m# 소수점 아래 자리 설정 & 천단위 쉼표 표시 중복 불가능\u001b[0m\u001b[1;33m\u001b[0m\u001b[1;33m\u001b[0m\u001b[0m\n\u001b[0m",
      "\u001b[1;31mValueError\u001b[0m: Unknown format code ',' for object of type 'float'"
     ]
    }
   ],
   "source": [
    "number = 1234567\n",
    "\n",
    "print(f'[{number:<20}]')\n",
    "\n",
    "print(f'[{number:>20}]')\n",
    "\n",
    "print(f'[{number:^20}]')\n",
    "\n",
    "print(f'[{number:-<20}]') # 공백을 _(: 와 < 사이의 한 문자) 로 채운다.\n",
    "\n",
    "print(f\"[{number:->20}]\")\n",
    "\n",
    "print(f\"[{number:-^20}]\")\n",
    "\n",
    "print(f\"[{number:-^20,}]\\n\\n\")\n",
    "\n",
    "\n",
    "f_number = 1234567.141592\n",
    "print(f'{1234567.141592:,<20.9}') # 소수점 아래 자리 설정 & 천단위 쉼표 표시 중복 불가능"
   ]
  },
  {
   "cell_type": "code",
   "execution_count": null,
   "id": "09de67ea",
   "metadata": {},
   "outputs": [],
   "source": []
  }
 ],
 "metadata": {
  "kernelspec": {
   "display_name": "Python 3 (ipykernel)",
   "language": "python",
   "name": "python3"
  },
  "language_info": {
   "codemirror_mode": {
    "name": "ipython",
    "version": 3
   },
   "file_extension": ".py",
   "mimetype": "text/x-python",
   "name": "python",
   "nbconvert_exporter": "python",
   "pygments_lexer": "ipython3",
   "version": "3.9.13"
  }
 },
 "nbformat": 4,
 "nbformat_minor": 5
}
