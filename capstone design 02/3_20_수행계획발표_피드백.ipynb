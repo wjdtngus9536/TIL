{
 "cells": [
  {
   "cell_type": "markdown",
   "id": "e72b4285",
   "metadata": {},
   "source": [
    "# 계획발표\n",
    "---"
   ]
  },
  {
   "cell_type": "markdown",
   "id": "523ccc8d",
   "metadata": {},
   "source": [
    "## 피드백 \n",
    "\n",
    "기존의 툴이 있으면 개선사항을 정의하기 좋다.\n",
    "\n",
    "데이터 전처리나 라벨링을 다루는지 완벽한 데이터만 다루는지 \n",
    "\n",
    "조금씩이라도 구현해 둔다던지\n",
    "범위를 잘 정의해서 마지막에는 동작과 사용성이 있어야 한다."
   ]
  },
  {
   "cell_type": "markdown",
   "id": "b162ac40",
   "metadata": {},
   "source": [
    "## 비용\n",
    "- SW 등록 : 학교 이름으로 제출하면 비용이 들지 않는다.\n",
    "    - 산학 협력단을 통해서 제출하게 되면 학교 이름으로 나가기 때문에 OK.\n",
    "- 제출 양식은 정설영 교수님이 안내해 주실 것\n",
    "- 논문은 지원을 받으면 됨.\n",
    "- 클라우드 비용 같은 경우에는 Colab 가능하다고 말씀 들었고\n",
    "- AWS도 사용해도 크게 상관 없을듯 하다.\n",
    "\n",
    "- 학기 중에 여비 받아서 올라가서 구경해보는 기회도 가지면 좋을 듯하다."
   ]
  },
  {
   "cell_type": "markdown",
   "id": "438b399a",
   "metadata": {},
   "source": [
    "\n"
   ]
  }
 ],
 "metadata": {
  "kernelspec": {
   "display_name": "Python 3 (ipykernel)",
   "language": "python",
   "name": "python3"
  },
  "language_info": {
   "codemirror_mode": {
    "name": "ipython",
    "version": 3
   },
   "file_extension": ".py",
   "mimetype": "text/x-python",
   "name": "python",
   "nbconvert_exporter": "python",
   "pygments_lexer": "ipython3",
   "version": "3.9.13"
  },
  "toc": {
   "base_numbering": 1,
   "nav_menu": {},
   "number_sections": true,
   "sideBar": true,
   "skip_h1_title": false,
   "title_cell": "Table of Contents",
   "title_sidebar": "Contents",
   "toc_cell": false,
   "toc_position": {},
   "toc_section_display": true,
   "toc_window_display": false
  }
 },
 "nbformat": 4,
 "nbformat_minor": 5
}
