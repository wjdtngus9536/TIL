{
 "cells": [
  {
   "cell_type": "markdown",
   "id": "a1310d6f",
   "metadata": {},
   "source": [
    "# 23년 1학기 프로젝트 교과목 지원 운영 계획\n",
    "\n",
    "운영 내용\n",
    "1. 지원 일정\n",
    "- 재료비 신청 기간 : 3/20 ~ 4/26\n",
    "- 여비 신청 기간 : ~  6/16\n",
    "    - 기한 이후 예산 지출 불가\n",
    "- 회의실 사용 신청 기간 : 상시\n",
    "\n",
    "2. 지원 내용\n",
    "- 프로젝트 운영을 위한 재료비 팀당 30만원 이내\n",
    "- 논문발표를 위한 여비 (팀당 20만원 이내)\n",
    "- 논문 발표를 위한 포스터 제작 시 인쇄비 (* 별도 사전 협의 후 승인 필요)\n",
    "- 프로젝트 수행 및 미팅 회의실(IT4호관 D.I.Y실습실, 융복합관 4층 회의실) - 멘토님 오셨을 때 예약 후 사용 가능\n",
    "- 산학프로젝트 연계 현장실습(방학 중), 파견 시 현장실습 수당 지원  \n",
    "\n",
    "**※ 산프 팀별 실적: 학회발표, 특허출원, SW등록, 앱등록 중 1개 이상 반드시 수행**\n",
    "앱등록 : 회사 이름으로 업로드해서 사람들이 다운 받는다, 이건 실적 인정\n",
    "    - 요약서, 캡처 이미지 등 제출 필요.\n",
    "기술백서 등 증빙이 가능하다면 가능\n",
    "\n",
    "\n",
    "3. 지원 신청 방법\n",
    "- 재료비: 프로젝트 수행을 위해 필요한 소모품 구입 ※재료구매서식 참조\n",
    "    - 재료비 지원 신청서 (교수님 날인 필요)\n",
    "    - 신청서는 서면과 이메일 동시 제출 필요(url) - 성민기 선생님\n",
    "    - 제출 방법\n",
    "        1. 책임교수님(정설영 교수님)께 재료비 요구신청서 확인 요청\n",
    "        2. 책임교수님 날인 혹은 서명자료를 담당자에게 전달(IT융복합관 402호, 성민기)\n",
    "        - 수령 시기 : 신청 후 2~4주 후 (개별구매 안됨 / 단체구매이므로 시간 소요)\n",
    "        - 배송료 지원 불가\n",
    "        - 아래 제한 사항 지원 불가\n",
    "            - 단순 컴퓨터 성능 향상을 위한 부품류, 소프트웨어 구입\n",
    "            - 공유기 등의 경우 소프트웨어 교육원에 신청 가능\n",
    "        - 재료 수령 후 물품 검수 사진 반드시 제출\n",
    "        - 멘토님 통해서 교수님과 사전 협의가 되면 colab, aws 비용 지원 가능\n",
    "        - iOS 기반 애플리케이션 개발용 맥북 필요 시 담당교수와 대여 논의할 것\n",
    "            - ※ 담당교수: 정설영 교수 (snowflower@knu.ac.kr)\n",
    "            \n",
    "            \n",
    "<br>\n",
    "            \n",
    "- 학회등록비 및 국내여비 (총 20만원 이내)\n",
    "    - 지원 항목\n",
    "        - 학회 등록비\n",
    "        - 발표 당일 여비(유일하게 본인 카드 사용 가능)\n",
    "        - 서울에 멘토님이 계신 경우 성민기 선생님께 문의 드리면 지원 받을 수 있음\n",
    "    - 여비\n",
    "        - 항공편 : 원본 티켓 필요?..\n",
    "        - 기차편 : \n",
    "        - 현장 사진 지참 필요함"
   ]
  }
 ],
 "metadata": {
  "kernelspec": {
   "display_name": "Python 3 (ipykernel)",
   "language": "python",
   "name": "python3"
  },
  "language_info": {
   "codemirror_mode": {
    "name": "ipython",
    "version": 3
   },
   "file_extension": ".py",
   "mimetype": "text/x-python",
   "name": "python",
   "nbconvert_exporter": "python",
   "pygments_lexer": "ipython3",
   "version": "3.9.13"
  },
  "toc": {
   "base_numbering": 1,
   "nav_menu": {},
   "number_sections": true,
   "sideBar": true,
   "skip_h1_title": false,
   "title_cell": "Table of Contents",
   "title_sidebar": "Contents",
   "toc_cell": false,
   "toc_position": {},
   "toc_section_display": true,
   "toc_window_display": false
  }
 },
 "nbformat": 4,
 "nbformat_minor": 5
}
