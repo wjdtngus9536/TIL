{
 "cells": [
  {
   "cell_type": "markdown",
   "id": "f9449707",
   "metadata": {},
   "source": [
    "## if\n",
    "조건에 따라 실행 여부 결정\n",
    "```python\n",
    "if 조건:\n",
    "    true면 실행\n",
    "```"
   ]
  },
  {
   "cell_type": "markdown",
   "id": "022ae508",
   "metadata": {},
   "source": [
    "## else & elif\n"
   ]
  },
  {
   "cell_type": "markdown",
   "id": "34c154fa",
   "metadata": {},
   "source": [
    "## recap \n",
    "if 조건이 true면\n",
    "아래의 elif와 else 전부를 skip 한다."
   ]
  },
  {
   "cell_type": "markdown",
   "id": "738945d4",
   "metadata": {},
   "source": [
    "## And & OR\n"
   ]
  },
  {
   "cell_type": "code",
   "execution_count": 12,
   "id": "1edb491f",
   "metadata": {},
   "outputs": [
    {
     "name": "stdout",
     "output_type": "stream",
     "text": [
      "How old are you?18\n",
      "You drink beer!\n"
     ]
    }
   ],
   "source": [
    "age = int(input(\"How old are you?\"))\n",
    "if age < 18:\n",
    "    print(\"You can't drink\")\n",
    "elif age >= 18 and age <= 35:\n",
    "    print(\"You drink beer!\")\n",
    "else:\n",
    "    print(\"Go ahead!\")"
   ]
  },
  {
   "cell_type": "markdown",
   "id": "feaf29ee",
   "metadata": {},
   "source": [
    "## The Python Standard Library"
   ]
  },
  {
   "cell_type": "code",
   "execution_count": 27,
   "id": "d26def99",
   "metadata": {},
   "outputs": [
    {
     "name": "stdout",
     "output_type": "stream",
     "text": [
      "28\n",
      "Choose number.44\n",
      "Lower!\n",
      "Choose number.30\n",
      "Lower!\n",
      "Choose number.28\n",
      "You won!\n"
     ]
    }
   ],
   "source": [
    "import random\n",
    "# from random import randint\n",
    "pc_choice = random.randint(1, 50)\n",
    "print(pc_choice)\n",
    "    \n",
    "while 1:\n",
    "    user_choice = int(input(\"Choose number.\"))\n",
    "    if user_choice == pc_choice:\n",
    "        print(\"You won!\")\n",
    "        break\n",
    "    elif user_choice > pc_choice:\n",
    "        print(\"Lower!\")\n",
    "    elif user_choice < pc_choice:\n",
    "        print(\"Higher!\")\n",
    "    \n"
   ]
  },
  {
   "cell_type": "markdown",
   "id": "4791dffb",
   "metadata": {},
   "source": [
    "## While\n"
   ]
  },
  {
   "cell_type": "code",
   "execution_count": 30,
   "id": "d77e078a",
   "metadata": {},
   "outputs": [
    {
     "name": "stdout",
     "output_type": "stream",
     "text": [
      "I'm reunning: 0 km\n",
      "I'm reunning: 1 km\n",
      "I'm reunning: 2 km\n",
      "I'm reunning: 3 km\n",
      "I'm reunning: 4 km\n",
      "I'm reunning: 5 km\n",
      "I'm reunning: 6 km\n",
      "I'm reunning: 7 km\n",
      "I'm reunning: 8 km\n",
      "I'm reunning: 9 km\n",
      "I'm reunning: 10 km\n",
      "I'm reunning: 11 km\n",
      "I'm reunning: 12 km\n",
      "I'm reunning: 13 km\n",
      "I'm reunning: 14 km\n",
      "I'm reunning: 15 km\n",
      "I'm reunning: 16 km\n",
      "I'm reunning: 17 km\n",
      "I'm reunning: 18 km\n",
      "I'm reunning: 19 km\n"
     ]
    }
   ],
   "source": [
    "distance = 0\n",
    "while distance < 20:\n",
    "    print(\"I'm reunning:\", distance, \"km\")\n",
    "    distance += 1"
   ]
  },
  {
   "cell_type": "markdown",
   "id": "7f31019e",
   "metadata": {},
   "source": [
    "## Python Casino\n"
   ]
  },
  {
   "cell_type": "code",
   "execution_count": 34,
   "id": "28e47993",
   "metadata": {},
   "outputs": [
    {
     "name": "stdout",
     "output_type": "stream",
     "text": [
      "Welcome to Python Casino\n",
      "Choose number (1 - 100):45\n",
      "Lower!\n",
      "Choose number (1 - 100):35\n",
      "Lower!\n",
      "Choose number (1 - 100):25\n",
      "Lower!\n",
      "Choose number (1 - 100):15\n",
      "Lower!\n",
      "Choose number (1 - 100):10\n",
      "Lower!\n",
      "Choose number (1 - 100):5\n",
      "Higher!\n",
      "Choose number (1 - 100):7\n",
      "Higher!\n",
      "Choose number (1 - 100):8\n",
      "Higher!\n",
      "Choose number (1 - 100):9\n",
      "You won!\n"
     ]
    }
   ],
   "source": [
    "import random\n",
    "# from random import randint\n",
    "\n",
    "print(\"Welcome to Python Casino\")\n",
    "pc_choice = random.randint(1, 100)\n",
    "\n",
    "playing = True\n",
    "    \n",
    "while playing:\n",
    "    user_choice = int(input(\"Choose number (1 - 100):\"))\n",
    "    if user_choice == pc_choice:\n",
    "        print(\"You won!\")\n",
    "        playing = False\n",
    "    elif user_choice > pc_choice:\n",
    "        print(\"Lower!\")\n",
    "    elif user_choice < pc_choice:\n",
    "        print(\"Higher!\")"
   ]
  },
  {
   "cell_type": "markdown",
   "id": "7822c67a",
   "metadata": {},
   "source": [
    "## Recap \n",
    "\n",
    "```python\n",
    "from random import randint\n",
    "import randint\n",
    "```"
   ]
  },
  {
   "cell_type": "code",
   "execution_count": null,
   "id": "0894e93a",
   "metadata": {},
   "outputs": [],
   "source": []
  }
 ],
 "metadata": {
  "kernelspec": {
   "display_name": "Python 3 (ipykernel)",
   "language": "python",
   "name": "python3"
  },
  "language_info": {
   "codemirror_mode": {
    "name": "ipython",
    "version": 3
   },
   "file_extension": ".py",
   "mimetype": "text/x-python",
   "name": "python",
   "nbconvert_exporter": "python",
   "pygments_lexer": "ipython3",
   "version": "3.9.13"
  },
  "toc": {
   "base_numbering": 1,
   "nav_menu": {},
   "number_sections": true,
   "sideBar": true,
   "skip_h1_title": false,
   "title_cell": "Table of Contents",
   "title_sidebar": "Contents",
   "toc_cell": false,
   "toc_position": {},
   "toc_section_display": true,
   "toc_window_display": false
  }
 },
 "nbformat": 4,
 "nbformat_minor": 5
}
