{
 "cells": [
  {
   "cell_type": "markdown",
   "id": "f9449707",
   "metadata": {},
   "source": [
    "## 1. if\n",
    "조건에 따라 실행 여부 결정\n",
    "```python\n",
    "if 조건:\n",
    "    true면 실행\n",
    "```"
   ]
  },
  {
   "cell_type": "markdown",
   "id": "022ae508",
   "metadata": {},
   "source": [
    "## 2. else & elif\n"
   ]
  },
  {
   "cell_type": "markdown",
   "id": "34c154fa",
   "metadata": {},
   "source": [
    "## 3. recap \n",
    "if 조건이 true면\n",
    "아래의 elif와 else 전부를 skip 한다."
   ]
  },
  {
   "cell_type": "code",
   "execution_count": null,
   "id": "1b2bf7e4",
   "metadata": {},
   "outputs": [],
   "source": []
  }
 ],
 "metadata": {
  "kernelspec": {
   "display_name": "Python 3 (ipykernel)",
   "language": "python",
   "name": "python3"
  },
  "language_info": {
   "codemirror_mode": {
    "name": "ipython",
    "version": 3
   },
   "file_extension": ".py",
   "mimetype": "text/x-python",
   "name": "python",
   "nbconvert_exporter": "python",
   "pygments_lexer": "ipython3",
   "version": "3.9.13"
  }
 },
 "nbformat": 4,
 "nbformat_minor": 5
}
