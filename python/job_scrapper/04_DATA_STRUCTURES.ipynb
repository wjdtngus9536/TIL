{
 "cells": [
  {
   "cell_type": "markdown",
   "id": "9ca8369b",
   "metadata": {},
   "source": [
    "# Data structure\n",
    "---\n",
    "자료구조 - 데이터를 구조화하고 싶을 때 사용하는 것"
   ]
  },
  {
   "cell_type": "markdown",
   "id": "7cda5bc3",
   "metadata": {},
   "source": [
    "## Method\n"
   ]
  },
  {
   "cell_type": "code",
   "execution_count": 15,
   "id": "f4cfaf97",
   "metadata": {},
   "outputs": [
    {
     "name": "stdout",
     "output_type": "stream",
     "text": [
      "NICO\n"
     ]
    },
    {
     "data": {
      "text/plain": [
       "1"
      ]
     },
     "execution_count": 15,
     "metadata": {},
     "output_type": "execute_result"
    }
   ],
   "source": [
    "mon = \"Mon\"\n",
    "tue = \"Tue\"\n",
    "# ...\n",
    "\n",
    "# List\n",
    "days_of_week = [\"Mon\", \"Tue\", \"Wed\", \"Thu\", \"Fri\"]\n",
    "name = \"nico\"\n",
    "print(name.upper()) # 문자열 클래스와 결합된 함수 - Method\n",
    "\n",
    "days_of_week.count(\"Wed\")"
   ]
  },
  {
   "cell_type": "markdown",
   "id": "0b8e58b0",
   "metadata": {},
   "source": [
    "## List "
   ]
  },
  {
   "cell_type": "code",
   "execution_count": 20,
   "id": "13406afd",
   "metadata": {},
   "outputs": [
    {
     "name": "stdout",
     "output_type": "stream",
     "text": [
      "['Mon', 'Tue', 'Wed', 'Thu', 'Sat', 'Sat', 'Sat', 'Sat', 'Sat']\n"
     ]
    },
    {
     "data": {
      "text/plain": [
       "'Wed'"
      ]
     },
     "execution_count": 20,
     "metadata": {},
     "output_type": "execute_result"
    }
   ],
   "source": [
    "days_of_week.append(\"Sat\")\n",
    "\n",
    "print(days_of_week) # List Method\n",
    "\n",
    "# days_of_week.remove(\"Fri\")\n",
    "days_of_week[2]"
   ]
  },
  {
   "cell_type": "markdown",
   "id": "6ec33c68",
   "metadata": {},
   "source": [
    "## Tuples\n",
    "immutable(불변성) 자료형\n",
    "- append, reverse, clear, remove 등 불가능\n",
    "- 내용을 바꿀 수 없음\n",
    "- 생성 후 바꾸지 않을 데이터를 구조화 하기 위한 자료형"
   ]
  },
  {
   "cell_type": "code",
   "execution_count": 29,
   "id": "04272085",
   "metadata": {},
   "outputs": [
    {
     "data": {
      "text/plain": [
       "'Wed'"
      ]
     },
     "execution_count": 29,
     "metadata": {},
     "output_type": "execute_result"
    }
   ],
   "source": [
    "days = (\"Mon\", \"Tue\", \"Wed\")\n",
    "days[-1]"
   ]
  },
  {
   "cell_type": "markdown",
   "id": "f7fe5a9e",
   "metadata": {},
   "source": [
    "## Dicts\n",
    " mutable(가변성) 자료형"
   ]
  },
  {
   "cell_type": "code",
   "execution_count": 39,
   "id": "e7a088f0",
   "metadata": {},
   "outputs": [
    {
     "name": "stdout",
     "output_type": "stream",
     "text": [
      "12\n",
      "['🍕', '🍔']\n"
     ]
    },
    {
     "data": {
      "text/plain": [
       "['🍕', '🍔', '🍜']"
      ]
     },
     "execution_count": 39,
     "metadata": {},
     "output_type": "execute_result"
    }
   ],
   "source": [
    "player = {\n",
    "    'name' : 'nico',\n",
    "    'age' : 12,\n",
    "    'alive' : True,\n",
    "    'fav_food' : [\"🍕\", \"🍔\"]\n",
    "}\n",
    "print(player['age'])\n",
    "print(player.get('fav_food'))\n",
    "\n",
    "## 수정\n",
    "# player.clear()\n",
    "# player.pop('age')\n",
    "player['fav_food'].append(\"🍜\")\n",
    "player.get('fav_food')\n"
   ]
  },
  {
   "cell_type": "markdown",
   "id": "0268c535",
   "metadata": {},
   "source": [
    "## Recap \n",
    "\n",
    "Method : 데이터에 결합된 함수"
   ]
  },
  {
   "cell_type": "code",
   "execution_count": 60,
   "id": "2cb072e9",
   "metadata": {},
   "outputs": [
    {
     "name": "stdout",
     "output_type": "stream",
     "text": [
      "[5, 3, 1, 5, 7, 3, True, 'True', 12, ['🍕', '🍔']]\n",
      "['🍎']\n"
     ]
    }
   ],
   "source": [
    "# string\n",
    "\"nico\".endswith('o')\n",
    "\n",
    "# list\n",
    "numbers = [5, 3, 1, 5, 7, 3, \n",
    "           True, \"True\", 12]\n",
    "numbers.append(['🍕', '🍔'])\n",
    "print(numbers)\n",
    "numbers[-1]\n",
    "\n",
    "# tuple\n",
    "numbers = (1, 2, 3, 4, 5, True, \"xxxxx\")\n",
    "numbers.index('xxxxx', 0, 7)\n",
    "\n",
    "# dicts\n",
    "player = {\n",
    "    \"name\" : \"nico\",\n",
    "    \"age\" : 12,\n",
    "    \"alive\" : True,\n",
    "    \"fav_food\" : ('피자', '햄버거'),\n",
    "    \"friend\" :  {\n",
    "        'name' : 'lynn',\n",
    "        'fav_food' : [\"🍎\"]\n",
    "    }\n",
    "}\n",
    "\n",
    "print(player['friend'][\"fav_food\"]) # 딕셔너리 속 딕셔너리"
   ]
  },
  {
   "cell_type": "code",
   "execution_count": null,
   "id": "24c98c12",
   "metadata": {},
   "outputs": [],
   "source": []
  }
 ],
 "metadata": {
  "kernelspec": {
   "display_name": "Python 3 (ipykernel)",
   "language": "python",
   "name": "python3"
  },
  "language_info": {
   "codemirror_mode": {
    "name": "ipython",
    "version": 3
   },
   "file_extension": ".py",
   "mimetype": "text/x-python",
   "name": "python",
   "nbconvert_exporter": "python",
   "pygments_lexer": "ipython3",
   "version": "3.9.13"
  },
  "toc": {
   "base_numbering": 1,
   "nav_menu": {},
   "number_sections": true,
   "sideBar": true,
   "skip_h1_title": false,
   "title_cell": "Table of Contents",
   "title_sidebar": "Contents",
   "toc_cell": false,
   "toc_position": {},
   "toc_section_display": true,
   "toc_window_display": false
  }
 },
 "nbformat": 4,
 "nbformat_minor": 5
}
