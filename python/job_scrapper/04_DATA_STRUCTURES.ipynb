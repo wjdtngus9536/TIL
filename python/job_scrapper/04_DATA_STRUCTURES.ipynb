{
 "cells": [
  {
   "cell_type": "markdown",
   "id": "9ca8369b",
   "metadata": {},
   "source": [
    "# Data structure\n",
    "---\n",
    "자료구조 - 데이터를 구조화하고 싶을 때 사용하는 것"
   ]
  },
  {
   "cell_type": "markdown",
   "id": "7cda5bc3",
   "metadata": {},
   "source": [
    "## Method\n"
   ]
  },
  {
   "cell_type": "code",
   "execution_count": 15,
   "id": "f4cfaf97",
   "metadata": {},
   "outputs": [
    {
     "name": "stdout",
     "output_type": "stream",
     "text": [
      "NICO\n"
     ]
    },
    {
     "data": {
      "text/plain": [
       "1"
      ]
     },
     "execution_count": 15,
     "metadata": {},
     "output_type": "execute_result"
    }
   ],
   "source": [
    "mon = \"Mon\"\n",
    "tue = \"Tue\"\n",
    "# ...\n",
    "\n",
    "# List\n",
    "days_of_week = [\"Mon\", \"Tue\", \"Wed\", \"Thu\", \"Fri\"]\n",
    "name = \"nico\"\n",
    "print(name.upper()) # 문자열 클래스와 결합된 함수 - Method\n",
    "\n",
    "days_of_week.count(\"Wed\")"
   ]
  },
  {
   "cell_type": "markdown",
   "id": "0b8e58b0",
   "metadata": {},
   "source": [
    "## List "
   ]
  },
  {
   "cell_type": "code",
   "execution_count": 20,
   "id": "13406afd",
   "metadata": {},
   "outputs": [
    {
     "name": "stdout",
     "output_type": "stream",
     "text": [
      "['Mon', 'Tue', 'Wed', 'Thu', 'Sat', 'Sat', 'Sat', 'Sat', 'Sat']\n"
     ]
    },
    {
     "data": {
      "text/plain": [
       "'Wed'"
      ]
     },
     "execution_count": 20,
     "metadata": {},
     "output_type": "execute_result"
    }
   ],
   "source": [
    "days_of_week.append(\"Sat\")\n",
    "\n",
    "print(days_of_week) # List Method\n",
    "\n",
    "# days_of_week.remove(\"Fri\")\n",
    "days_of_week[2]"
   ]
  },
  {
   "cell_type": "markdown",
   "id": "6ec33c68",
   "metadata": {},
   "source": [
    "## Tuples\n",
    "immutable(불변성) 자료형\n",
    "- append, reverse, clear, remove 등 불가능\n",
    "- 내용을 바꿀 수 없음\n",
    "- 생성 후 바꾸지 않을 데이터를 구조화 하기 위한 자료형"
   ]
  },
  {
   "cell_type": "code",
   "execution_count": 29,
   "id": "04272085",
   "metadata": {},
   "outputs": [
    {
     "data": {
      "text/plain": [
       "'Wed'"
      ]
     },
     "execution_count": 29,
     "metadata": {},
     "output_type": "execute_result"
    }
   ],
   "source": [
    "days = (\"Mon\", \"Tue\", \"Wed\")\n",
    "days[-1]"
   ]
  },
  {
   "cell_type": "markdown",
   "id": "f7fe5a9e",
   "metadata": {},
   "source": [
    "## Dicts\n",
    " mutable(가변성) 자료형"
   ]
  },
  {
   "cell_type": "code",
   "execution_count": 39,
   "id": "e7a088f0",
   "metadata": {},
   "outputs": [
    {
     "name": "stdout",
     "output_type": "stream",
     "text": [
      "12\n",
      "['🍕', '🍔']\n"
     ]
    },
    {
     "data": {
      "text/plain": [
       "['🍕', '🍔', '🍜']"
      ]
     },
     "execution_count": 39,
     "metadata": {},
     "output_type": "execute_result"
    }
   ],
   "source": [
    "player = {\n",
    "    'name' : 'nico',\n",
    "    'age' : 12,\n",
    "    'alive' : True,\n",
    "    'fav_food' : [\"🍕\", \"🍔\"]\n",
    "}\n",
    "print(player['age'])\n",
    "print(player.get('fav_food'))\n",
    "\n",
    "## 수정\n",
    "# player.clear()\n",
    "# player.pop('age')\n",
    "player['fav_food'].append(\"🍜\")\n",
    "player.get('fav_food')\n"
   ]
  },
  {
   "cell_type": "markdown",
   "id": "0268c535",
   "metadata": {},
   "source": [
    "## Recap \n",
    "\n",
    "Method : 데이터에 결합된 함수"
   ]
  },
  {
   "cell_type": "code",
   "execution_count": 60,
   "id": "2cb072e9",
   "metadata": {},
   "outputs": [
    {
     "name": "stdout",
     "output_type": "stream",
     "text": [
      "[5, 3, 1, 5, 7, 3, True, 'True', 12, ['🍕', '🍔']]\n",
      "['🍎']\n"
     ]
    }
   ],
   "source": [
    "# string\n",
    "\"nico\".endswith('o')\n",
    "\n",
    "# list\n",
    "numbers = [5, 3, 1, 5, 7, 3, \n",
    "           True, \"True\", 12]\n",
    "numbers.append(['🍕', '🍔'])\n",
    "print(numbers)\n",
    "numbers[-1]\n",
    "\n",
    "# tuple\n",
    "numbers = (1, 2, 3, 4, 5, True, \"xxxxx\")\n",
    "numbers.index('xxxxx', 0, 7)\n",
    "\n",
    "# dicts\n",
    "player = {\n",
    "    \"name\" : \"nico\",\n",
    "    \"age\" : 12,\n",
    "    \"alive\" : True,\n",
    "    \"fav_food\" : ('피자', '햄버거'),\n",
    "    \"friend\" :  {\n",
    "        'name' : 'lynn',\n",
    "        'fav_food' : [\"🍎\"]\n",
    "    }\n",
    "}\n",
    "\n",
    "print(player['friend'][\"fav_food\"]) # 딕셔너리 속 딕셔너리"
   ]
  },
  {
   "cell_type": "markdown",
   "id": "b7fbe96d",
   "metadata": {},
   "source": [
    "## For Loops"
   ]
  },
  {
   "cell_type": "code",
   "execution_count": 8,
   "id": "4965f24d",
   "metadata": {},
   "outputs": [
    {
     "name": "stdout",
     "output_type": "stream",
     "text": [
      "each is equals to google.com\n",
      "each is equals to airbnb.com\n",
      "each is equals to twitter.com\n",
      "each is equals to facebook.com\n",
      "each is equals to https://tiktok.com\n"
     ]
    }
   ],
   "source": [
    "websites = ( # Convention : tuple이나 list를 만들 때 복수형 명사를 사용한다.\n",
    "    \"google.com\",\n",
    "    \"airbnb.com\",\n",
    "    \"twitter.com\",\n",
    "    \"facebook.com\",\n",
    "    \"https://tiktok.com\"\n",
    ")\n",
    "\n",
    "for website in websites: # each(itertation variable)는 place holder\n",
    "    print(\"each is equals to\", website)\n"
   ]
  },
  {
   "cell_type": "markdown",
   "id": "5ebe04f6",
   "metadata": {},
   "source": [
    "## URL Formatting "
   ]
  },
  {
   "cell_type": "code",
   "execution_count": 12,
   "id": "e54eb71e",
   "metadata": {},
   "outputs": [
    {
     "name": "stdout",
     "output_type": "stream",
     "text": [
      "https://google.com\n",
      "https://airbnb.com\n",
      "https://twitter.com\n",
      "https://facebook.com\n",
      "https://tiktok.com\n"
     ]
    }
   ],
   "source": [
    "for website in websites: # each(itertation variable)는 place holder\n",
    "    if not website.startswith(\"https://\"): # == False\n",
    "        website = f\"https://{website}\"\n",
    "    print(website)\n",
    "        \n",
    "        \n"
   ]
  },
  {
   "cell_type": "markdown",
   "id": "83d5a730",
   "metadata": {},
   "source": [
    "## Requests \n",
    "---\n",
    "pypi.org(파이피) : 다른 사람이 만든 project나 module을 모아둔 곳\n",
    "> search projects(검색) >> image >> pygoogle-image 1.0.0(구글 이미지들에서 이미지들을 다운받는 패키지)\n",
    "\n",
    "requests 2.28.1라는 프로젝트를 사용할 것\n",
    "- 파이썬 코드에서 웹사이트로 request 보내는 걸 할 수 있게 해줌\n",
    "    - e.g., 브라우저가 구글서버에 request를 보내면 Google 서버가 웹사이트를 보내준다.\n",
    "    \n",
    "requests.get(url)의 return Response의 데이터 타입\n",
    "`<class 'requests.models.Response'>`\n",
    "\n",
    "\n",
    "[mdn web_docs](https://debeloper.mozilla.org)에서 http 상태 코드를 찾아볼 수 있음 : \n",
    "- 인터넷은 HTTP protocol에 기반한다고 말할 수 있다.\n",
    "- 컴퓨터들이 서로 소통하는 방식은 HTTP requests\n",
    "- 상태코드 \n",
    "    - 200 : OK\n",
    "    - 400번대 : 문제가 있음\n",
    "- return 값 : get으로 받은 response는 숫자가 아니기 때문에 `.status_code` 라는 속성으로 확인한다.\n",
    "\n"
   ]
  },
  {
   "cell_type": "code",
   "execution_count": 23,
   "id": "64215dbe",
   "metadata": {},
   "outputs": [
    {
     "name": "stdout",
     "output_type": "stream",
     "text": [
      "{'https://google.com': 'OK', 'https://airbnb.com': 'OK', 'https://twitter.com': 'OK', 'https://facebook.com': 'OK', 'https://tiktok.com': 'OK'}\n"
     ]
    }
   ],
   "source": [
    "from requests import get\n",
    "\n",
    "results = {}\n",
    "\n",
    "for website in websites: \n",
    "    if not website.startswith(\"https://\"):\n",
    "        website = f\"https://{website}\"\n",
    "    response = get(website) # <response>를 return 해준다.\n",
    "    if response.status_code == 200:\n",
    "        results[website] = \"OK\"\n",
    "    else:\n",
    "        results[website] = \"FAILED\"\n",
    "\n",
    "print(results)"
   ]
  },
  {
   "cell_type": "markdown",
   "id": "cdeb5929",
   "metadata": {},
   "source": [
    "## Recap\n",
    "```python\n",
    "if code >= 500:\n",
    "results[website] = \"5xx / server error\"\n",
    "elif code >= 400:\n",
    "results[website] = \"4xx / client error\"\n",
    "elif code >= 300:\n",
    "results[website] = \"3xx / redirection \"\n",
    "elif code >= 200:\n",
    "results[website] = \"2xx / successful\"\n",
    "elif code >= 100:\n",
    "results[website] = \"1xx / informational response\"\n",
    "```"
   ]
  },
  {
   "cell_type": "code",
   "execution_count": 24,
   "id": "6b7e87fa",
   "metadata": {},
   "outputs": [
    {
     "name": "stdout",
     "output_type": "stream",
     "text": [
      "{'https://google.com': 'OK', 'https://airbnb.com': 'OK', 'https://twitter.com': 'OK', 'https://facebook.com': 'OK', 'https://tiktok.com': 'OK'}\n"
     ]
    }
   ],
   "source": [
    "results = {}\n",
    "\n",
    "for website in websites: \n",
    "    if not website.startswith(\"https://\"):\n",
    "        website = f\"https://{website}\"\n",
    "    response = get(website) # <response>를 return 해준다.\n",
    "    if response.status_code == 200:\n",
    "        results[website] = \"OK\"\n",
    "    # 300번대의 redirect(다른 페이지로 이동, 307 : 일시적으로 다른 페이지로 이동, 308 : 영구적 다른 페이지 이동) 상태 코드 처리\n",
    "    elif 200 < response.status_code < 400  :\n",
    "        results[website] = \"Redirected\"\n",
    "    # 현재는 200이 아니면 모두 error로 봄\n",
    "    else:\n",
    "        results[website] = \"FAILED\"\n",
    "\n",
    "print(results)"
   ]
  },
  {
   "cell_type": "code",
   "execution_count": null,
   "id": "665e77d9",
   "metadata": {},
   "outputs": [],
   "source": []
  }
 ],
 "metadata": {
  "kernelspec": {
   "display_name": "Python 3 (ipykernel)",
   "language": "python",
   "name": "python3"
  },
  "language_info": {
   "codemirror_mode": {
    "name": "ipython",
    "version": 3
   },
   "file_extension": ".py",
   "mimetype": "text/x-python",
   "name": "python",
   "nbconvert_exporter": "python",
   "pygments_lexer": "ipython3",
   "version": "3.9.13"
  },
  "toc": {
   "base_numbering": 1,
   "nav_menu": {},
   "number_sections": true,
   "sideBar": true,
   "skip_h1_title": false,
   "title_cell": "Table of Contents",
   "title_sidebar": "Contents",
   "toc_cell": false,
   "toc_position": {},
   "toc_section_display": true,
   "toc_window_display": false
  }
 },
 "nbformat": 4,
 "nbformat_minor": 5
}
