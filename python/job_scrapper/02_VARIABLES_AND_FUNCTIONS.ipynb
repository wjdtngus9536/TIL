{
 "cells": [
  {
   "cell_type": "markdown",
   "id": "5d6a2ed2",
   "metadata": {},
   "source": [
    "# VARIABLES AND FUNCTIONS\n",
    "---"
   ]
  },
  {
   "cell_type": "markdown",
   "id": "4de2c613",
   "metadata": {},
   "source": [
    "## 2. Booleans and Strings\n",
    "False랑 True는 대문자로 써야함"
   ]
  },
  {
   "cell_type": "markdown",
   "id": "a5b69838",
   "metadata": {},
   "source": [
    "## 3. Recap\n"
   ]
  }
 ],
 "metadata": {
  "kernelspec": {
   "display_name": "Python 3 (ipykernel)",
   "language": "python",
   "name": "python3"
  },
  "language_info": {
   "codemirror_mode": {
    "name": "ipython",
    "version": 3
   },
   "file_extension": ".py",
   "mimetype": "text/x-python",
   "name": "python",
   "nbconvert_exporter": "python",
   "pygments_lexer": "ipython3",
   "version": "3.9.13"
  }
 },
 "nbformat": 4,
 "nbformat_minor": 5
}
