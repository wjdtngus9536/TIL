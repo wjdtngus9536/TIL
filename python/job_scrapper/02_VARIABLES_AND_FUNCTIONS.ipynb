{
 "cells": [
  {
   "cell_type": "markdown",
   "id": "5d6a2ed2",
   "metadata": {},
   "source": [
    "# VARIABLES AND FUNCTIONS\n",
    "---"
   ]
  },
  {
   "cell_type": "markdown",
   "id": "4de2c613",
   "metadata": {},
   "source": [
    "## 2. Booleans and Strings\n",
    "False랑 True는 대문자로 써야함"
   ]
  },
  {
   "cell_type": "markdown",
   "id": "a5b69838",
   "metadata": {},
   "source": [
    "## 3. Recap\n"
   ]
  },
  {
   "cell_type": "markdown",
   "id": "e6d8f0d7",
   "metadata": {},
   "source": [
    "##  4. Function\n",
    "정의 방법\n",
    "```python\n",
    "def function_name():\n",
    "    print('hello how r u?')\n",
    "```"
   ]
  },
  {
   "cell_type": "code",
   "execution_count": 4,
   "id": "e6bebc48",
   "metadata": {},
   "outputs": [
    {
     "name": "stdout",
     "output_type": "stream",
     "text": [
      "hello how r u?\n"
     ]
    }
   ],
   "source": [
    "def function_name():\n",
    "    print('hello how r u?')\n",
    "    \n",
    "function_name()"
   ]
  },
  {
   "cell_type": "markdown",
   "id": "9d30c61f",
   "metadata": {},
   "source": [
    "## 5. indentation\n"
   ]
  },
  {
   "cell_type": "markdown",
   "id": "f6c77b13",
   "metadata": {},
   "source": [
    "## 6. Parameters\n",
    "함수에 데이터가 들어갈 수 있는 공간(변수)을 제공\n",
    "argument : 실제로 전달한 데이터\n",
    "```python\n",
    "---------------------------------------------------------------------------\n",
    "TypeError                                 Traceback (most recent call last)\n",
    "~\\AppData\\Local\\Temp\\ipykernel_13268\\4166441742.py in <module>\n",
    "      1 def alert():\n",
    "      2     print(\"warning!!!\")\n",
    "----> 3 alert(\"error detected\")\n",
    "\n",
    "TypeError: alert() takes 0 positional arguments but 1 was given\n",
    "```\n",
    "파라미터 없이 함수에 argument(인자)를 전달하면 TypeError 발생"
   ]
  },
  {
   "cell_type": "code",
   "execution_count": 2,
   "id": "93707f0c",
   "metadata": {},
   "outputs": [
    {
     "ename": "TypeError",
     "evalue": "alert() missing 1 required positional argument: 'error'",
     "output_type": "error",
     "traceback": [
      "\u001b[1;31m---------------------------------------------------------------------------\u001b[0m",
      "\u001b[1;31mTypeError\u001b[0m                                 Traceback (most recent call last)",
      "\u001b[1;32m~\\AppData\\Local\\Temp\\ipykernel_13268\\2577732705.py\u001b[0m in \u001b[0;36m<module>\u001b[1;34m\u001b[0m\n\u001b[0;32m      1\u001b[0m \u001b[1;32mdef\u001b[0m \u001b[0malert\u001b[0m\u001b[1;33m(\u001b[0m\u001b[0merror\u001b[0m\u001b[1;33m)\u001b[0m\u001b[1;33m:\u001b[0m\u001b[1;33m\u001b[0m\u001b[1;33m\u001b[0m\u001b[0m\n\u001b[0;32m      2\u001b[0m     \u001b[0mprint\u001b[0m\u001b[1;33m(\u001b[0m\u001b[1;34m\"warning!!!\"\u001b[0m\u001b[1;33m,\u001b[0m \u001b[0merror\u001b[0m\u001b[1;33m)\u001b[0m\u001b[1;33m\u001b[0m\u001b[1;33m\u001b[0m\u001b[0m\n\u001b[1;32m----> 3\u001b[1;33m \u001b[0malert\u001b[0m\u001b[1;33m(\u001b[0m\u001b[1;33m)\u001b[0m\u001b[1;33m\u001b[0m\u001b[1;33m\u001b[0m\u001b[0m\n\u001b[0m",
      "\u001b[1;31mTypeError\u001b[0m: alert() missing 1 required positional argument: 'error'"
     ]
    }
   ],
   "source": [
    "def alert(error):\n",
    "    print(\"warning!!!\", error)\n",
    "alert()"
   ]
  },
  {
   "cell_type": "markdown",
   "id": "0e354caf",
   "metadata": {},
   "source": [
    "## 7.  Multiple Parameters\n",
    "parameter, 함수로 전달하는 데이터를 담기 위한 그릇\n",
    "\n",
    "*"
   ]
  },
  {
   "cell_type": "markdown",
   "id": "cfb7629d",
   "metadata": {},
   "source": [
    "## 8. Recap"
   ]
  },
  {
   "cell_type": "markdown",
   "id": "fc0473b6",
   "metadata": {},
   "source": [
    "## 9. Default Parameters \n",
    "argument가 전달되지 않아도 Error를 내지 않는 법  \n",
    "메세지를 출력하는건 사용자 경험에서 좋지 않다."
   ]
  },
  {
   "cell_type": "code",
   "execution_count": 3,
   "id": "25c7d73a",
   "metadata": {},
   "outputs": [
    {
     "name": "stdout",
     "output_type": "stream",
     "text": [
      "hello nico\n",
      "hello anonymous\n"
     ]
    }
   ],
   "source": [
    "def say_hello(user_name=\"anonymous\"):\n",
    "    print('hello', user_name)\n",
    "    \n",
    "say_hello(\"nico\")\n",
    "say_hello()"
   ]
  },
  {
   "cell_type": "code",
   "execution_count": 8,
   "id": "62a8988b",
   "metadata": {},
   "outputs": [
    {
     "name": "stdout",
     "output_type": "stream",
     "text": [
      "3\n",
      "-1\n",
      "2\n",
      "0.5\n",
      "1\n",
      "0\n",
      "0\n",
      "0\n",
      "0.0\n",
      "0\n"
     ]
    }
   ],
   "source": [
    "def plus(a = 0, b = 0):\n",
    "    print(a + b)    \n",
    "def minus(a = 0, b = 0):\n",
    "    print(a - b)    \n",
    "def mul(a = 0, b = 0):\n",
    "    print(a * b)    \n",
    "def div(a = 0, b = 1):\n",
    "    print(a / b)    \n",
    "def power(a = 0, b = 1):\n",
    "    print(a ** b)\n",
    "    \n",
    "plus(1, 2)\n",
    "minus(1, 2)\n",
    "mul(1, 2)\n",
    "div(1, 2)\n",
    "power(1, 2)\n",
    "\n",
    "plus()\n",
    "minus()\n",
    "mul()\n",
    "div()\n",
    "power()"
   ]
  },
  {
   "cell_type": "markdown",
   "id": "47445013",
   "metadata": {},
   "source": [
    "## 10. Return values\n",
    "함수로 부터 값을 받아내는 키워드\n",
    "해당 함수에서 파이썬이 실행시킬 마지막 코드, 함수가 호출된 위치로 돌아간다."
   ]
  },
  {
   "cell_type": "markdown",
   "id": "d5298909",
   "metadata": {},
   "source": [
    "## 11. Return recap\n"
   ]
  },
  {
   "cell_type": "code",
   "execution_count": 9,
   "id": "72be59d8",
   "metadata": {},
   "outputs": [
    {
     "name": "stdout",
     "output_type": "stream",
     "text": [
      "Hello I'm nico, I have 12 years in the earth, brown is my eye color\n"
     ]
    }
   ],
   "source": [
    "my_name = 'nico'\n",
    "my_age = 12\n",
    "my_color_eyes = 'brown'\n",
    "\n",
    "print(f\"Hello I'm {my_name}, I have {my_age} years in the earth, {my_color_eyes} is my eye color\") "
   ]
  },
  {
   "cell_type": "code",
   "execution_count": 12,
   "id": "a4d3280b",
   "metadata": {},
   "outputs": [
    {
     "name": "stdout",
     "output_type": "stream",
     "text": [
      "🍎+🥤+🧊+🍬\n"
     ]
    }
   ],
   "source": [
    "def make_juice(fruit):\n",
    "    return f\"{fruit}+🥤\"\n",
    "\n",
    "def add_ice(juice):\n",
    "    return f\"{juice}+🧊\"\n",
    "\n",
    "def add_sugar(iced_juice):\n",
    "    return f\"{iced_juice}+🍬\"\n",
    "\n",
    "juice = make_juice(\"🍎\")\n",
    "cold_juice = add_ice(juice)\n",
    "perfect_juice = add_sugar(cold_juice)\n",
    "print(perfect_juice)"
   ]
  },
  {
   "cell_type": "code",
   "execution_count": null,
   "id": "6272669a",
   "metadata": {},
   "outputs": [],
   "source": []
  }
 ],
 "metadata": {
  "kernelspec": {
   "display_name": "Python 3 (ipykernel)",
   "language": "python",
   "name": "python3"
  },
  "language_info": {
   "codemirror_mode": {
    "name": "ipython",
    "version": 3
   },
   "file_extension": ".py",
   "mimetype": "text/x-python",
   "name": "python",
   "nbconvert_exporter": "python",
   "pygments_lexer": "ipython3",
   "version": "3.9.13"
  }
 },
 "nbformat": 4,
 "nbformat_minor": 5
}
