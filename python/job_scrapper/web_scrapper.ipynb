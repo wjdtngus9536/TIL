{
 "cells": [
  {
   "cell_type": "markdown",
   "id": "b5ee3a52",
   "metadata": {},
   "source": [
    "# Web scrapper\n",
    "---"
   ]
  },
  {
   "cell_type": "code",
   "execution_count": 10,
   "id": "e598b1a8",
   "metadata": {},
   "outputs": [],
   "source": [
    "# conda install beautifulsoup4"
   ]
  },
  {
   "cell_type": "code",
   "execution_count": 3,
   "id": "ac3a7d8d",
   "metadata": {},
   "outputs": [],
   "source": [
    "import bs4\n",
    "import requests"
   ]
  },
  {
   "cell_type": "code",
   "execution_count": 17,
   "id": "102a204d",
   "metadata": {},
   "outputs": [
    {
     "name": "stdout",
     "output_type": "stream",
     "text": [
      "//////////////////////////\n",
      "\n",
      "//////////////////////////\n",
      "\n",
      "{'link': 'https://weworkremotely.com//remote-jobs/eight-full-stack-developer-node-js-react', 'company': 'Eight', 'region': 'UK Only', 'position': 'Full Stack Developer (Node.js/React)'}\n",
      "///////////////\n",
      "{'link': 'https://weworkremotely.com//remote-jobs/g2i-inc-senior-react-developer-remote', 'company': 'G2i Inc.', 'region': 'Americas Only/Europe Only', 'position': 'Senior React Developer - Remote'}\n",
      "///////////////\n",
      "{'link': 'https://weworkremotely.com//remote-jobs/g2i-inc-fullstack-developer-react-react-native-node-js-remote', 'company': 'G2i Inc.', 'region': 'Americas Only/Europe Only', 'position': 'Fullstack Developer (React, React Native, Node.js) - Remote'}\n",
      "///////////////\n",
      "{'link': 'https://weworkremotely.com//remote-jobs/proxify-ab-senior-react-native-developer-long-term-job-100-remote', 'company': 'Proxify AB', 'region': 'Anywhere in the World', 'position': 'Senior React Native Developer: Long-term job - 100% remote'}\n",
      "///////////////\n",
      "{'link': 'https://weworkremotely.com//remote-jobs/opencraft-senior-open-source-developer-devops-python-django-react-aws-openstack', 'company': 'OpenCraft', 'region': 'Anywhere in the World', 'position': 'Senior Open Source Developer & DevOps (Python, Django, React, AWS/OpenStack)'}\n",
      "///////////////\n",
      "{'link': 'https://weworkremotely.com//remote-jobs/clouddevs-fullstack-react-typescript-developer', 'company': 'CloudDevs', 'region': 'Anywhere in the World', 'position': 'Fullstack React Typescript Developer'}\n",
      "///////////////\n",
      "{'link': 'https://weworkremotely.com//remote-jobs/trustworthy-full-stack-software-engineer-react-python', 'company': 'Trustworthy', 'region': 'Anywhere in the World', 'position': 'Full Stack Software Engineer (React / Python)'}\n",
      "///////////////\n",
      "{'link': 'https://weworkremotely.com//remote-jobs/kickserv-senior-mobile-developer-react-native', 'company': 'Kickserv', 'region': 'Anywhere in the World', 'position': 'Senior Mobile Developer (React Native)'}\n",
      "///////////////\n",
      "{'link': 'https://weworkremotely.com//remote-jobs/8returns-senior-software-engineer-rails-react', 'company': '8returns', 'region': 'Europe Only', 'position': 'Senior Software Engineer (Rails, React)'}\n",
      "///////////////\n",
      "{'link': 'https://weworkremotely.com//remote-jobs/weflow-senior-full-stack-engineer-node-js-react', 'company': 'Weflow', 'region': 'Europe Only', 'position': 'Senior Full Stack Engineer (Node.js, React)'}\n",
      "///////////////\n",
      "{'link': 'https://weworkremotely.com//remote-jobs/g2i-inc-senior-frontend-developer-react-react-native-remote', 'company': 'G2i Inc.', 'region': 'Americas Only', 'position': 'Senior Frontend Developer (React/React Native) - Remote'}\n",
      "///////////////\n",
      "{'link': 'https://weworkremotely.com//remote-jobs/socialhub-reactjs-web-developer-remote-saas-m-f-d-1', 'company': 'SocialHub', 'region': 'Anywhere in the World', 'position': 'ReactJS Web Developer - Remote/SaaS (m/f/d)'}\n",
      "///////////////\n",
      "{'link': 'https://weworkremotely.com//remote-jobs/close-senior-or-staff-frontend-engineer-react-100-remote-2', 'company': 'Close', 'region': 'USA Only', 'position': 'Senior or Staff Frontend Engineer - React (100% Remote)'}\n",
      "///////////////\n",
      "{'link': 'https://weworkremotely.com//remote-jobs/lemon-io-react-native-developer', 'company': 'Lemon.io', 'region': 'Latin America Only/Europe Only/UK Only/Canada Only', 'position': 'React Native Developer'}\n",
      "///////////////\n",
      "{'link': 'https://weworkremotely.com//remote-jobs/airdao-react-native-mobile-front-end-developer', 'company': 'AirDAO', 'region': 'Anywhere in the World', 'position': 'React Native / Mobile / Front-End Developer '}\n",
      "///////////////\n",
      "{'link': 'https://weworkremotely.com//remote-jobs/innovation-upstream-inc-sr-frontend-developer-react-web3', 'company': 'Innovation Upstream Inc', 'region': 'Anywhere in the World', 'position': 'Sr. Frontend Developer (React/Web3)'}\n",
      "///////////////\n",
      "{'link': 'https://weworkremotely.com//remote-jobs/torc-senior-react-developer', 'company': 'Torc', 'region': 'Americas Only', 'position': 'Senior React Developer'}\n",
      "///////////////\n",
      "{'link': 'https://weworkremotely.com//remote-jobs/zeta-react-native-engineer', 'company': 'Zeta', 'region': 'USA Only', 'position': 'React Native Engineer'}\n",
      "///////////////\n"
     ]
    }
   ],
   "source": [
    "# 링크들만 엑셀에 저장하고자 함\n",
    "\n",
    "base_url = \"https://weworkremotely.com/remote-jobs/search?term=\"\n",
    "search_term = \"react\"\n",
    "\n",
    "response = requests.get(f\"{base_url}{search_term}\")\n",
    "# response dtype : <class 'requests.models.Response'>\n",
    "# 200(성공): 서버가 요청을 제대로 처리했다는 뜻\n",
    "if response.status_code != 200:\n",
    "    print('cant request website')\n",
    "else:\n",
    "    # jobs 클래스의 section 태그의 beautiful soup entitiy(jobs 변수)룰 job_section 변수에 반복 할당\n",
    "    # job_section 변수 안의 li 태그 중 view-all클래스는 제외하고 \n",
    "    # li에 있는 tooltip 클래스의 div 태그 속 로고를 표현할 뿐인 첫 번째 anchor를 제거한다. == 두 번째 anchor만 이용한다.\n",
    "    # 두 번째 a태그 안에 있는 span 태그에 접근\n",
    "    # 1. 링크는 href를 key로 찾으면 value값으로 찾을 수 있다.\n",
    "    # 2. 회사명은 리스트 복수할당을 이용하여 find_all()메소드로 span태그 중 class에 company가 들어가는 것들을 모두 찾아 html을 보고 적절한 순서로 변수명을 정하여 할당\n",
    "    # 3. 직함은 find()메소드로 title 클래스인 span태그를 찾는다. ※ find메서드를 쓰는 이유는 find_all()은 리스트를 가져오고 find()는 결과를 가져오기 때문에\n",
    "    results = []\n",
    "    soup = bs4.BeautifulSoup(response.text, 'html.parser')\n",
    "\n",
    "    jobs = soup.find_all('section', class_ = 'jobs')\n",
    "    # jobs 클래스의 section 태그의 beautiful soup entitiy(jobs 변수_iterable)룰 job_section 변수에 반복 할당\n",
    "    for job_section in jobs: # jobs 변수는 2개의 섹션 태그를 리스트를 갖고 있음\n",
    "        job_posts = job_section.find_all('li') # section태그 속 li태그 들을 전부 posts에 넣고\n",
    "        job_posts.pop(-1)\n",
    "        print(\"//////////////////////////\\n\")\n",
    "        for post in job_posts:\n",
    "            anchors = post.find_all('a') # li태그 속 a태그들을 anchors에 넣고\n",
    "            anchor = anchors[1]          # a 태그들 중 두 번째만 사용한다.\n",
    "            '''\n",
    "            # beautiful soup 속 html 태그들은 dictionary처럼 바뀐다.\n",
    "            # anchor의 자료형은 뭘까?? \n",
    "            # <class 'bs4.element.Tag'>\n",
    "            # href는 태그가 아니라 속성이지 않나? \n",
    "            '''\n",
    "            link = anchor['href'] # /remote-jobs/opencraft-senior-open-source-developer-devops-python-django-react-aws-openstack\n",
    "            company, kind, region = anchor.find_all('span', class_ = 'company')\n",
    "            title = anchor.find('span', class_='title')\n",
    "            # dict 자료형 생성이 2중 반복문 안에 있다. \n",
    "            job_data = {\n",
    "                'link' : f'https://weworkremotely.com/{link}',\n",
    "                'company' : company.string,\n",
    "                'region' : region.string,\n",
    "                'position' : title.string\n",
    "            }\n",
    "            results.append(job_data)\n",
    "            \n",
    "    for r in results:\n",
    "        print(r)\n",
    "        print('///////////////')\n",
    "            \n",
    "# 5,8 Saving Results : 결과값에 태그를 제외하고 안의 텍스트만 추출하는 법 .string이라는 메소드 사용\n",
    "# If a tag has only one child, and that child is a **navigableString**, the child is made available as .string\n",
    "# e.g., beautifulsoup_element.string"
   ]
  }
 ],
 "metadata": {
  "kernelspec": {
   "display_name": "Python 3 (ipykernel)",
   "language": "python",
   "name": "python3"
  },
  "language_info": {
   "codemirror_mode": {
    "name": "ipython",
    "version": 3
   },
   "file_extension": ".py",
   "mimetype": "text/x-python",
   "name": "python",
   "nbconvert_exporter": "python",
   "pygments_lexer": "ipython3",
   "version": "3.10.9"
  }
 },
 "nbformat": 4,
 "nbformat_minor": 5
}
